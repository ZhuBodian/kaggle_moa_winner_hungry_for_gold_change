{
 "cells": [
  {
   "cell_type": "code",
   "execution_count": 1,
   "metadata": {
    "execution": {
     "iopub.execute_input": "2020-11-22T16:07:47.821830Z",
     "iopub.status.busy": "2020-11-22T16:07:47.821023Z",
     "iopub.status.idle": "2020-11-22T16:07:49.329586Z",
     "shell.execute_reply": "2020-11-22T16:07:49.328896Z"
    },
    "papermill": {
     "duration": 1.531146,
     "end_time": "2020-11-22T16:07:49.329729",
     "exception": false,
     "start_time": "2020-11-22T16:07:47.798583",
     "status": "completed"
    },
    "tags": []
   },
   "outputs": [],
   "source": [
    "\"\"\"\n",
    "[Best LB]\n",
    "Blend 5 Models:\n",
    "* kibuna-nn-hs-1024-last-train (aka. 2stage-NN, LB: 0.01822)\n",
    "* deepinsight-efficientnet-v7-b3-infer (LB: 0.01850)\n",
    "* deepinsight_resnest_lightning_v2_infer (LB: 0.01854)\n",
    "* 503-203-tabnet-with-nonscored-features (LB: 0.01836)\n",
    "* simpleNN-oldcv (LB: 0.01836)\n",
    "* simpleNN-newcv (LB: 0.01836)\n",
    "* fork-of-2heads-looper-super-puper-markpeng-infer (LB: 0.1836)\n",
    "\n",
    "[Best CV]\n",
    "Blend 5 Models:\n",
    "* kibuna-nn-hs-1024-last-train (aka. 2stage-NN, LB: 0.01822)\n",
    "* deepinsight-efficientnet-v7-b3-infer (LB: 0.01850)\n",
    "* deepinsight_resnest_lightning_v2_infer (LB: 0.01854)\n",
    "* deepinsight_resnest_lightning_v1_infer (LB: 0.01853)\n",
    "* improving-mark-s-2-heads-model-infer.py (LB: 0.1844)\n",
    "\n",
    "Removed for now due to low weights:\n",
    "* 503-203-tabnet-with-nonscored-features (LB: 0.01836)\n",
    "* simpleNN-oldcv (LB: 0.01836)\n",
    "* fork-of-2heads-looper-super-puper-markpeng-infer (LB: 0.1836)\n",
    "\n",
    "\"\"\"\n",
    "\n",
    "kernel_mode = False\n",
    "\n",
    "import os\n",
    "import numpy as np\n",
    "import pandas as pd\n",
    "import time\n",
    "import random\n",
    "import math\n",
    "import datetime\n",
    "import glob\n",
    "\n",
    "pd.set_option('display.max_rows', None)\n",
    "\n",
    "from numba import njit\n",
    "from scipy.optimize import minimize, fsolve\n",
    "\n",
    "import optuna\n",
    "\n",
    "import warnings\n",
    "warnings.filterwarnings('ignore')\n",
    "\n",
    "import seaborn as sns\n",
    "import matplotlib.pyplot as plt\n",
    "\n",
    "import gc\n",
    "gc.enable()\n",
    "\n",
    "rand_seed = 1120\n",
    "\n",
    "search_mode = True\n",
    "run_submit_script = False\n",
    "\n",
    "method = \"CV\"\n",
    "# method = \"scipy\"\n",
    "# method = \"optuna\"\n",
    "study_name = \"moa_blend_team_v7\"\n",
    "# n_trials = 500\n",
    "# n_trials = 3000\n",
    "n_trials = 5000"
   ]
  },
  {
   "cell_type": "markdown",
   "metadata": {},
   "source": [
    "# Best CV"
   ]
  },
  {
   "cell_type": "code",
   "execution_count": 41,
   "metadata": {
    "execution": {
     "iopub.execute_input": "2020-11-22T16:07:59.482699Z",
     "iopub.status.busy": "2020-11-22T16:07:59.481671Z",
     "iopub.status.idle": "2020-11-22T16:07:59.486348Z",
     "shell.execute_reply": "2020-11-22T16:07:59.487900Z"
    },
    "papermill": {
     "duration": 0.034902,
     "end_time": "2020-11-22T16:07:59.488095",
     "exception": false,
     "start_time": "2020-11-22T16:07:59.453193",
     "status": "completed"
    },
    "tags": []
   },
   "outputs": [],
   "source": [
    "dataset_folder = \"../input/lish-moa\" if kernel_mode else \"/workspace/Kaggle/MoA/\"\n",
    "\n",
    "# Add your model inference script here\n",
    "# Tuple Format: (script, oof_filename, output_filename, weight)\n",
    "model_list = [\n",
    "    # 10 folds\n",
    "    (\"2stageNN_with_ns_oldcv_10folds.py\" if kernel_mode else\n",
    "     \"../../Github/kaggle_moa_team/scripts/2stageNN_with_ns_oldcv_10folds.py\",\n",
    "     \"../../Github/kaggle_moa_team/oof/oof_2stageNN_ns_oldcv_10folds.npy\",\n",
    "     \"submission_2stageNN_with_ns_oldcv_10folds.csv\", 0.36295047115403034),\n",
    "\n",
    "    #     (\"script_simpleNN_oldcv_10folds.py\" if kernel_mode else \"../../Github/kaggle_moa_team/scripts/script_simpleNN_oldcv_10folds.py\",\n",
    "    #      \"../../Github/kaggle_moa_team/oof/oof_NN_oldcv_10fold.npy\",\n",
    "    #      \"submission_script_simpleNN_oldcv_10folds.csv\",\n",
    "    #      0.00019665601658366993),\n",
    "\n",
    "    #     (\"2stageNN_with_ns_oldcv.py\" if kernel_mode else \"../../Github/kaggle_moa_team/scripts/2stageNN_with_ns_oldcv.py\",\n",
    "    #      \"../../Github/kaggle_moa_team/oof/oof_2stageNN_ns_oldcv.npy\",\n",
    "    #      \"submission_2stageNN_with_ns_oldcv_0.01822.csv\",\n",
    "    #      0.323528084383917),\n",
    "\n",
    "    #     (\"script_simpleNN_oldcv.py\" if kernel_mode else \"../../Github/kaggle_moa_team/scripts/script_simpleNN_oldcv.py\",\n",
    "    #      \"../../Github/kaggle_moa_team/oof/oof_script_simpleNN_oldcv.npy\",\n",
    "    #      \"submission_script_simpleNN_oldcv_0.01836.csv\",\n",
    "    #      0.08786476491118465),\n",
    "\n",
    "    #     (\"fork-of-2heads-looper-super-puper-markpeng-infer.py\" if kernel_mode else \"../../Github/kaggle_moa_team/scripts/fork-of-2heads-looper-super-puper-markpeng-infer.py\",\n",
    "    #      \"../../Github/kaggle_moa_team/oof/oof_fork-of-2heads-looper-super-puper-markpeng.npy\",\n",
    "    #      \"submission_2heads-looper-super-puper_0.01836.csv\",\n",
    "    #      0.018966959973949222),\n",
    "    (\"improving-mark-s-2-heads-model-infer.py\" if kernel_mode else\n",
    "     \"../../Github/kaggle_moa_team/scripts/improving-mark-s-2-heads-model-infer.py\",\n",
    "     \"../../Github/kaggle_moa_team/oof/oof_improving-mark-s-2-heads-model_0.015660083675738144.npy\",\n",
    "     \"submission_improving-mark-s-2-heads-model.csv\", 0.10383226438101152),\n",
    "    (\"deepinsight_efficientnet_lightning_v7_b3_infer.py\" if kernel_mode else\n",
    "     \"../../Github/kaggle_moa_team/scripts/deepinsight_efficientnet_lightning_v7_b3_infer.py\",\n",
    "     \"../../Github/kaggle_moa_team/oof/oof_deepinsight_efficientnet_lightning_v7_b3_0.01850.npy\",\n",
    "     \"submission_effnet_v7_b3_0.01850.csv\", 0.16907012564901389),\n",
    "    (\"deepinsight_resnest_lightning_v1_infer.py\" if kernel_mode else\n",
    "     \"../../Github/kaggle_moa_team/scripts/deepinsight_resnest_lightning_v1_infer.py\",\n",
    "     \"../../Github/kaggle_moa_team/oof/oof_deepinsight_ResNeSt_v1_resnest50_0.014619621213185928.npy\",\n",
    "     \"submission_resnest_v1_0.01853.csv\", 0.10211240990528128),\n",
    "    (\"deepinsight_resnest_lightning_v2_infer.py\" if kernel_mode else\n",
    "     \"../../Github/kaggle_moa_team/scripts/deepinsight_resnest_lightning_v2_infer.py\",\n",
    "     \"../../Github/kaggle_moa_team/oof/oof_deepinsight_ResNeSt_v2_resnest50_0.01854.npy\",\n",
    "     \"submission_resnest_v2_0.01854.csv\", 0.26308884808653726),\n",
    "\n",
    "    #     (\"script_tabnet_ns_oldcv.py\" if kernel_mode else \"../../Github/kaggle_moa_team/scripts/script_tabnet_ns_oldcv.py\",\n",
    "    #      \"../../Github/kaggle_moa_team/oof/oof_tabnet_ns_oldcv.npy\",\n",
    "    #      \"submission_tabnet_ns_oldcv_0.01836.csv\",\n",
    "    #      0.0013224625996093413),\n",
    "]\n",
    "\n",
    "# model_names = [\n",
    "#     '3stageNN 10folds', 'SimgpleNN 10folds', '2heads ResNet',\n",
    "#     'Efficientnet B3 v7', 'ResNeSt v1', 'ResNeSt v2'\n",
    "# ]\n",
    "model_names = [\n",
    "    '3-stage NN 10-folds', '2-heads ResNet V2', 'EfficientNet B3 NS', 'ResNeSt V1',\n",
    "    'ResNeSt V2'\n",
    "]\n",
    "\n",
    "model_path = \".\" if kernel_mode else dataset_folder"
   ]
  },
  {
   "cell_type": "code",
   "execution_count": 3,
   "metadata": {
    "execution": {
     "iopub.execute_input": "2020-11-22T16:07:59.535457Z",
     "iopub.status.busy": "2020-11-22T16:07:59.534643Z",
     "iopub.status.idle": "2020-11-22T16:08:00.303180Z",
     "shell.execute_reply": "2020-11-22T16:08:00.303752Z"
    },
    "papermill": {
     "duration": 0.797221,
     "end_time": "2020-11-22T16:08:00.303937",
     "exception": false,
     "start_time": "2020-11-22T16:07:59.506716",
     "status": "completed"
    },
    "tags": []
   },
   "outputs": [],
   "source": [
    "train_features = pd.read_csv(f\"{dataset_folder}/train_features.csv\",\n",
    "                             engine='c')\n",
    "train_labels = pd.read_csv(f'{dataset_folder}/train_targets_scored.csv',\n",
    "                           engine='c')\n",
    "train_classes = [c for c in train_labels.columns if c != \"sig_id\"]\n",
    "\n",
    "non_control_group_rows = train_features[\"cp_type\"] == \"trt_cp\"\n",
    "non_control_group_train_labels = train_labels.loc[\n",
    "    non_control_group_rows, :].copy().reset_index(drop=True)\n",
    "\n",
    "submission = pd.read_csv(f'{dataset_folder}/sample_submission.csv')\n",
    "submission.iloc[:, 1:] = 0"
   ]
  },
  {
   "cell_type": "code",
   "execution_count": 4,
   "metadata": {
    "execution": {
     "iopub.execute_input": "2020-11-22T16:08:00.340378Z",
     "iopub.status.busy": "2020-11-22T16:08:00.338486Z",
     "iopub.status.idle": "2020-11-22T16:08:00.341900Z",
     "shell.execute_reply": "2020-11-22T16:08:00.342449Z"
    },
    "papermill": {
     "duration": 0.02445,
     "end_time": "2020-11-22T16:08:00.342614",
     "exception": false,
     "start_time": "2020-11-22T16:08:00.318164",
     "status": "completed"
    },
    "tags": []
   },
   "outputs": [],
   "source": [
    "def mean_logloss(y_pred, y_true):\n",
    "    logloss = (1 - y_true) * np.log(1 - y_pred +\n",
    "                                    1e-15) + y_true * np.log(y_pred + 1e-15)\n",
    "    return np.nanmean(-logloss)\n",
    "\n",
    "\n",
    "def save_pickle(obj, folder, name):\n",
    "    dump(obj, open(f\"{folder}/{name}.pkl\", 'wb'), pickle.HIGHEST_PROTOCOL)\n",
    "\n",
    "\n",
    "def load_pickle(path):\n",
    "    return load(open(path, 'rb'))"
   ]
  },
  {
   "cell_type": "code",
   "execution_count": 5,
   "metadata": {},
   "outputs": [],
   "source": [
    "# Reference: https://www.kaggle.com/gogo827jz/optimise-blending-weights-with-bonus-0/notebook\n",
    "# CPMP's logloss from https://www.kaggle.com/c/lish-moa/discussion/183010\n",
    "def log_loss_numpy(y_pred, y_true):\n",
    "    y_true_ravel = np.asarray(y_true).ravel()\n",
    "    y_pred = np.asarray(y_pred).ravel()\n",
    "    y_pred = np.clip(y_pred, 1e-15, 1 - 1e-15)\n",
    "    loss = np.where(y_true_ravel == 1, -np.log(y_pred),\n",
    "                    -np.log(1 - y_pred))\n",
    "    return loss.mean()\n",
    "\n",
    "def func_numpy_metric(weights):\n",
    "    oof_blend = np.tensordot(weights, all_oof, axes=((0), (0)))\n",
    "    return log_loss_numpy(oof_blend, y_true)\n",
    "\n",
    "@njit\n",
    "def grad_func_jit(weights):\n",
    "    oof_clip = np.minimum(1 - 1e-15, np.maximum(all_oof, 1e-15))\n",
    "    gradients = np.zeros(all_oof.shape[0])\n",
    "    for i in range(all_oof.shape[0]):\n",
    "        a, b, c = y_true, oof_clip[i], np.zeros(\n",
    "            (all_oof.shape[1], all_oof.shape[2]))\n",
    "        for j in range(oof.shape[0]):\n",
    "            if j != i:\n",
    "                c += weights[j] * oof_clip[j]\n",
    "        gradients[i] = -np.mean(\n",
    "            (-a * b + (b**2) * weights[i] + b * c) /\n",
    "            ((b**2) *\n",
    "             (weights[i]**2) + 2 * b * c * weights[i] - b * weights[i] +\n",
    "             (c**2) - c))\n",
    "    return gradients"
   ]
  },
  {
   "cell_type": "markdown",
   "metadata": {
    "heading_collapsed": true
   },
   "source": [
    "## TPE (Tree-structured Parzen Estimator) and Sequential Least Squares Programming (SLSQP)\n",
    "https://optuna.readthedocs.io/en/stable/reference/generated/optuna.samplers.TPESampler.html#optuna.samplers.TPESampler\n",
    "\n",
    "https://docs.scipy.org/doc/scipy/reference/optimize.minimize-slsqp.html"
   ]
  },
  {
   "cell_type": "code",
   "execution_count": 6,
   "metadata": {
    "hidden": true
   },
   "outputs": [],
   "source": [
    "def run_inference_scripts(submission, weights=None, target_weights=None):\n",
    "    for i, (script, oof_filename, output_filename, weight) in enumerate(model_list):\n",
    "        print(f\"Generating submission file from {script} ......\")\n",
    "        infer_start = time.time()\n",
    "        !python {model_path}/{script}\n",
    "        infer_elapsed = time.time() - infer_start\n",
    "        print(f\"Time spent on inference: {infer_elapsed/60:.2f} minutes.\")\n",
    "\n",
    "        model_submit = pd.read_csv(output_filename, engine='c')\n",
    "        print(model_submit.head(5))\n",
    "        print(model_submit.shape)\n",
    "\n",
    "        if target_weights is not None:\n",
    "            for j, target in enumerate(train_classes):\n",
    "                print(f\"Blending {script} for {target} with weight: {optimized_target_weights[j][i]} ......\")\n",
    "                submission.iloc[:, j+1] += model_submit.iloc[:, j+1] * optimized_target_weights[j][i]\n",
    "        elif weights is None:\n",
    "            print(f\"Blending {script} with weight: {weight} ......\")\n",
    "            submission.iloc[:, 1:] += weight * model_submit.iloc[:, 1:]\n",
    "        else:\n",
    "            print(f\"Blending {script} with weight: {weights[i]} ......\")\n",
    "            submission.iloc[:, 1:] += weights[i] * model_submit.iloc[:, 1:]\n",
    "\n",
    "    return submission"
   ]
  },
  {
   "cell_type": "code",
   "execution_count": 7,
   "metadata": {
    "execution": {
     "iopub.execute_input": "2020-11-22T16:08:00.401604Z",
     "iopub.status.busy": "2020-11-22T16:08:00.384877Z",
     "iopub.status.idle": "2020-11-22T16:30:58.239825Z",
     "shell.execute_reply": "2020-11-22T16:30:58.238616Z"
    },
    "hidden": true,
    "papermill": {
     "duration": 1377.882267,
     "end_time": "2020-11-22T16:30:58.240001",
     "exception": false,
     "start_time": "2020-11-22T16:08:00.357734",
     "status": "completed"
    },
    "scrolled": false,
    "tags": []
   },
   "outputs": [
    {
     "name": "stdout",
     "output_type": "stream",
     "text": [
      "(5, 21948, 206)\n",
      "Loading OOF from ../../Github/kaggle_moa_team/oof/oof_2stageNN_ns_oldcv_10folds.npy ......\n",
      "OOF Validation Loss of ../../Github/kaggle_moa_team/scripts/2stageNN_with_ns_oldcv_10folds.py: 0.015461\n",
      "\n",
      "Loading OOF from ../../Github/kaggle_moa_team/oof/oof_improving-mark-s-2-heads-model_0.015660083675738144.npy ......\n",
      "OOF Validation Loss of ../../Github/kaggle_moa_team/scripts/improving-mark-s-2-heads-model-infer.py: 0.015660\n",
      "\n",
      "Loading OOF from ../../Github/kaggle_moa_team/oof/oof_deepinsight_efficientnet_lightning_v7_b3_0.01850.npy ......\n",
      "OOF Validation Loss of ../../Github/kaggle_moa_team/scripts/deepinsight_efficientnet_lightning_v7_b3_infer.py: 0.016016\n",
      "\n",
      "Loading OOF from ../../Github/kaggle_moa_team/oof/oof_deepinsight_ResNeSt_v1_resnest50_0.014619621213185928.npy ......\n",
      "OOF Validation Loss of ../../Github/kaggle_moa_team/scripts/deepinsight_resnest_lightning_v1_infer.py: 0.015819\n",
      "\n",
      "Loading OOF from ../../Github/kaggle_moa_team/oof/oof_deepinsight_ResNeSt_v2_resnest50_0.01854.npy ......\n",
      "OOF Validation Loss of ../../Github/kaggle_moa_team/scripts/deepinsight_resnest_lightning_v2_infer.py: 0.015756\n",
      "\n",
      "Blend OOF Validation Loss: 0.015108\n",
      "\n"
     ]
    }
   ],
   "source": [
    "total_start = time.time()\n",
    "\n",
    "if not search_mode and run_submit_script:\n",
    "    if method == \"scipy_per_target\":\n",
    "        weights_path = glob.glob(f'{model_path}/{study_name}_*.pkl')[0]\n",
    "        print(f\"Loading target-wise optimized weights from {weights_path} ......\")\n",
    "        optimized_target_weights = load_pickle(weights_path)\n",
    "\n",
    "        # For 206 target weights\n",
    "        submission = run_inference_scripts(\n",
    "            submission, target_weights=optimized_target_weights)\n",
    "    else:\n",
    "        submission = run_inference_scripts(submission)\n",
    "\n",
    "elif search_mode and method == \"CV\":\n",
    "    y_true = non_control_group_train_labels[train_classes].values\n",
    "\n",
    "    all_oof = np.zeros(\n",
    "        (len(model_list), non_control_group_train_labels.shape[0], 206))\n",
    "    blend_oof = np.zeros((non_control_group_train_labels.shape[0], 206))\n",
    "    print(all_oof.shape)\n",
    "    for i, (script, oof_filename, output_filename,\n",
    "            weight) in enumerate(model_list):\n",
    "        print(f\"Loading OOF from {oof_filename} ......\")\n",
    "        oof = np.load(f\"{dataset_folder}/{oof_filename}\")\n",
    "\n",
    "        if oof.shape[0] == 23814:\n",
    "            oof = oof[non_control_group_rows, :]\n",
    "\n",
    "        all_oof[i, :, :] = oof\n",
    "        blend_oof += oof * weight\n",
    "\n",
    "        oof_loss = mean_logloss(oof, y_true)\n",
    "        print(f\"OOF Validation Loss of {script}: {oof_loss:.6f}\\n\")\n",
    "\n",
    "    blend_oof_loss = mean_logloss(blend_oof, y_true)\n",
    "    print(f\"Blend OOF Validation Loss: {blend_oof_loss:.6f}\\n\")\n",
    "\n",
    "elif search_mode and method == \"optuna\":\n",
    "    print(\"[Optuna]\")\n",
    "    ## Search Best Blend Weights by Optuna ##\n",
    "    model_oofs = []\n",
    "\n",
    "    for i, (script, oof_filename, output_filename,\n",
    "            weight) in enumerate(model_list):\n",
    "        print(f\"Loading OOF from {oof_filename} ......\")\n",
    "        oof = np.load(f\"{dataset_folder}/{oof_filename}\")\n",
    "\n",
    "        if oof.shape[0] == 23814:\n",
    "            oof = oof[non_control_group_rows, :]\n",
    "\n",
    "        oof_loss = mean_logloss(\n",
    "            oof, non_control_group_train_labels[train_classes].values)\n",
    "        print(f\"OOF Validation Loss of {script}: {oof_loss:.6f}\\n\")\n",
    "        model_oofs.append(oof)\n",
    "\n",
    "    def objective(trial):\n",
    "        weights = []\n",
    "        for i in range(len(model_list)):\n",
    "            weights.append(trial.suggest_float(f\"w{i}\", 0, 1.0))\n",
    "\n",
    "        blend = np.zeros(model_oofs[0].shape)\n",
    "        for i in range(len(model_list)):\n",
    "            blend += weights[i] * model_oofs[i]\n",
    "        blend = np.clip(blend, 0, 1.0)\n",
    "\n",
    "        loss = mean_logloss(\n",
    "            blend, non_control_group_train_labels[train_classes].values)\n",
    "        return loss\n",
    "\n",
    "    pruner = optuna.pruners.MedianPruner(\n",
    "        n_startup_trials=5,\n",
    "        n_warmup_steps=0,\n",
    "        interval_steps=1,\n",
    "    )\n",
    "    sampler = optuna.samplers.TPESampler(seed=rand_seed)\n",
    "    study = optuna.create_study(direction=\"minimize\",\n",
    "                                pruner=pruner,\n",
    "                                sampler=sampler,\n",
    "                                study_name=study_name,\n",
    "                                storage=f'sqlite:///{study_name}.db',\n",
    "                                load_if_exists=True)\n",
    "\n",
    "    study.optimize(objective,\n",
    "                   n_trials=n_trials,\n",
    "                   timeout=None,\n",
    "                   gc_after_trial=True,\n",
    "                   n_jobs=-1)\n",
    "\n",
    "    trial = study.best_trial\n",
    "\n",
    "    if run_submit_script:\n",
    "        optimal_weights = []\n",
    "        for i, (script, oof_filename, output_filename,\n",
    "                _) in enumerate(model_list):\n",
    "            optimal_weights.append(trial.params[f\"w{i}\"])\n",
    "        submission = run_inference_scripts(submission, weights=optimal_weights)\n",
    "\n",
    "    print(\"\\n[Optuna]\")\n",
    "    print(\"Number of finished trials: {}\".format(len(study.trials)))\n",
    "    print(\"Best trial:\")\n",
    "    print(\"  Value: {}\".format(trial.value))\n",
    "\n",
    "    print(\"  Params: \")\n",
    "    for key, value in trial.params.items():\n",
    "        print(\"    {}: {}\".format(key, value))\n",
    "\n",
    "elif search_mode and method == \"scipy\":\n",
    "    print(\"[Scipy SLSQP]\")\n",
    "    # Optimise Blending Weights with Bonus\n",
    "    # https://www.kaggle.com/gogo827jz/optimise-blending-weights-with-bonus-0/notebook\n",
    "    model_oofs = []\n",
    "    y_true = non_control_group_train_labels[train_classes].values\n",
    "\n",
    "    all_oof = np.zeros(\n",
    "        (len(model_list), non_control_group_train_labels.shape[0], 206))\n",
    "    print(all_oof.shape)\n",
    "    for i, (script, oof_filename, output_filename,\n",
    "            weight) in enumerate(model_list):\n",
    "        print(f\"Loading OOF from {oof_filename} ......\")\n",
    "        oof = np.load(f\"{dataset_folder}/{oof_filename}\")\n",
    "\n",
    "        if oof.shape[0] == 23814:\n",
    "            oof = oof[non_control_group_rows, :]\n",
    "\n",
    "        all_oof[i, :, :] = oof\n",
    "\n",
    "        oof_loss = mean_logloss(oof, y_true)\n",
    "        print(f\"OOF Validation Loss of {script}: {oof_loss:.6f}\\n\")\n",
    "        model_oofs.append(oof)\n",
    "\n",
    "    tol = 1e-10\n",
    "    init_guess = [1 / all_oof.shape[0]] * all_oof.shape[0]\n",
    "    bnds = [(0, 1) for _ in range(all_oof.shape[0])]\n",
    "    cons = {\n",
    "        'type': 'eq',\n",
    "        'fun': lambda x: np.sum(x) - 1,\n",
    "        'jac': lambda x: [1] * len(x)\n",
    "    }\n",
    "\n",
    "    print('Inital Blend OOF:', func_numpy_metric(init_guess))\n",
    "\n",
    "    start_time = time.time()\n",
    "    res_scipy = minimize(\n",
    "        fun=func_numpy_metric,\n",
    "        x0=init_guess,\n",
    "        method='SLSQP',\n",
    "        # jac=grad_func_jit,  # grad_func\n",
    "        bounds=bnds,\n",
    "        constraints=cons,\n",
    "        tol=tol)\n",
    "    print(\"\\n[Scipy SLSQP]\")\n",
    "    print(\n",
    "        f'[{str(datetime.timedelta(seconds = time.time() - start_time))[2:7]}] Optimised Blend OOF:',\n",
    "        res_scipy.fun)\n",
    "    print(f'Optimised Weights: {res_scipy.x}\\n')\n",
    "\n",
    "    if run_submit_script:\n",
    "        submission = run_inference_scripts(submission, weights=res_scipy.x)\n",
    "\n",
    "# Target-wise Weight Optimization #\n",
    "\n",
    "elif search_mode and method == \"scipy_per_target\":\n",
    "    print(\"[Scipy SLSQP]\")\n",
    "    # Optimise Blending Weights with Bonus\n",
    "    # https://www.kaggle.com/gogo827jz/optimise-blending-weights-with-bonus-0/notebook\n",
    "    model_oofs = []\n",
    "    y_true = non_control_group_train_labels[train_classes].values\n",
    "\n",
    "    all_oof = np.zeros(\n",
    "        (len(model_list), non_control_group_train_labels.shape[0], 206))\n",
    "    print(all_oof.shape)\n",
    "    for i, (script, oof_filename, output_filename,\n",
    "            weight) in enumerate(model_list):\n",
    "        print(f\"Loading OOF from {oof_filename} ......\")\n",
    "        oof = np.load(f\"{dataset_folder}/{oof_filename}\")\n",
    "\n",
    "        if oof.shape[0] == 23814:\n",
    "            oof = oof[non_control_group_rows, :]\n",
    "\n",
    "        all_oof[i, :, :] = oof\n",
    "\n",
    "        oof_loss = mean_logloss(oof, y_true)\n",
    "        print(f\"OOF Validation Loss of {script}: {oof_loss:.6f}\\n\")\n",
    "        model_oofs.append(oof)\n",
    "\n",
    "    print(\"\\n[Scipy SLSQP Per Target]\")\n",
    "    optimized_target_weights = []\n",
    "    for i, target in enumerate(train_classes):\n",
    "        tol = 1e-10\n",
    "        init_guess = [1 / all_oof.shape[0]] * all_oof.shape[0]\n",
    "        bnds = [(0, 1) for _ in range(all_oof.shape[0])]\n",
    "        cons = {\n",
    "            'type': 'eq',\n",
    "            'fun': lambda x: np.sum(x) - 1,\n",
    "            'jac': lambda x: [1] * len(x)\n",
    "        }\n",
    "\n",
    "        def func_numpy_metric_targes(weights):\n",
    "            oof_blend = np.tensordot(weights,\n",
    "                                     all_oof[:, :, i],\n",
    "                                     axes=((0), (0)))\n",
    "            return log_loss_numpy(oof_blend, y_true[:, i])\n",
    "\n",
    "        start_time = time.time()\n",
    "        res_scipy = minimize(\n",
    "            fun=func_numpy_metric_targes,\n",
    "            x0=init_guess,\n",
    "            method='SLSQP',\n",
    "            # jac=grad_func_jit,  # grad_func\n",
    "            bounds=bnds,\n",
    "            constraints=cons,\n",
    "            tol=tol)\n",
    "\n",
    "        print(\n",
    "            f'[{str(datetime.timedelta(seconds = time.time() - start_time))[2:7]}] ' + \\\n",
    "            f'Optimised Blend OOF for {target}:', res_scipy.fun)\n",
    "        print(f'Optimised Weights for {target}: {res_scipy.x}\\n')\n",
    "        optimized_target_weights.append(res_scipy.x)\n",
    "\n",
    "    blend_targets_oof = np.zeros(\n",
    "        (non_control_group_train_labels.shape[0], 206))\n",
    "    for i, (script, oof_filename, output_filename,\n",
    "            weight) in enumerate(model_list):\n",
    "        print(f\"Loading OOF from {oof_filename} ......\")\n",
    "        oof = np.load(f\"{dataset_folder}/{oof_filename}\")\n",
    "\n",
    "        if oof.shape[0] == 23814:\n",
    "            oof = oof[non_control_group_rows, :]\n",
    "\n",
    "        for j in range(206):\n",
    "            blend_targets_oof[:,\n",
    "                              j] += oof[:, j] * optimized_target_weights[j][i]\n",
    "\n",
    "        oof_loss = mean_logloss(oof, y_true)\n",
    "        print(f\"OOF Validation Loss of {script}: {oof_loss:.6f}\\n\")\n",
    "\n",
    "    blend_targets_oof_loss = mean_logloss(blend_targets_oof, y_true)\n",
    "    print(\n",
    "        f\"Blend Target-Wise OOF Validation Loss: {blend_targets_oof_loss:.6f}\\n\"\n",
    "    )\n",
    "\n",
    "    # Save optimized weights per target\n",
    "    save_pickle(optimized_target_weights, model_path,\n",
    "                f\"{study_name}_{blend_targets_oof_loss}\")\n",
    "\n",
    "    if run_submit_script:\n",
    "        # For 206 target weights\n",
    "        submission = run_inference_scripts(\n",
    "            submission, target_weights=optimized_target_weights)"
   ]
  },
  {
   "cell_type": "code",
   "execution_count": 8,
   "metadata": {
    "execution": {
     "iopub.execute_input": "2020-11-22T16:30:58.766078Z",
     "iopub.status.busy": "2020-11-22T16:30:58.764325Z",
     "iopub.status.idle": "2020-11-22T16:30:58.782502Z",
     "shell.execute_reply": "2020-11-22T16:30:58.781733Z"
    },
    "hidden": true,
    "papermill": {
     "duration": 0.268265,
     "end_time": "2020-11-22T16:30:58.782670",
     "exception": false,
     "start_time": "2020-11-22T16:30:58.514405",
     "status": "completed"
    },
    "tags": []
   },
   "outputs": [
    {
     "name": "stdout",
     "output_type": "stream",
     "text": [
      "Total time spent: 0.02 minutes.\n"
     ]
    }
   ],
   "source": [
    "total_elapsed = time.time() - total_start\n",
    "print(f\"Total time spent: {total_elapsed/60:.2f} minutes.\")"
   ]
  },
  {
   "cell_type": "markdown",
   "metadata": {},
   "source": [
    "## Mean Correlation for Targets"
   ]
  },
  {
   "cell_type": "markdown",
   "metadata": {},
   "source": [
    "### Pearson"
   ]
  },
  {
   "cell_type": "code",
   "execution_count": 42,
   "metadata": {
    "scrolled": true
   },
   "outputs": [
    {
     "name": "stdout",
     "output_type": "stream",
     "text": [
      "Mean Correlation (column-wise) [Model 0-0]: 1.0\n",
      "Mean Correlation (column-wise) [Model 0-1]: 0.699082315030853\n",
      "Mean Correlation (column-wise) [Model 0-2]: 0.5474950501213676\n",
      "Mean Correlation (column-wise) [Model 0-3]: 0.5325637155622015\n",
      "Mean Correlation (column-wise) [Model 0-4]: 0.5180809578606667\n",
      "Mean Correlation (column-wise) [Model 1-0]: 0.699082315030853\n",
      "Mean Correlation (column-wise) [Model 1-1]: 1.0\n",
      "Mean Correlation (column-wise) [Model 1-2]: 0.5623766095392977\n",
      "Mean Correlation (column-wise) [Model 1-3]: 0.5472841161015237\n",
      "Mean Correlation (column-wise) [Model 1-4]: 0.520191554343933\n",
      "Mean Correlation (column-wise) [Model 2-0]: 0.5474950501213676\n",
      "Mean Correlation (column-wise) [Model 2-1]: 0.5623766095392977\n",
      "Mean Correlation (column-wise) [Model 2-2]: 1.0\n",
      "Mean Correlation (column-wise) [Model 2-3]: 0.5291088372216891\n",
      "Mean Correlation (column-wise) [Model 2-4]: 0.5187581338997455\n",
      "Mean Correlation (column-wise) [Model 3-0]: 0.5325637155622015\n",
      "Mean Correlation (column-wise) [Model 3-1]: 0.5472841161015238\n",
      "Mean Correlation (column-wise) [Model 3-2]: 0.5291088372216891\n",
      "Mean Correlation (column-wise) [Model 3-3]: 1.0\n",
      "Mean Correlation (column-wise) [Model 3-4]: 0.6815613234296005\n",
      "Mean Correlation (column-wise) [Model 4-0]: 0.5180809578606667\n",
      "Mean Correlation (column-wise) [Model 4-1]: 0.520191554343933\n",
      "Mean Correlation (column-wise) [Model 4-2]: 0.5187581338997455\n",
      "Mean Correlation (column-wise) [Model 4-3]: 0.6815613234296005\n",
      "Mean Correlation (column-wise) [Model 4-4]: 1.0\n"
     ]
    }
   ],
   "source": [
    "method = 'pearson'\n",
    "mean_oof_corr = np.zeros((all_oof.shape[0], all_oof.shape[0]))\n",
    "for i in range(len(model_list)):\n",
    "    i_df = pd.DataFrame(all_oof[i])\n",
    "    for j in range(len(model_list)):\n",
    "        j_df = pd.DataFrame(all_oof[j])\n",
    "        print(\n",
    "            f'Mean Correlation (column-wise) [Model {i}-{j}]: {i_df.corrwith(j_df, method=method).mean()}'\n",
    "        )\n",
    "        mean_oof_corr[i, j] = i_df.corrwith(j_df, method=method).mean()\n",
    "\n",
    "corr_df = pd.DataFrame(\n",
    "    mean_oof_corr,\n",
    "    columns=[f'Model-{i}' for i in range(1,\n",
    "                                         len(model_list) + 1)])\n",
    "corr_df.columns = model_names\n",
    "corr_df.index = model_names"
   ]
  },
  {
   "cell_type": "code",
   "execution_count": 43,
   "metadata": {
    "scrolled": false
   },
   "outputs": [
    {
     "data": {
      "text/html": [
       "<div>\n",
       "<style scoped>\n",
       "    .dataframe tbody tr th:only-of-type {\n",
       "        vertical-align: middle;\n",
       "    }\n",
       "\n",
       "    .dataframe tbody tr th {\n",
       "        vertical-align: top;\n",
       "    }\n",
       "\n",
       "    .dataframe thead th {\n",
       "        text-align: right;\n",
       "    }\n",
       "</style>\n",
       "<table border=\"1\" class=\"dataframe\">\n",
       "  <thead>\n",
       "    <tr style=\"text-align: right;\">\n",
       "      <th></th>\n",
       "      <th>3-stage NN 10-folds</th>\n",
       "      <th>2-heads ResNet V2</th>\n",
       "      <th>EfficientNet B3 NS</th>\n",
       "      <th>ResNeSt V1</th>\n",
       "      <th>ResNeSt V2</th>\n",
       "    </tr>\n",
       "  </thead>\n",
       "  <tbody>\n",
       "    <tr>\n",
       "      <th>3-stage NN 10-folds</th>\n",
       "      <td>1.000000</td>\n",
       "      <td>0.699082</td>\n",
       "      <td>0.547495</td>\n",
       "      <td>0.532564</td>\n",
       "      <td>0.518081</td>\n",
       "    </tr>\n",
       "    <tr>\n",
       "      <th>2-heads ResNet V2</th>\n",
       "      <td>0.699082</td>\n",
       "      <td>1.000000</td>\n",
       "      <td>0.562377</td>\n",
       "      <td>0.547284</td>\n",
       "      <td>0.520192</td>\n",
       "    </tr>\n",
       "    <tr>\n",
       "      <th>EfficientNet B3 NS</th>\n",
       "      <td>0.547495</td>\n",
       "      <td>0.562377</td>\n",
       "      <td>1.000000</td>\n",
       "      <td>0.529109</td>\n",
       "      <td>0.518758</td>\n",
       "    </tr>\n",
       "    <tr>\n",
       "      <th>ResNeSt V1</th>\n",
       "      <td>0.532564</td>\n",
       "      <td>0.547284</td>\n",
       "      <td>0.529109</td>\n",
       "      <td>1.000000</td>\n",
       "      <td>0.681561</td>\n",
       "    </tr>\n",
       "    <tr>\n",
       "      <th>ResNeSt V2</th>\n",
       "      <td>0.518081</td>\n",
       "      <td>0.520192</td>\n",
       "      <td>0.518758</td>\n",
       "      <td>0.681561</td>\n",
       "      <td>1.000000</td>\n",
       "    </tr>\n",
       "  </tbody>\n",
       "</table>\n",
       "</div>"
      ],
      "text/plain": [
       "                     3-stage NN 10-folds  2-heads ResNet V2  \\\n",
       "3-stage NN 10-folds             1.000000           0.699082   \n",
       "2-heads ResNet V2               0.699082           1.000000   \n",
       "EfficientNet B3 NS              0.547495           0.562377   \n",
       "ResNeSt V1                      0.532564           0.547284   \n",
       "ResNeSt V2                      0.518081           0.520192   \n",
       "\n",
       "                     EfficientNet B3 NS  ResNeSt V1  ResNeSt V2  \n",
       "3-stage NN 10-folds            0.547495    0.532564    0.518081  \n",
       "2-heads ResNet V2              0.562377    0.547284    0.520192  \n",
       "EfficientNet B3 NS             1.000000    0.529109    0.518758  \n",
       "ResNeSt V1                     0.529109    1.000000    0.681561  \n",
       "ResNeSt V2                     0.518758    0.681561    1.000000  "
      ]
     },
     "execution_count": 43,
     "metadata": {},
     "output_type": "execute_result"
    }
   ],
   "source": [
    "corr_df"
   ]
  },
  {
   "cell_type": "code",
   "execution_count": 44,
   "metadata": {},
   "outputs": [
    {
     "name": "stdout",
     "output_type": "stream",
     "text": [
      "3-stage NN 10-folds    0.518081\n",
      "2-heads ResNet V2      0.520192\n",
      "EfficientNet B3 NS     0.518758\n",
      "ResNeSt V1             0.529109\n",
      "ResNeSt V2             0.518081\n",
      "dtype: float64\n"
     ]
    }
   ],
   "source": [
    "print(np.min(corr_df))"
   ]
  },
  {
   "cell_type": "code",
   "execution_count": 45,
   "metadata": {},
   "outputs": [
    {
     "data": {
      "image/png": "[encoded data removed]",
      "text/plain": [
       "<Figure size 864x720 with 2 Axes>"
      ]
     },
     "metadata": {},
     "output_type": "display_data"
    }
   ],
   "source": [
    "sns.set(font_scale=1.4)\n",
    "plt.figure(figsize=(12, 10))\n",
    "heatmap = sns.heatmap(\n",
    "    corr_df,\n",
    "    vmin=0.5,\n",
    "    vmax=0.8,\n",
    "    # center=0.65,\n",
    "    fmt='.2f',\n",
    "    cmap='RdYlGn_r',\n",
    "    linewidths=0.1,\n",
    "    linecolor='white',\n",
    "    # cmap='YlOrRd',\n",
    "    # cmap='jet',\n",
    "    annot_kws={\"fontsize\": 14},\n",
    "    annot=True)\n",
    "# center=0.7)\n",
    "# annot=True)\n",
    "# cmap='jet')\n",
    "# cmap='BrBG')\n",
    "# heatmap.set_title(\n",
    "#     \"Mean Correlation Heatmap of Best CV Models' OOF Predictions (Pearson)\",\n",
    "#     fontdict={'fontsize': 18},\n",
    "#     pad=12)\n",
    "sns.set(font_scale=1.0)"
   ]
  },
  {
   "cell_type": "code",
   "execution_count": null,
   "metadata": {},
   "outputs": [],
   "source": []
  },
  {
   "cell_type": "code",
   "execution_count": null,
   "metadata": {},
   "outputs": [],
   "source": []
  },
  {
   "cell_type": "markdown",
   "metadata": {
    "heading_collapsed": true
   },
   "source": [
    "### Spearman"
   ]
  },
  {
   "cell_type": "code",
   "execution_count": null,
   "metadata": {
    "hidden": true
   },
   "outputs": [],
   "source": [
    "# method = 'spearman'\n",
    "# mean_oof_corr = np.zeros((all_oof.shape[0], all_oof.shape[0]))\n",
    "# for i in range(len(model_list)):\n",
    "#     i_df = pd.DataFrame(all_oof[i])\n",
    "#     for j in range(len(model_list)):\n",
    "#         j_df = pd.DataFrame(all_oof[j])\n",
    "#         print(\n",
    "#             f'Mean Correlation (column-wise) [Model {i}-{j}]: {i_df.corrwith(j_df, method=method).mean()}'\n",
    "#         )\n",
    "#         mean_oof_corr[i, j] = i_df.corrwith(j_df, method=method).mean()\n",
    "\n",
    "# corr_df = pd.DataFrame(\n",
    "#     mean_oof_corr,\n",
    "#     columns=[f'Model-{i}' for i in range(1,\n",
    "#                                          len(model_list) + 1)])\n",
    "# corr_df.columns = model_names\n",
    "# corr_df.index = model_names"
   ]
  },
  {
   "cell_type": "code",
   "execution_count": null,
   "metadata": {
    "hidden": true
   },
   "outputs": [],
   "source": [
    "# corr_df"
   ]
  },
  {
   "cell_type": "code",
   "execution_count": null,
   "metadata": {
    "hidden": true
   },
   "outputs": [],
   "source": [
    "# print(np.min(corr_df))"
   ]
  },
  {
   "cell_type": "code",
   "execution_count": null,
   "metadata": {
    "hidden": true
   },
   "outputs": [],
   "source": [
    "# plt.figure(figsize=(12, 10))\n",
    "# heatmap = sns.heatmap(mean_oof_corr,\n",
    "#                       vmin=0.5,\n",
    "#                       vmax=0.8,\n",
    "#                       # center=0.6,\n",
    "#                       fmt='.6g',\n",
    "#                       cmap='RdYlGn_r',\n",
    "#                       annot=True)\n",
    "# # center=0.7)\n",
    "# # annot=True)\n",
    "# # cmap='jet')\n",
    "# # cmap='BrBG')\n",
    "# heatmap.set_title(\n",
    "#     'Mean Correlation Heatmap of Best CV OOF Predictions (Spearman)',\n",
    "#     fontdict={'fontsize': 18},\n",
    "#     pad=12)"
   ]
  },
  {
   "cell_type": "code",
   "execution_count": null,
   "metadata": {
    "hidden": true
   },
   "outputs": [],
   "source": []
  },
  {
   "cell_type": "markdown",
   "metadata": {
    "heading_collapsed": true
   },
   "source": [
    "### Kendall"
   ]
  },
  {
   "cell_type": "code",
   "execution_count": null,
   "metadata": {
    "hidden": true
   },
   "outputs": [],
   "source": [
    "# method = 'kendall'\n",
    "# mean_oof_corr = np.zeros((all_oof.shape[0], all_oof.shape[0]))\n",
    "# for i in range(len(model_list)):\n",
    "#     i_df = pd.DataFrame(all_oof[i])\n",
    "#     for j in range(len(model_list)):\n",
    "#         j_df = pd.DataFrame(all_oof[j])\n",
    "#         print(\n",
    "#             f'Mean Correlation (column-wise) [Model {i}-{j}]: {i_df.corrwith(j_df, method=method).mean()}'\n",
    "#         )\n",
    "#         mean_oof_corr[i, j] = i_df.corrwith(j_df, method=method).mean()\n",
    "\n",
    "# corr_df = pd.DataFrame(\n",
    "#     mean_oof_corr,\n",
    "#     columns=[f'Model-{i}' for i in range(1,\n",
    "#                                          len(model_list) + 1)])\n",
    "# corr_df.columns = model_names\n",
    "# corr_df.index = model_names"
   ]
  },
  {
   "cell_type": "code",
   "execution_count": null,
   "metadata": {
    "hidden": true
   },
   "outputs": [],
   "source": [
    "# corr_df"
   ]
  },
  {
   "cell_type": "code",
   "execution_count": null,
   "metadata": {
    "hidden": true
   },
   "outputs": [],
   "source": [
    "# print(np.min(corr_df))"
   ]
  },
  {
   "cell_type": "code",
   "execution_count": null,
   "metadata": {
    "hidden": true
   },
   "outputs": [],
   "source": [
    "# plt.figure(figsize=(12, 10))\n",
    "# heatmap = sns.heatmap(mean_oof_corr,\n",
    "#                       vmin=0.3,\n",
    "#                       vmax=0.8,\n",
    "#                       # center=0.6,\n",
    "#                       fmt='.6g',\n",
    "#                       cmap='RdYlGn_r',\n",
    "#                       annot=True)\n",
    "# # center=0.7)\n",
    "# # annot=True)\n",
    "# # cmap='jet')\n",
    "# # cmap='BrBG')\n",
    "# heatmap.set_title(\n",
    "#     'Mean Correlation Heatmap of Best CV OOF Predictions (Kendall)',\n",
    "#     fontdict={'fontsize': 18},\n",
    "#     pad=12)"
   ]
  },
  {
   "cell_type": "code",
   "execution_count": null,
   "metadata": {
    "hidden": true
   },
   "outputs": [],
   "source": []
  },
  {
   "cell_type": "markdown",
   "metadata": {},
   "source": [
    "# Best LB"
   ]
  },
  {
   "cell_type": "code",
   "execution_count": 46,
   "metadata": {},
   "outputs": [
    {
     "data": {
      "text/plain": [
       "(7, 3982, 206)"
      ]
     },
     "execution_count": 46,
     "metadata": {},
     "output_type": "execute_result"
    }
   ],
   "source": [
    "submission = pd.read_csv(f'{dataset_folder}/sample_submission.csv')\n",
    "\n",
    "all_submit = np.zeros((7, submission.shape[0], 206))\n",
    "all_submit.shape"
   ]
  },
  {
   "cell_type": "code",
   "execution_count": 52,
   "metadata": {},
   "outputs": [
    {
     "name": "stdout",
     "output_type": "stream",
     "text": [
      "../../Github/kaggle_moa_team/final/Best LB/Submission/submission_2stageNN_with_ns_oldcv_0.01822.csv\n",
      "../../Github/kaggle_moa_team/final/Best LB/Submission/submission_2stagenn_tabnet.csv\n",
      "../../Github/kaggle_moa_team/final/Best LB/Submission/submission_script_simpleNN_oldcv_0.01836.csv\n",
      "../../Github/kaggle_moa_team/final/Best LB/Submission/submission_simpleNN_without_ns_newcv.csv\n",
      "../../Github/kaggle_moa_team/final/Best LB/Submission/submission_2heads_oldcv.csv\n",
      "../../Github/kaggle_moa_team/final/Best LB/Submission/submission_effnet_v7_b3.csv\n",
      "../../Github/kaggle_moa_team/final/Best LB/Submission/submission_resnest_v2.csv\n"
     ]
    },
    {
     "data": {
      "text/plain": [
       "['3-stage NN',\n",
       " '2-stage NN+TabNet',\n",
       " 'Simple NN Old CV',\n",
       " 'Simple NN New CV',\n",
       " '2-heads ResNet',\n",
       " 'EfficientNet B3 NS',\n",
       " 'ResNeSt V2']"
      ]
     },
     "execution_count": 52,
     "metadata": {},
     "output_type": "execute_result"
    }
   ],
   "source": [
    "# Load submissions\n",
    "best_LB_models = [\n",
    "    (\"3-stage NN\",\n",
    "     \"../../Github/kaggle_moa_team/final/Best LB/Submission/submission_2stageNN_with_ns_oldcv_0.01822.csv\"\n",
    "     ),\n",
    "    (\"2-stage NN+TabNet\",\n",
    "     \"../../Github/kaggle_moa_team/final/Best LB/Submission/submission_2stagenn_tabnet.csv\"\n",
    "     ),\n",
    "    (\"Simple NN Old CV\",\n",
    "     \"../../Github/kaggle_moa_team/final/Best LB/Submission/submission_script_simpleNN_oldcv_0.01836.csv\"\n",
    "     ),\n",
    "    (\"Simple NN New CV\",\n",
    "     \"../../Github/kaggle_moa_team/final/Best LB/Submission/submission_simpleNN_without_ns_newcv.csv\"\n",
    "     ),\n",
    "    (\"2-heads ResNet\",\n",
    "     \"../../Github/kaggle_moa_team/final/Best LB/Submission/submission_2heads_oldcv.csv\"\n",
    "     ),\n",
    "    (\"EfficientNet B3 NS\",\n",
    "     \"../../Github/kaggle_moa_team/final/Best LB/Submission/submission_effnet_v7_b3.csv\"\n",
    "     ),\n",
    "    (\"ResNeSt V2\",\n",
    "     \"../../Github/kaggle_moa_team/final/Best LB/Submission/submission_resnest_v2.csv\"\n",
    "     ),\n",
    "]\n",
    "\n",
    "best_LB_model_names = [m[0] for m in best_LB_models]\n",
    "\n",
    "for i, (_, path) in enumerate(best_LB_models):\n",
    "    print(path)\n",
    "    all_submit[i, :, :] = pd.read_csv(path).iloc[:, 1:]\n",
    "\n",
    "best_LB_model_names"
   ]
  },
  {
   "cell_type": "code",
   "execution_count": null,
   "metadata": {},
   "outputs": [],
   "source": []
  },
  {
   "cell_type": "code",
   "execution_count": 56,
   "metadata": {
    "scrolled": true
   },
   "outputs": [
    {
     "name": "stdout",
     "output_type": "stream",
     "text": [
      "Mean Correlation (column-wise) [Model 0-0]: 1.0\n",
      "Mean Correlation (column-wise) [Model 0-1]: 0.7732979378861734\n",
      "Mean Correlation (column-wise) [Model 0-2]: 0.82145167791824\n",
      "Mean Correlation (column-wise) [Model 0-3]: 0.8312745618668719\n",
      "Mean Correlation (column-wise) [Model 0-4]: 0.7961179988414498\n",
      "Mean Correlation (column-wise) [Model 0-5]: 0.7287755400434007\n",
      "Mean Correlation (column-wise) [Model 0-6]: 0.6848171721513814\n",
      "Mean Correlation (column-wise) [Model 1-0]: 0.7732979378861734\n",
      "Mean Correlation (column-wise) [Model 1-1]: 1.0\n",
      "Mean Correlation (column-wise) [Model 1-2]: 0.8356788863693068\n",
      "Mean Correlation (column-wise) [Model 1-3]: 0.8529121966864187\n",
      "Mean Correlation (column-wise) [Model 1-4]: 0.837917241014327\n",
      "Mean Correlation (column-wise) [Model 1-5]: 0.6828672215467093\n",
      "Mean Correlation (column-wise) [Model 1-6]: 0.6339335596182246\n",
      "Mean Correlation (column-wise) [Model 2-0]: 0.82145167791824\n",
      "Mean Correlation (column-wise) [Model 2-1]: 0.8356788863693068\n",
      "Mean Correlation (column-wise) [Model 2-2]: 1.0\n",
      "Mean Correlation (column-wise) [Model 2-3]: 0.9684377630325779\n",
      "Mean Correlation (column-wise) [Model 2-4]: 0.82161581220015\n",
      "Mean Correlation (column-wise) [Model 2-5]: 0.7154577787574976\n",
      "Mean Correlation (column-wise) [Model 2-6]: 0.6568656683434201\n",
      "Mean Correlation (column-wise) [Model 3-0]: 0.8312745618668719\n",
      "Mean Correlation (column-wise) [Model 3-1]: 0.8529121966864188\n",
      "Mean Correlation (column-wise) [Model 3-2]: 0.9684377630325779\n",
      "Mean Correlation (column-wise) [Model 3-3]: 1.0\n",
      "Mean Correlation (column-wise) [Model 3-4]: 0.8459929279991507\n",
      "Mean Correlation (column-wise) [Model 3-5]: 0.7354979580300052\n",
      "Mean Correlation (column-wise) [Model 3-6]: 0.6801939637544858\n",
      "Mean Correlation (column-wise) [Model 4-0]: 0.7961179988414498\n",
      "Mean Correlation (column-wise) [Model 4-1]: 0.837917241014327\n",
      "Mean Correlation (column-wise) [Model 4-2]: 0.82161581220015\n",
      "Mean Correlation (column-wise) [Model 4-3]: 0.8459929279991507\n",
      "Mean Correlation (column-wise) [Model 4-4]: 1.0\n",
      "Mean Correlation (column-wise) [Model 4-5]: 0.7772051422949001\n",
      "Mean Correlation (column-wise) [Model 4-6]: 0.7127340875824802\n",
      "Mean Correlation (column-wise) [Model 5-0]: 0.7287755400434007\n",
      "Mean Correlation (column-wise) [Model 5-1]: 0.6828672215467092\n",
      "Mean Correlation (column-wise) [Model 5-2]: 0.7154577787574976\n",
      "Mean Correlation (column-wise) [Model 5-3]: 0.7354979580300052\n",
      "Mean Correlation (column-wise) [Model 5-4]: 0.7772051422949001\n",
      "Mean Correlation (column-wise) [Model 5-5]: 1.0\n",
      "Mean Correlation (column-wise) [Model 5-6]: 0.8074848664925246\n",
      "Mean Correlation (column-wise) [Model 6-0]: 0.6848171721513815\n",
      "Mean Correlation (column-wise) [Model 6-1]: 0.6339335596182246\n",
      "Mean Correlation (column-wise) [Model 6-2]: 0.6568656683434201\n",
      "Mean Correlation (column-wise) [Model 6-3]: 0.6801939637544858\n",
      "Mean Correlation (column-wise) [Model 6-4]: 0.7127340875824802\n",
      "Mean Correlation (column-wise) [Model 6-5]: 0.8074848664925246\n",
      "Mean Correlation (column-wise) [Model 6-6]: 1.0\n"
     ]
    }
   ],
   "source": [
    "method = 'pearson'\n",
    "mean_submit_corr = np.zeros((all_submit.shape[0], all_submit.shape[0]))\n",
    "for i in range(len(best_LB_models)):\n",
    "    i_df = pd.DataFrame(all_submit[i])\n",
    "    for j in range(len(best_LB_models)):\n",
    "        j_df = pd.DataFrame(all_submit[j])\n",
    "        print(\n",
    "            f'Mean Correlation (column-wise) [Model {i}-{j}]: {i_df.corrwith(j_df, method=method).mean()}'\n",
    "        )\n",
    "        mean_submit_corr[i, j] = i_df.corrwith(j_df, method=method).mean()\n",
    "\n",
    "corr_submit_df = pd.DataFrame(\n",
    "    mean_submit_corr,\n",
    "    columns=[f'Model-{i}' for i in range(1,\n",
    "                                         len(best_LB_models) + 1)])\n",
    "corr_submit_df.columns = best_LB_model_names\n",
    "corr_submit_df.index = best_LB_model_names"
   ]
  },
  {
   "cell_type": "code",
   "execution_count": 57,
   "metadata": {},
   "outputs": [
    {
     "data": {
      "text/html": [
       "<div>\n",
       "<style scoped>\n",
       "    .dataframe tbody tr th:only-of-type {\n",
       "        vertical-align: middle;\n",
       "    }\n",
       "\n",
       "    .dataframe tbody tr th {\n",
       "        vertical-align: top;\n",
       "    }\n",
       "\n",
       "    .dataframe thead th {\n",
       "        text-align: right;\n",
       "    }\n",
       "</style>\n",
       "<table border=\"1\" class=\"dataframe\">\n",
       "  <thead>\n",
       "    <tr style=\"text-align: right;\">\n",
       "      <th></th>\n",
       "      <th>3-stage NN</th>\n",
       "      <th>2-stage NN+TabNet</th>\n",
       "      <th>Simple NN Old CV</th>\n",
       "      <th>Simple NN New CV</th>\n",
       "      <th>2-heads ResNet</th>\n",
       "      <th>EfficientNet B3 NS</th>\n",
       "      <th>ResNeSt V2</th>\n",
       "    </tr>\n",
       "  </thead>\n",
       "  <tbody>\n",
       "    <tr>\n",
       "      <th>3-stage NN</th>\n",
       "      <td>1.000000</td>\n",
       "      <td>0.773298</td>\n",
       "      <td>0.821452</td>\n",
       "      <td>0.831275</td>\n",
       "      <td>0.796118</td>\n",
       "      <td>0.728776</td>\n",
       "      <td>0.684817</td>\n",
       "    </tr>\n",
       "    <tr>\n",
       "      <th>2-stage NN+TabNet</th>\n",
       "      <td>0.773298</td>\n",
       "      <td>1.000000</td>\n",
       "      <td>0.835679</td>\n",
       "      <td>0.852912</td>\n",
       "      <td>0.837917</td>\n",
       "      <td>0.682867</td>\n",
       "      <td>0.633934</td>\n",
       "    </tr>\n",
       "    <tr>\n",
       "      <th>Simple NN Old CV</th>\n",
       "      <td>0.821452</td>\n",
       "      <td>0.835679</td>\n",
       "      <td>1.000000</td>\n",
       "      <td>0.968438</td>\n",
       "      <td>0.821616</td>\n",
       "      <td>0.715458</td>\n",
       "      <td>0.656866</td>\n",
       "    </tr>\n",
       "    <tr>\n",
       "      <th>Simple NN New CV</th>\n",
       "      <td>0.831275</td>\n",
       "      <td>0.852912</td>\n",
       "      <td>0.968438</td>\n",
       "      <td>1.000000</td>\n",
       "      <td>0.845993</td>\n",
       "      <td>0.735498</td>\n",
       "      <td>0.680194</td>\n",
       "    </tr>\n",
       "    <tr>\n",
       "      <th>2-heads ResNet</th>\n",
       "      <td>0.796118</td>\n",
       "      <td>0.837917</td>\n",
       "      <td>0.821616</td>\n",
       "      <td>0.845993</td>\n",
       "      <td>1.000000</td>\n",
       "      <td>0.777205</td>\n",
       "      <td>0.712734</td>\n",
       "    </tr>\n",
       "    <tr>\n",
       "      <th>EfficientNet B3 NS</th>\n",
       "      <td>0.728776</td>\n",
       "      <td>0.682867</td>\n",
       "      <td>0.715458</td>\n",
       "      <td>0.735498</td>\n",
       "      <td>0.777205</td>\n",
       "      <td>1.000000</td>\n",
       "      <td>0.807485</td>\n",
       "    </tr>\n",
       "    <tr>\n",
       "      <th>ResNeSt V2</th>\n",
       "      <td>0.684817</td>\n",
       "      <td>0.633934</td>\n",
       "      <td>0.656866</td>\n",
       "      <td>0.680194</td>\n",
       "      <td>0.712734</td>\n",
       "      <td>0.807485</td>\n",
       "      <td>1.000000</td>\n",
       "    </tr>\n",
       "  </tbody>\n",
       "</table>\n",
       "</div>"
      ],
      "text/plain": [
       "                    3-stage NN  2-stage NN+TabNet  Simple NN Old CV  \\\n",
       "3-stage NN            1.000000           0.773298          0.821452   \n",
       "2-stage NN+TabNet     0.773298           1.000000          0.835679   \n",
       "Simple NN Old CV      0.821452           0.835679          1.000000   \n",
       "Simple NN New CV      0.831275           0.852912          0.968438   \n",
       "2-heads ResNet        0.796118           0.837917          0.821616   \n",
       "EfficientNet B3 NS    0.728776           0.682867          0.715458   \n",
       "ResNeSt V2            0.684817           0.633934          0.656866   \n",
       "\n",
       "                    Simple NN New CV  2-heads ResNet  EfficientNet B3 NS  \\\n",
       "3-stage NN                  0.831275        0.796118            0.728776   \n",
       "2-stage NN+TabNet           0.852912        0.837917            0.682867   \n",
       "Simple NN Old CV            0.968438        0.821616            0.715458   \n",
       "Simple NN New CV            1.000000        0.845993            0.735498   \n",
       "2-heads ResNet              0.845993        1.000000            0.777205   \n",
       "EfficientNet B3 NS          0.735498        0.777205            1.000000   \n",
       "ResNeSt V2                  0.680194        0.712734            0.807485   \n",
       "\n",
       "                    ResNeSt V2  \n",
       "3-stage NN            0.684817  \n",
       "2-stage NN+TabNet     0.633934  \n",
       "Simple NN Old CV      0.656866  \n",
       "Simple NN New CV      0.680194  \n",
       "2-heads ResNet        0.712734  \n",
       "EfficientNet B3 NS    0.807485  \n",
       "ResNeSt V2            1.000000  "
      ]
     },
     "execution_count": 57,
     "metadata": {},
     "output_type": "execute_result"
    }
   ],
   "source": [
    "corr_submit_df"
   ]
  },
  {
   "cell_type": "code",
   "execution_count": 58,
   "metadata": {},
   "outputs": [
    {
     "name": "stdout",
     "output_type": "stream",
     "text": [
      "3-stage NN            0.684817\n",
      "2-stage NN+TabNet     0.633934\n",
      "Simple NN Old CV      0.656866\n",
      "Simple NN New CV      0.680194\n",
      "2-heads ResNet        0.712734\n",
      "EfficientNet B3 NS    0.682867\n",
      "ResNeSt V2            0.633934\n",
      "dtype: float64\n"
     ]
    }
   ],
   "source": [
    "print(np.min(corr_submit_df))"
   ]
  },
  {
   "cell_type": "code",
   "execution_count": 61,
   "metadata": {},
   "outputs": [
    {
     "data": {
      "image/png": "[encoded data removed]",
      "text/plain": [
       "<Figure size 864x720 with 2 Axes>"
      ]
     },
     "metadata": {},
     "output_type": "display_data"
    }
   ],
   "source": [
    "sns.set(font_scale=1.4)\n",
    "plt.figure(figsize=(12, 10))\n",
    "heatmap = sns.heatmap(\n",
    "    corr_submit_df,\n",
    "    vmin=0.6,\n",
    "    vmax=0.9,\n",
    "    # center=0.65,\n",
    "    fmt='.2f',\n",
    "    cmap='RdYlGn_r',\n",
    "    linewidths=0.1,\n",
    "    linecolor='white',\n",
    "    # cmap='YlOrRd',\n",
    "    # cmap='jet',\n",
    "    annot_kws={\"fontsize\": 14},\n",
    "    annot=True)\n",
    "# center=0.7)\n",
    "# annot=True)\n",
    "# cmap='jet')\n",
    "# cmap='BrBG')\n",
    "# heatmap.set_title(\n",
    "#     \"Mean Correlation Heatmap of Best LB Models' Submission Predictions (Pearson)\",\n",
    "#     fontdict={'fontsize': 18},\n",
    "#     pad=12)\n",
    "sns.set(font_scale=1.0)"
   ]
  },
  {
   "cell_type": "code",
   "execution_count": null,
   "metadata": {},
   "outputs": [],
   "source": []
  },
  {
   "cell_type": "code",
   "execution_count": null,
   "metadata": {},
   "outputs": [],
   "source": []
  },
  {
   "cell_type": "markdown",
   "metadata": {
    "papermill": {
     "duration": 0.239792,
     "end_time": "2020-11-22T16:31:03.876454",
     "exception": false,
     "start_time": "2020-11-22T16:31:03.636662",
     "status": "completed"
    },
    "tags": []
   },
   "source": [
    "## EOF"
   ]
  },
  {
   "cell_type": "code",
   "execution_count": null,
   "metadata": {
    "execution": {
     "iopub.execute_input": "2020-11-22T16:31:04.372710Z",
     "iopub.status.busy": "2020-11-22T16:31:04.371600Z",
     "iopub.status.idle": "2020-11-22T16:31:05.717376Z",
     "shell.execute_reply": "2020-11-22T16:31:05.716504Z"
    },
    "papermill": {
     "duration": 1.595866,
     "end_time": "2020-11-22T16:31:05.717490",
     "exception": false,
     "start_time": "2020-11-22T16:31:04.121624",
     "status": "completed"
    },
    "tags": []
   },
   "outputs": [],
   "source": [
    "if kernel_mode:\n",
    "    !rm ./*.py\n",
    "    !ls -la"
   ]
  },
  {
   "cell_type": "code",
   "execution_count": null,
   "metadata": {
    "papermill": {
     "duration": 0.243405,
     "end_time": "2020-11-22T16:31:06.199770",
     "exception": false,
     "start_time": "2020-11-22T16:31:05.956365",
     "status": "completed"
    },
    "tags": []
   },
   "outputs": [],
   "source": []
  }
 ],
 "metadata": {
  "kernelspec": {
   "display_name": "Python 3",
   "language": "python",
   "name": "python3"
  },
  "language_info": {
   "codemirror_mode": {
    "name": "ipython",
    "version": 3
   },
   "file_extension": ".py",
   "mimetype": "text/x-python",
   "name": "python",
   "nbconvert_exporter": "python",
   "pygments_lexer": "ipython3",
   "version": "3.7.7"
  },
  "papermill": {
   "duration": 1402.82753,
   "end_time": "2020-11-22T16:31:06.568888",
   "environment_variables": {},
   "exception": null,
   "input_path": "__notebook__.ipynb",
   "output_path": "__notebook__.ipynb",
   "parameters": {},
   "start_time": "2020-11-22T16:07:43.741358",
   "version": "2.1.0"
  }
 },
 "nbformat": 4,
 "nbformat_minor": 4
}
