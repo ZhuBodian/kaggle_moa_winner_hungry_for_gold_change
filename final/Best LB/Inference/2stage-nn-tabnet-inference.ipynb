{
 "cells": [
  {
   "cell_type": "markdown",
   "metadata": {
    "papermill": {
     "duration": 0.045637,
     "end_time": "2020-11-27T19:48:21.743925",
     "exception": false,
     "start_time": "2020-11-27T19:48:21.698288",
     "status": "completed"
    },
    "tags": []
   },
   "source": [
    "## 101-preprocess.ipynb"
   ]
  },
  {
   "cell_type": "code",
   "execution_count": 1,
   "metadata": {
    "_cell_guid": "b1076dfc-b9ad-4769-8c92-a6c4dae69d19",
    "_uuid": "8f2839f25d086af736a60e9eeb907d3b93b6e0e5",
    "execution": {
     "iopub.execute_input": "2020-11-27T19:48:21.861030Z",
     "iopub.status.busy": "2020-11-27T19:48:21.860136Z",
     "iopub.status.idle": "2020-11-27T19:48:28.829770Z",
     "shell.execute_reply": "2020-11-27T19:48:28.830444Z"
    },
    "papermill": {
     "duration": 7.042673,
     "end_time": "2020-11-27T19:48:28.830656",
     "exception": false,
     "start_time": "2020-11-27T19:48:21.787983",
     "status": "completed"
    },
    "tags": []
   },
   "outputs": [
    {
     "name": "stdout",
     "output_type": "stream",
     "text": [
      "is cuda available: True\n"
     ]
    }
   ],
   "source": [
    "import sys\n",
    "\n",
    "# for kaggle kernel\n",
    "# add datasets iterative-stratification and umaplearn\n",
    "\n",
    "sys.path.append('../input/iterative-stratification')\n",
    "sys.path.append('../input/umaplearn/umap')\n",
    "%mkdir model\n",
    "%mkdir interim\n",
    "\n",
    "from scipy.sparse.csgraph import connected_components\n",
    "from umap import UMAP\n",
    "from iterstrat.ml_stratifiers import MultilabelStratifiedKFold, RepeatedMultilabelStratifiedKFold\n",
    "\n",
    "import numpy as np\n",
    "import scipy as sp\n",
    "import random\n",
    "import pandas as pd\n",
    "import matplotlib.pyplot as plt\n",
    "import os\n",
    "import copy\n",
    "import seaborn as sns\n",
    "import time\n",
    "# import joblib\n",
    "\n",
    "from sklearn import preprocessing\n",
    "from sklearn.metrics import log_loss\n",
    "from sklearn.preprocessing import StandardScaler\n",
    "from sklearn.decomposition import PCA, FactorAnalysis\n",
    "from sklearn.manifold import TSNE\n",
    "\n",
    "import torch\n",
    "import torch.nn as nn\n",
    "import torch.nn.functional as F\n",
    "import torch.optim as optim\n",
    "\n",
    "print(f\"is cuda available: {torch.cuda.is_available()}\")\n",
    "\n",
    "import warnings\n",
    "# warnings.filterwarnings('ignore')\n",
    "\n",
    "def seed_everything(seed_value):\n",
    "    random.seed(seed_value)\n",
    "    np.random.seed(seed_value)\n",
    "    torch.manual_seed(seed_value)\n",
    "    os.environ['PYTHONHASHSEED'] = str(seed_value)\n",
    "    \n",
    "    if torch.cuda.is_available(): \n",
    "        torch.cuda.manual_seed(seed_value)\n",
    "        torch.cuda.manual_seed_all(seed_value)\n",
    "        torch.backends.cudnn.deterministic = True\n",
    "        torch.backends.cudnn.benchmark = False\n",
    "\n",
    "DEFAULT_SEED = 512\n",
    "seed_everything(seed_value=DEFAULT_SEED)"
   ]
  },
  {
   "cell_type": "code",
   "execution_count": 2,
   "metadata": {
    "_cell_guid": "79c7e3d0-c299-4dcb-8224-4455121ee9b0",
    "_uuid": "d629ff2d2480ee46fbb7e2d37f6b5fab8052498a",
    "execution": {
     "iopub.execute_input": "2020-11-27T19:48:28.945280Z",
     "iopub.status.busy": "2020-11-27T19:48:28.943334Z",
     "iopub.status.idle": "2020-11-27T19:48:28.945934Z",
     "shell.execute_reply": "2020-11-27T19:48:28.946389Z"
    },
    "papermill": {
     "duration": 0.053921,
     "end_time": "2020-11-27T19:48:28.946504",
     "exception": false,
     "start_time": "2020-11-27T19:48:28.892583",
     "status": "completed"
    },
    "tags": []
   },
   "outputs": [],
   "source": [
    "# file name prefix\n",
    "NB = '101'\n",
    "\n",
    "IS_TRAIN = False ################################################################\n",
    "\n",
    "MODEL_DIR = \"../input/503-203-tabnet-with-nonscored-features-train/model\" # \"../model\"\n",
    "INT_DIR = \"interim\" # \"../interim\"\n",
    "\n",
    "DEVICE = ('cuda' if torch.cuda.is_available() else 'cpu')\n",
    "\n",
    "# label smoothing\n",
    "PMIN = 0.0\n",
    "PMAX = 1.0\n",
    "\n",
    "# submission smoothing\n",
    "SMIN = 0.0\n",
    "SMAX = 1.0"
   ]
  },
  {
   "cell_type": "code",
   "execution_count": 3,
   "metadata": {
    "execution": {
     "iopub.execute_input": "2020-11-27T19:48:29.043801Z",
     "iopub.status.busy": "2020-11-27T19:48:29.042717Z",
     "iopub.status.idle": "2020-11-27T19:48:35.451835Z",
     "shell.execute_reply": "2020-11-27T19:48:35.450875Z"
    },
    "papermill": {
     "duration": 6.460061,
     "end_time": "2020-11-27T19:48:35.451947",
     "exception": false,
     "start_time": "2020-11-27T19:48:28.991886",
     "status": "completed"
    },
    "tags": []
   },
   "outputs": [],
   "source": [
    "train_features = pd.read_csv('../input/lish-moa/train_features.csv')\n",
    "train_targets_scored = pd.read_csv('../input/lish-moa/train_targets_scored.csv')\n",
    "train_targets_nonscored = pd.read_csv('../input/lish-moa/train_targets_nonscored.csv')\n",
    "\n",
    "test_features = pd.read_csv('../input/lish-moa/test_features.csv')\n",
    "sample_submission = pd.read_csv('../input/lish-moa/sample_submission.csv')"
   ]
  },
  {
   "cell_type": "code",
   "execution_count": 4,
   "metadata": {
    "execution": {
     "iopub.execute_input": "2020-11-27T19:48:35.545799Z",
     "iopub.status.busy": "2020-11-27T19:48:35.545161Z",
     "iopub.status.idle": "2020-11-27T19:48:35.549101Z",
     "shell.execute_reply": "2020-11-27T19:48:35.549555Z"
    },
    "papermill": {
     "duration": 0.05233,
     "end_time": "2020-11-27T19:48:35.549731",
     "exception": false,
     "start_time": "2020-11-27T19:48:35.497401",
     "status": "completed"
    },
    "tags": []
   },
   "outputs": [],
   "source": [
    "# test_features_dummy = pd.read_csv('../input/dummytestfeatures/test_features_dummy.csv')\n",
    "# test_features = pd.concat([test_features, test_features_dummy]).reset_index(drop=True)"
   ]
  },
  {
   "cell_type": "code",
   "execution_count": 5,
   "metadata": {
    "execution": {
     "iopub.execute_input": "2020-11-27T19:48:35.655145Z",
     "iopub.status.busy": "2020-11-27T19:48:35.654396Z",
     "iopub.status.idle": "2020-11-27T19:49:42.330445Z",
     "shell.execute_reply": "2020-11-27T19:49:42.329649Z"
    },
    "papermill": {
     "duration": 66.73648,
     "end_time": "2020-11-27T19:49:42.330636",
     "exception": false,
     "start_time": "2020-11-27T19:48:35.594156",
     "status": "completed"
    },
    "tags": []
   },
   "outputs": [],
   "source": [
    "from sklearn.preprocessing import QuantileTransformer\n",
    "\n",
    "GENES = [col for col in train_features.columns if col.startswith('g-')]\n",
    "CELLS = [col for col in train_features.columns if col.startswith('c-')]\n",
    "\n",
    "for col in (GENES + CELLS):\n",
    "    vec_len = len(train_features[col].values)\n",
    "    vec_len_test = len(test_features[col].values)\n",
    "    raw_vec = pd.concat([train_features, test_features])[col].values.reshape(vec_len+vec_len_test, 1)\n",
    "    if IS_TRAIN:\n",
    "        transformer = QuantileTransformer(n_quantiles=100, random_state=0, output_distribution=\"normal\")\n",
    "        transformer.fit(raw_vec)\n",
    "        pd.to_pickle(transformer, f'{MODEL_DIR}/{NB}_{col}_quantile_transformer.pkl')\n",
    "    else:\n",
    "        transformer = pd.read_pickle(f'{MODEL_DIR}/{NB}_{col}_quantile_transformer.pkl')        \n",
    "\n",
    "    train_features[col] = transformer.transform(train_features[col].values.reshape(vec_len, 1)).reshape(1, vec_len)[0]\n",
    "    test_features[col] = transformer.transform(test_features[col].values.reshape(vec_len_test, 1)).reshape(1, vec_len_test)[0]"
   ]
  },
  {
   "cell_type": "code",
   "execution_count": 6,
   "metadata": {
    "execution": {
     "iopub.execute_input": "2020-11-27T19:49:42.530794Z",
     "iopub.status.busy": "2020-11-27T19:49:42.504844Z",
     "iopub.status.idle": "2020-11-27T19:51:54.068204Z",
     "shell.execute_reply": "2020-11-27T19:51:54.069172Z"
    },
    "papermill": {
     "duration": 131.667066,
     "end_time": "2020-11-27T19:51:54.069429",
     "exception": false,
     "start_time": "2020-11-27T19:49:42.402363",
     "status": "completed"
    },
    "tags": []
   },
   "outputs": [],
   "source": [
    "# GENES\n",
    "n_comp = 50\n",
    "n_dim = 15\n",
    "\n",
    "data = pd.concat([pd.DataFrame(train_features[GENES]), pd.DataFrame(test_features[GENES])])\n",
    "\n",
    "if IS_TRAIN:\n",
    "    pca = PCA(n_components=n_comp, random_state=DEFAULT_SEED).fit(train_features[GENES])\n",
    "    umap = UMAP(n_components=n_dim, random_state=DEFAULT_SEED).fit(train_features[GENES])\n",
    "    pd.to_pickle(pca, f\"{MODEL_DIR}/{NB}_pca_g.pkl\")\n",
    "    pd.to_pickle(umap, f\"{MODEL_DIR}/{NB}_umap_g.pkl\")\n",
    "else:\n",
    "    pca = pd.read_pickle(f\"{MODEL_DIR}/{NB}_pca_g.pkl\")\n",
    "    umap = pd.read_pickle(f\"{MODEL_DIR}/{NB}_umap_g.pkl\")\n",
    "    \n",
    "data2 = pca.transform(data[GENES])\n",
    "data3 = umap.transform(data[GENES])\n",
    "\n",
    "train2 = data2[:train_features.shape[0]]\n",
    "test2 = data2[-test_features.shape[0]:]\n",
    "train3 = data3[:train_features.shape[0]]\n",
    "test3 = data3[-test_features.shape[0]:]\n",
    "\n",
    "train2 = pd.DataFrame(train2, columns=[f'pca_G-{i}' for i in range(n_comp)])\n",
    "train3 = pd.DataFrame(train3, columns=[f'umap_G-{i}' for i in range(n_dim)])\n",
    "test2 = pd.DataFrame(test2, columns=[f'pca_G-{i}' for i in range(n_comp)])\n",
    "test3 = pd.DataFrame(test3, columns=[f'umap_G-{i}' for i in range(n_dim)])\n",
    "\n",
    "train_features = pd.concat((train_features, train2, train3), axis=1)\n",
    "test_features = pd.concat((test_features, test2, test3), axis=1)\n",
    "\n",
    "#CELLS\n",
    "n_comp = 15\n",
    "n_dim = 5\n",
    "\n",
    "data = pd.concat([pd.DataFrame(train_features[CELLS]), pd.DataFrame(test_features[CELLS])])\n",
    "\n",
    "\n",
    "if IS_TRAIN:\n",
    "    pca = PCA(n_components=n_comp, random_state=DEFAULT_SEED).fit(train_features[CELLS])\n",
    "    umap = UMAP(n_components=n_dim, random_state=DEFAULT_SEED).fit(train_features[CELLS])\n",
    "    pd.to_pickle(pca, f\"{MODEL_DIR}/{NB}_pca_c.pkl\")\n",
    "    pd.to_pickle(umap, f\"{MODEL_DIR}/{NB}_umap_c.pkl\")\n",
    "else:\n",
    "    pca = pd.read_pickle(f\"{MODEL_DIR}/{NB}_pca_c.pkl\")\n",
    "    umap = pd.read_pickle(f\"{MODEL_DIR}/{NB}_umap_c.pkl\")   \n",
    "\n",
    "data2 = pca.transform(data[CELLS])\n",
    "data3 = umap.transform(data[CELLS])\n",
    "\n",
    "train2 = data2[:train_features.shape[0]]\n",
    "test2 = data2[-test_features.shape[0]:]\n",
    "train3 = data3[:train_features.shape[0]]\n",
    "test3 = data3[-test_features.shape[0]:]\n",
    "\n",
    "train2 = pd.DataFrame(train2, columns=[f'pca_C-{i}' for i in range(n_comp)])\n",
    "train3 = pd.DataFrame(train3, columns=[f'umap_C-{i}' for i in range(n_dim)])\n",
    "test2 = pd.DataFrame(test2, columns=[f'pca_C-{i}' for i in range(n_comp)])\n",
    "test3 = pd.DataFrame(test3, columns=[f'umap_C-{i}' for i in range(n_dim)])\n",
    "\n",
    "train_features = pd.concat((train_features, train2, train3), axis=1)\n",
    "test_features = pd.concat((test_features, test2, test3), axis=1)\n",
    "\n",
    "# drop_cols = [f'c-{i}' for i in range(n_comp,len(CELLS))]"
   ]
  },
  {
   "cell_type": "code",
   "execution_count": 7,
   "metadata": {
    "execution": {
     "iopub.execute_input": "2020-11-27T19:51:54.234963Z",
     "iopub.status.busy": "2020-11-27T19:51:54.233740Z",
     "iopub.status.idle": "2020-11-27T19:51:55.025758Z",
     "shell.execute_reply": "2020-11-27T19:51:55.025081Z"
    },
    "papermill": {
     "duration": 0.881724,
     "end_time": "2020-11-27T19:51:55.025898",
     "exception": false,
     "start_time": "2020-11-27T19:51:54.144174",
     "status": "completed"
    },
    "tags": []
   },
   "outputs": [
    {
     "name": "stdout",
     "output_type": "stream",
     "text": [
      "(23814, 953)\n",
      "(3982, 953)\n"
     ]
    }
   ],
   "source": [
    "from sklearn.feature_selection import VarianceThreshold\n",
    "\n",
    "if IS_TRAIN:\n",
    "    var_thresh = VarianceThreshold(threshold=0.5).fit(train_features.iloc[:, 4:])\n",
    "    pd.to_pickle(var_thresh, f\"{MODEL_DIR}/{NB}_variance_thresh0_5.pkl\")\n",
    "else:\n",
    "    var_thresh = pd.read_pickle(f\"{MODEL_DIR}/{NB}_variance_thresh0_5.pkl\")\n",
    "                                \n",
    "data = train_features.append(test_features)\n",
    "data_transformed = var_thresh.transform(data.iloc[:, 4:])\n",
    "\n",
    "train_features_transformed = data_transformed[ : train_features.shape[0]]\n",
    "test_features_transformed = data_transformed[-test_features.shape[0] : ]\n",
    "\n",
    "\n",
    "train_features = pd.DataFrame(train_features[['sig_id','cp_type','cp_time','cp_dose']].values.reshape(-1, 4),\\\n",
    "                              columns=['sig_id','cp_type','cp_time','cp_dose'])\n",
    "\n",
    "train_features = pd.concat([train_features, pd.DataFrame(train_features_transformed)], axis=1)\n",
    "\n",
    "\n",
    "test_features = pd.DataFrame(test_features[['sig_id','cp_type','cp_time','cp_dose']].values.reshape(-1, 4),\\\n",
    "                             columns=['sig_id','cp_type','cp_time','cp_dose'])\n",
    "\n",
    "test_features = pd.concat([test_features, pd.DataFrame(test_features_transformed)], axis=1)\n",
    "\n",
    "print(train_features.shape)\n",
    "print(test_features.shape)"
   ]
  },
  {
   "cell_type": "code",
   "execution_count": 8,
   "metadata": {
    "execution": {
     "iopub.execute_input": "2020-11-27T19:51:55.131952Z",
     "iopub.status.busy": "2020-11-27T19:51:55.126929Z",
     "iopub.status.idle": "2020-11-27T19:51:55.334766Z",
     "shell.execute_reply": "2020-11-27T19:51:55.334204Z"
    },
    "papermill": {
     "duration": 0.261685,
     "end_time": "2020-11-27T19:51:55.334896",
     "exception": false,
     "start_time": "2020-11-27T19:51:55.073211",
     "status": "completed"
    },
    "tags": []
   },
   "outputs": [],
   "source": [
    "train = train_features[train_features['cp_type']!='ctl_vehicle'].reset_index(drop=True)\n",
    "test = test_features[test_features['cp_type']!='ctl_vehicle'].reset_index(drop=True)\n",
    "\n",
    "train = train.drop('cp_type', axis=1)\n",
    "test = test.drop('cp_type', axis=1)"
   ]
  },
  {
   "cell_type": "code",
   "execution_count": 9,
   "metadata": {
    "execution": {
     "iopub.execute_input": "2020-11-27T19:51:55.693988Z",
     "iopub.status.busy": "2020-11-27T19:51:55.685533Z",
     "iopub.status.idle": "2020-11-27T19:51:55.859031Z",
     "shell.execute_reply": "2020-11-27T19:51:55.858434Z"
    },
    "papermill": {
     "duration": 0.476586,
     "end_time": "2020-11-27T19:51:55.859156",
     "exception": false,
     "start_time": "2020-11-27T19:51:55.382570",
     "status": "completed"
    },
    "tags": []
   },
   "outputs": [],
   "source": [
    "train.to_pickle(f\"{INT_DIR}/{NB}_train_preprocessed.pkl\")\n",
    "test.to_pickle(f\"{INT_DIR}/{NB}_test_preprocessed.pkl\")"
   ]
  },
  {
   "cell_type": "markdown",
   "metadata": {
    "papermill": {
     "duration": 0.045952,
     "end_time": "2020-11-27T19:51:55.951046",
     "exception": false,
     "start_time": "2020-11-27T19:51:55.905094",
     "status": "completed"
    },
    "tags": []
   },
   "source": [
    "## 203-101-nonscored-pred-2layers.ipynb"
   ]
  },
  {
   "cell_type": "code",
   "execution_count": 10,
   "metadata": {
    "execution": {
     "iopub.execute_input": "2020-11-27T19:51:56.052685Z",
     "iopub.status.busy": "2020-11-27T19:51:56.051994Z",
     "iopub.status.idle": "2020-11-27T19:51:56.056828Z",
     "shell.execute_reply": "2020-11-27T19:51:56.056292Z"
    },
    "papermill": {
     "duration": 0.058962,
     "end_time": "2020-11-27T19:51:56.056933",
     "exception": false,
     "start_time": "2020-11-27T19:51:55.997971",
     "status": "completed"
    },
    "tags": []
   },
   "outputs": [],
   "source": [
    "# file name prefix\n",
    "NB = '203'\n",
    "\n",
    "# IS_TRAIN = True\n",
    "\n",
    "# MODEL_DIR = \"model\" # \"../model\"\n",
    "# INT_DIR = \"interim\" # \"../interim\"\n",
    "\n",
    "DEVICE = ('cuda' if torch.cuda.is_available() else 'cpu')\n",
    "\n",
    "# label smoothing\n",
    "PMIN = 0.0\n",
    "PMAX = 1.0\n",
    "\n",
    "# submission smoothing\n",
    "SMIN = 0.0\n",
    "SMAX = 1.0\n",
    "\n",
    "# model hyper params\n",
    "HIDDEN_SIZE = 2048\n",
    "\n",
    "# training hyper params\n",
    "EPOCHS = 15\n",
    "BATCH_SIZE = 256\n",
    "NFOLDS = 10 # 10\n",
    "NREPEATS = 1\n",
    "NSEEDS = 5 # 5\n",
    "\n",
    "# Adam hyper params\n",
    "LEARNING_RATE = 5e-4\n",
    "WEIGHT_DECAY = 1e-5\n",
    "\n",
    "# scheduler hyper params\n",
    "PCT_START = 0.2\n",
    "DIV_FACS = 1e3\n",
    "MAX_LR = 1e-2"
   ]
  },
  {
   "cell_type": "code",
   "execution_count": 11,
   "metadata": {
    "execution": {
     "iopub.execute_input": "2020-11-27T19:51:56.183291Z",
     "iopub.status.busy": "2020-11-27T19:51:56.181126Z",
     "iopub.status.idle": "2020-11-27T19:51:56.184040Z",
     "shell.execute_reply": "2020-11-27T19:51:56.184576Z"
    },
    "papermill": {
     "duration": 0.080761,
     "end_time": "2020-11-27T19:51:56.184731",
     "exception": false,
     "start_time": "2020-11-27T19:51:56.103970",
     "status": "completed"
    },
    "tags": []
   },
   "outputs": [],
   "source": [
    "def process_data(data):    \n",
    "    data = pd.get_dummies(data, columns=['cp_time','cp_dose'])\n",
    "    return data\n",
    "\n",
    "class MoADataset:\n",
    "    def __init__(self, features, targets):\n",
    "        self.features = features\n",
    "        self.targets = targets\n",
    "        \n",
    "    def __len__(self):\n",
    "        return (self.features.shape[0])\n",
    "    \n",
    "    def __getitem__(self, idx):\n",
    "        dct = {\n",
    "            'x' : torch.tensor(self.features[idx, :], dtype=torch.float),\n",
    "            'y' : torch.tensor(self.targets[idx, :], dtype=torch.float)            \n",
    "        }\n",
    "        return dct\n",
    "    \n",
    "class TestDataset:\n",
    "    def __init__(self, features):\n",
    "        self.features = features\n",
    "        \n",
    "    def __len__(self):\n",
    "        return (self.features.shape[0])\n",
    "    \n",
    "    def __getitem__(self, idx):\n",
    "        dct = {\n",
    "            'x' : torch.tensor(self.features[idx, :], dtype=torch.float)\n",
    "        }\n",
    "        return dct\n",
    "\n",
    "def train_fn(model, optimizer, scheduler, loss_fn, dataloader, device):\n",
    "    model.train()\n",
    "    final_loss = 0\n",
    "    \n",
    "    for data in dataloader:\n",
    "        optimizer.zero_grad()\n",
    "        inputs, targets = data['x'].to(device), data['y'].to(device)\n",
    "#         print(inputs.shape)\n",
    "        outputs = model(inputs)\n",
    "        loss = loss_fn(outputs, targets)\n",
    "        loss.backward()\n",
    "        optimizer.step()\n",
    "        scheduler.step()\n",
    "        \n",
    "        final_loss += loss.item()\n",
    "        \n",
    "    final_loss /= len(dataloader)\n",
    "    \n",
    "    return final_loss\n",
    "\n",
    "\n",
    "def valid_fn(model, loss_fn, dataloader, device):\n",
    "    model.eval()\n",
    "    final_loss = 0\n",
    "    valid_preds = []\n",
    "    \n",
    "    for data in dataloader:\n",
    "        inputs, targets = data['x'].to(device), data['y'].to(device)\n",
    "        outputs = model(inputs)\n",
    "        loss = loss_fn(outputs, targets)\n",
    "        \n",
    "        final_loss += loss.item()\n",
    "        valid_preds.append(outputs.sigmoid().detach().cpu().numpy())\n",
    "        \n",
    "    final_loss /= len(dataloader)\n",
    "    valid_preds = np.concatenate(valid_preds)\n",
    "    \n",
    "    return final_loss, valid_preds\n",
    "\n",
    "def inference_fn(model, dataloader, device):\n",
    "    model.eval()\n",
    "    preds = []\n",
    "    \n",
    "    for data in dataloader:\n",
    "        inputs = data['x'].to(device)\n",
    "\n",
    "        with torch.no_grad():\n",
    "            outputs = model(inputs)\n",
    "        \n",
    "        preds.append(outputs.sigmoid().detach().cpu().numpy())\n",
    "        \n",
    "    preds = np.concatenate(preds)\n",
    "    \n",
    "    return preds\n",
    "\n",
    "def calc_valid_log_loss(train, target, target_cols):\n",
    "    y_pred = train[target_cols].values\n",
    "    y_true = target[target_cols].values\n",
    "    \n",
    "    y_true_t = torch.from_numpy(y_true.astype(np.float64)).clone()\n",
    "    y_pred_t = torch.from_numpy(y_pred.astype(np.float64)).clone()\n",
    "    \n",
    "    return torch.nn.BCELoss()(y_pred_t, y_true_t).to('cpu').detach().numpy().copy()"
   ]
  },
  {
   "cell_type": "code",
   "execution_count": 12,
   "metadata": {
    "execution": {
     "iopub.execute_input": "2020-11-27T19:51:56.293866Z",
     "iopub.status.busy": "2020-11-27T19:51:56.293055Z",
     "iopub.status.idle": "2020-11-27T19:51:56.296737Z",
     "shell.execute_reply": "2020-11-27T19:51:56.296250Z"
    },
    "papermill": {
     "duration": 0.062098,
     "end_time": "2020-11-27T19:51:56.296851",
     "exception": false,
     "start_time": "2020-11-27T19:51:56.234753",
     "status": "completed"
    },
    "tags": []
   },
   "outputs": [],
   "source": [
    "class Model(nn.Module):\n",
    "    def __init__(self, num_features, num_targets, hidden_size=HIDDEN_SIZE):\n",
    "        super(Model, self).__init__()\n",
    "        self.batch_norm1 = nn.BatchNorm1d(num_features)\n",
    "        self.dropout1 = nn.Dropout(0.2)\n",
    "        self.dense1 = nn.utils.weight_norm(nn.Linear(num_features, hidden_size))\n",
    "               \n",
    "        self.batch_norm3 = nn.BatchNorm1d(hidden_size)\n",
    "        self.dropout3 = nn.Dropout(0.25)\n",
    "        self.dense3 = nn.utils.weight_norm(nn.Linear(hidden_size, num_targets))\n",
    "    \n",
    "    def forward(self, x):\n",
    "        x = self.batch_norm1(x)\n",
    "        x = self.dropout1(x)\n",
    "        x = F.relu(self.dense1(x))\n",
    "                \n",
    "        x = self.batch_norm3(x)\n",
    "        x = self.dropout3(x)\n",
    "        x = self.dense3(x)\n",
    "        \n",
    "        return x"
   ]
  },
  {
   "cell_type": "code",
   "execution_count": 13,
   "metadata": {
    "execution": {
     "iopub.execute_input": "2020-11-27T19:51:56.419175Z",
     "iopub.status.busy": "2020-11-27T19:51:56.400417Z",
     "iopub.status.idle": "2020-11-27T19:51:56.421734Z",
     "shell.execute_reply": "2020-11-27T19:51:56.421157Z"
    },
    "papermill": {
     "duration": 0.07738,
     "end_time": "2020-11-27T19:51:56.421857",
     "exception": false,
     "start_time": "2020-11-27T19:51:56.344477",
     "status": "completed"
    },
    "tags": []
   },
   "outputs": [],
   "source": [
    "def run_training(train, test, trn_idx, val_idx, feature_cols, target_cols, fold, seed):\n",
    "    \n",
    "    seed_everything(seed)\n",
    "    \n",
    "    train_ = process_data(train)\n",
    "    test_ = process_data(test)\n",
    "    \n",
    "    train_df = train_.loc[trn_idx,:].reset_index(drop=True)\n",
    "    valid_df = train_.loc[val_idx,:].reset_index(drop=True)\n",
    "    \n",
    "    x_train, y_train  = train_df[feature_cols].values, train_df[target_cols].values\n",
    "    x_valid, y_valid =  valid_df[feature_cols].values, valid_df[target_cols].values\n",
    "    \n",
    "    train_dataset = MoADataset(x_train, y_train)\n",
    "    valid_dataset = MoADataset(x_valid, y_valid)\n",
    "\n",
    "    trainloader = torch.utils.data.DataLoader(train_dataset, batch_size=BATCH_SIZE, shuffle=True)\n",
    "    validloader = torch.utils.data.DataLoader(valid_dataset, batch_size=BATCH_SIZE, shuffle=False)\n",
    "    \n",
    "    model = Model(\n",
    "        num_features=len(feature_cols),\n",
    "        num_targets=len(target_cols),\n",
    "    )\n",
    "    \n",
    "    model.to(DEVICE)\n",
    "       \n",
    "    optimizer = torch.optim.Adam(model.parameters(), lr=LEARNING_RATE, weight_decay=WEIGHT_DECAY)\n",
    "    scheduler = optim.lr_scheduler.OneCycleLR(optimizer=optimizer, pct_start=PCT_START, div_factor=DIV_FACS, \n",
    "                                              max_lr=MAX_LR, epochs=EPOCHS, steps_per_epoch=len(trainloader))\n",
    "    loss_fn = nn.BCEWithLogitsLoss()\n",
    "\n",
    "    oof = np.zeros((len(train), target.iloc[:, 1:].shape[1]))\n",
    "    best_loss = np.inf\n",
    "    best_loss_epoch = -1\n",
    "    \n",
    "    if IS_TRAIN:\n",
    "        for epoch in range(EPOCHS):\n",
    "\n",
    "            train_loss = train_fn(model, optimizer, scheduler, loss_fn, trainloader, DEVICE)\n",
    "            valid_loss, valid_preds = valid_fn(model, loss_fn, validloader, DEVICE)\n",
    "\n",
    "            if valid_loss < best_loss:            \n",
    "                best_loss = valid_loss\n",
    "                best_loss_epoch = epoch\n",
    "                oof[val_idx] = valid_preds\n",
    "                model.to('cpu')\n",
    "                torch.save(model.state_dict(), f\"{MODEL_DIR}/{NB}_nonscored_SEED{seed}_FOLD{fold}_.pth\")\n",
    "                model.to(DEVICE)\n",
    "\n",
    "            if epoch % 10 == 0 or epoch == EPOCHS-1:\n",
    "                print(f\"seed: {seed}, FOLD: {fold}, EPOCH: {epoch}, train_loss: {train_loss:.6f}, valid_loss: {valid_loss:.6f}, best_loss: {best_loss:.6f}, best_loss_epoch: {best_loss_epoch}\")                           \n",
    "    \n",
    "    #--------------------- PREDICTION---------------------\n",
    "    x_test = test_[feature_cols].values\n",
    "    testdataset = TestDataset(x_test)\n",
    "    testloader = torch.utils.data.DataLoader(testdataset, batch_size=BATCH_SIZE, shuffle=False)\n",
    "    \n",
    "    model = Model(\n",
    "        num_features=len(feature_cols),\n",
    "        num_targets=len(target_cols),\n",
    "    )\n",
    "    \n",
    "    model.load_state_dict(torch.load(f\"{MODEL_DIR}/{NB}_nonscored_SEED{seed}_FOLD{fold}_.pth\"))\n",
    "    model.to(DEVICE)\n",
    "    \n",
    "    if not IS_TRAIN:\n",
    "        valid_loss, valid_preds = valid_fn(model, loss_fn, validloader, DEVICE)\n",
    "        oof[val_idx] = valid_preds\n",
    "\n",
    "    predictions = np.zeros((len(test_), target.iloc[:, 1:].shape[1]))\n",
    "    predictions = inference_fn(model, testloader, DEVICE)\n",
    "    \n",
    "    return oof, predictions"
   ]
  },
  {
   "cell_type": "code",
   "execution_count": 14,
   "metadata": {
    "execution": {
     "iopub.execute_input": "2020-11-27T19:51:56.527170Z",
     "iopub.status.busy": "2020-11-27T19:51:56.526255Z",
     "iopub.status.idle": "2020-11-27T19:51:56.528877Z",
     "shell.execute_reply": "2020-11-27T19:51:56.529311Z"
    },
    "papermill": {
     "duration": 0.059244,
     "end_time": "2020-11-27T19:51:56.529453",
     "exception": false,
     "start_time": "2020-11-27T19:51:56.470209",
     "status": "completed"
    },
    "tags": []
   },
   "outputs": [],
   "source": [
    "def run_k_fold(train, test, feature_cols, target_cols, NFOLDS, seed):\n",
    "    oof = np.zeros((len(train), len(target_cols)))\n",
    "    predictions = np.zeros((len(test), len(target_cols)))\n",
    "    \n",
    "    mskf = RepeatedMultilabelStratifiedKFold(n_splits=NFOLDS, n_repeats=NREPEATS, random_state=None)\n",
    "    \n",
    "    for f, (t_idx, v_idx) in enumerate(mskf.split(X=train, y=target)):\n",
    "        oof_, pred_ = run_training(train, test, t_idx, v_idx, feature_cols, target_cols, f, seed)\n",
    "        \n",
    "        predictions += pred_ / NFOLDS / NREPEATS\n",
    "        oof += oof_ / NREPEATS\n",
    "        \n",
    "    return oof, predictions"
   ]
  },
  {
   "cell_type": "code",
   "execution_count": 15,
   "metadata": {
    "execution": {
     "iopub.execute_input": "2020-11-27T19:51:56.636416Z",
     "iopub.status.busy": "2020-11-27T19:51:56.634233Z",
     "iopub.status.idle": "2020-11-27T19:51:56.637131Z",
     "shell.execute_reply": "2020-11-27T19:51:56.637636Z"
    },
    "papermill": {
     "duration": 0.060555,
     "end_time": "2020-11-27T19:51:56.637771",
     "exception": false,
     "start_time": "2020-11-27T19:51:56.577216",
     "status": "completed"
    },
    "tags": []
   },
   "outputs": [],
   "source": [
    "def run_seeds(train, test, feature_cols, target_cols, nfolds=NFOLDS, nseed=NSEEDS):\n",
    "    seed_list = range(nseed)\n",
    "    oof = np.zeros((len(train), len(target_cols)))\n",
    "    predictions = np.zeros((len(test), len(target_cols)))\n",
    "\n",
    "    time_start = time.time()\n",
    "\n",
    "    for seed in seed_list:\n",
    "\n",
    "        oof_, predictions_ = run_k_fold(train, test, feature_cols, target_cols, nfolds, seed)\n",
    "        oof += oof_ / nseed\n",
    "        predictions += predictions_ / nseed\n",
    "        print(f\"seed {seed}, elapsed time: {time.time() - time_start}\")\n",
    "\n",
    "    train[target_cols] = oof\n",
    "    test[target_cols] = predictions"
   ]
  },
  {
   "cell_type": "code",
   "execution_count": 16,
   "metadata": {
    "execution": {
     "iopub.execute_input": "2020-11-27T19:51:56.741242Z",
     "iopub.status.busy": "2020-11-27T19:51:56.740339Z",
     "iopub.status.idle": "2020-11-27T19:52:01.903197Z",
     "shell.execute_reply": "2020-11-27T19:52:01.902018Z"
    },
    "papermill": {
     "duration": 5.2178,
     "end_time": "2020-11-27T19:52:01.903329",
     "exception": false,
     "start_time": "2020-11-27T19:51:56.685529",
     "status": "completed"
    },
    "tags": []
   },
   "outputs": [],
   "source": [
    "train_features = pd.read_csv('../input/lish-moa/train_features.csv')\n",
    "train_targets_scored = pd.read_csv('../input/lish-moa/train_targets_scored.csv')\n",
    "train_targets_nonscored = pd.read_csv('../input/lish-moa/train_targets_nonscored.csv')\n",
    "\n",
    "test_features = pd.read_csv('../input/lish-moa/test_features.csv')\n",
    "sample_submission = pd.read_csv('../input/lish-moa/sample_submission.csv')"
   ]
  },
  {
   "cell_type": "code",
   "execution_count": 17,
   "metadata": {
    "execution": {
     "iopub.execute_input": "2020-11-27T19:52:02.013980Z",
     "iopub.status.busy": "2020-11-27T19:52:02.012693Z",
     "iopub.status.idle": "2020-11-27T19:52:02.264259Z",
     "shell.execute_reply": "2020-11-27T19:52:02.263609Z"
    },
    "papermill": {
     "duration": 0.312147,
     "end_time": "2020-11-27T19:52:02.264390",
     "exception": false,
     "start_time": "2020-11-27T19:52:01.952243",
     "status": "completed"
    },
    "tags": []
   },
   "outputs": [],
   "source": [
    "train = pd.read_pickle(f\"{INT_DIR}/101_train_preprocessed.pkl\")\n",
    "test = pd.read_pickle(f\"{INT_DIR}/101_test_preprocessed.pkl\")"
   ]
  },
  {
   "cell_type": "code",
   "execution_count": 18,
   "metadata": {
    "execution": {
     "iopub.execute_input": "2020-11-27T19:52:02.366877Z",
     "iopub.status.busy": "2020-11-27T19:52:02.366153Z",
     "iopub.status.idle": "2020-11-27T19:52:02.789059Z",
     "shell.execute_reply": "2020-11-27T19:52:02.788185Z"
    },
    "papermill": {
     "duration": 0.476929,
     "end_time": "2020-11-27T19:52:02.789174",
     "exception": false,
     "start_time": "2020-11-27T19:52:02.312245",
     "status": "completed"
    },
    "tags": []
   },
   "outputs": [],
   "source": [
    "train_trainbook = pd.read_pickle(\"../input/503-203-tabnet-with-nonscored-features-train/interim/101_train_preprocessed.pkl\")\n",
    "test_trainbook = pd.read_pickle(\"../input/503-203-tabnet-with-nonscored-features-train/interim/101_test_preprocessed.pkl\")"
   ]
  },
  {
   "cell_type": "code",
   "execution_count": 19,
   "metadata": {
    "execution": {
     "iopub.execute_input": "2020-11-27T19:52:02.904723Z",
     "iopub.status.busy": "2020-11-27T19:52:02.904048Z",
     "iopub.status.idle": "2020-11-27T19:52:02.921523Z",
     "shell.execute_reply": "2020-11-27T19:52:02.922039Z"
    },
    "papermill": {
     "duration": 0.08388,
     "end_time": "2020-11-27T19:52:02.922191",
     "exception": false,
     "start_time": "2020-11-27T19:52:02.838311",
     "status": "completed"
    },
    "tags": []
   },
   "outputs": [
    {
     "data": {
      "text/html": [
       "<div>\n",
       "<style scoped>\n",
       "    .dataframe tbody tr th:only-of-type {\n",
       "        vertical-align: middle;\n",
       "    }\n",
       "\n",
       "    .dataframe tbody tr th {\n",
       "        vertical-align: top;\n",
       "    }\n",
       "\n",
       "    .dataframe thead th {\n",
       "        text-align: right;\n",
       "    }\n",
       "</style>\n",
       "<table border=\"1\" class=\"dataframe\">\n",
       "  <thead>\n",
       "    <tr style=\"text-align: right;\">\n",
       "      <th></th>\n",
       "      <th>sig_id</th>\n",
       "      <th>cp_time</th>\n",
       "      <th>cp_dose</th>\n",
       "      <th>0</th>\n",
       "      <th>1</th>\n",
       "      <th>2</th>\n",
       "      <th>3</th>\n",
       "      <th>4</th>\n",
       "      <th>5</th>\n",
       "      <th>6</th>\n",
       "      <th>...</th>\n",
       "      <th>939</th>\n",
       "      <th>940</th>\n",
       "      <th>941</th>\n",
       "      <th>942</th>\n",
       "      <th>943</th>\n",
       "      <th>944</th>\n",
       "      <th>945</th>\n",
       "      <th>946</th>\n",
       "      <th>947</th>\n",
       "      <th>948</th>\n",
       "    </tr>\n",
       "  </thead>\n",
       "  <tbody>\n",
       "    <tr>\n",
       "      <th>0</th>\n",
       "      <td>id_000644bb2</td>\n",
       "      <td>24</td>\n",
       "      <td>D1</td>\n",
       "      <td>1.146806</td>\n",
       "      <td>0.902075</td>\n",
       "      <td>-0.418339</td>\n",
       "      <td>-0.961202</td>\n",
       "      <td>-0.254770</td>\n",
       "      <td>-1.021300</td>\n",
       "      <td>-1.369236</td>\n",
       "      <td>...</td>\n",
       "      <td>0.062274</td>\n",
       "      <td>0.094919</td>\n",
       "      <td>-1.074647</td>\n",
       "      <td>-0.000892</td>\n",
       "      <td>0.148713</td>\n",
       "      <td>0.441203</td>\n",
       "      <td>5.345622</td>\n",
       "      <td>6.952286</td>\n",
       "      <td>4.329549</td>\n",
       "      <td>7.042497</td>\n",
       "    </tr>\n",
       "    <tr>\n",
       "      <th>1</th>\n",
       "      <td>id_000779bfc</td>\n",
       "      <td>72</td>\n",
       "      <td>D1</td>\n",
       "      <td>0.128824</td>\n",
       "      <td>0.676862</td>\n",
       "      <td>0.274345</td>\n",
       "      <td>0.090495</td>\n",
       "      <td>1.208863</td>\n",
       "      <td>0.688965</td>\n",
       "      <td>0.316734</td>\n",
       "      <td>...</td>\n",
       "      <td>0.301994</td>\n",
       "      <td>0.417603</td>\n",
       "      <td>0.127650</td>\n",
       "      <td>-0.250373</td>\n",
       "      <td>-1.234441</td>\n",
       "      <td>-0.264930</td>\n",
       "      <td>4.399492</td>\n",
       "      <td>6.686586</td>\n",
       "      <td>4.438878</td>\n",
       "      <td>7.331173</td>\n",
       "    </tr>\n",
       "    <tr>\n",
       "      <th>2</th>\n",
       "      <td>id_000a6266a</td>\n",
       "      <td>48</td>\n",
       "      <td>D1</td>\n",
       "      <td>0.790372</td>\n",
       "      <td>0.939951</td>\n",
       "      <td>1.428097</td>\n",
       "      <td>-0.121817</td>\n",
       "      <td>-0.002067</td>\n",
       "      <td>1.495091</td>\n",
       "      <td>0.238763</td>\n",
       "      <td>...</td>\n",
       "      <td>0.639748</td>\n",
       "      <td>-0.079306</td>\n",
       "      <td>0.475480</td>\n",
       "      <td>0.488122</td>\n",
       "      <td>-0.765813</td>\n",
       "      <td>0.481859</td>\n",
       "      <td>8.378982</td>\n",
       "      <td>4.683350</td>\n",
       "      <td>4.886256</td>\n",
       "      <td>5.677063</td>\n",
       "    </tr>\n",
       "    <tr>\n",
       "      <th>3</th>\n",
       "      <td>id_0015fd391</td>\n",
       "      <td>48</td>\n",
       "      <td>D1</td>\n",
       "      <td>-0.729866</td>\n",
       "      <td>-0.277163</td>\n",
       "      <td>-0.441200</td>\n",
       "      <td>0.766612</td>\n",
       "      <td>2.347817</td>\n",
       "      <td>-0.862761</td>\n",
       "      <td>-2.308829</td>\n",
       "      <td>...</td>\n",
       "      <td>-1.416812</td>\n",
       "      <td>0.824787</td>\n",
       "      <td>-0.435681</td>\n",
       "      <td>0.071915</td>\n",
       "      <td>-1.602356</td>\n",
       "      <td>3.817252</td>\n",
       "      <td>12.061674</td>\n",
       "      <td>3.476293</td>\n",
       "      <td>6.478338</td>\n",
       "      <td>4.248512</td>\n",
       "    </tr>\n",
       "    <tr>\n",
       "      <th>4</th>\n",
       "      <td>id_001626bd3</td>\n",
       "      <td>72</td>\n",
       "      <td>D2</td>\n",
       "      <td>-0.444558</td>\n",
       "      <td>-0.481202</td>\n",
       "      <td>0.974729</td>\n",
       "      <td>0.977467</td>\n",
       "      <td>1.468304</td>\n",
       "      <td>-0.874772</td>\n",
       "      <td>-0.372682</td>\n",
       "      <td>...</td>\n",
       "      <td>-0.040942</td>\n",
       "      <td>-1.678616</td>\n",
       "      <td>-0.287531</td>\n",
       "      <td>-0.586098</td>\n",
       "      <td>-0.058102</td>\n",
       "      <td>0.308653</td>\n",
       "      <td>4.826563</td>\n",
       "      <td>6.495025</td>\n",
       "      <td>4.513490</td>\n",
       "      <td>6.920452</td>\n",
       "    </tr>\n",
       "  </tbody>\n",
       "</table>\n",
       "<p>5 rows × 952 columns</p>\n",
       "</div>"
      ],
      "text/plain": [
       "         sig_id cp_time cp_dose         0         1         2         3  \\\n",
       "0  id_000644bb2      24      D1  1.146806  0.902075 -0.418339 -0.961202   \n",
       "1  id_000779bfc      72      D1  0.128824  0.676862  0.274345  0.090495   \n",
       "2  id_000a6266a      48      D1  0.790372  0.939951  1.428097 -0.121817   \n",
       "3  id_0015fd391      48      D1 -0.729866 -0.277163 -0.441200  0.766612   \n",
       "4  id_001626bd3      72      D2 -0.444558 -0.481202  0.974729  0.977467   \n",
       "\n",
       "          4         5         6  ...       939       940       941       942  \\\n",
       "0 -0.254770 -1.021300 -1.369236  ...  0.062274  0.094919 -1.074647 -0.000892   \n",
       "1  1.208863  0.688965  0.316734  ...  0.301994  0.417603  0.127650 -0.250373   \n",
       "2 -0.002067  1.495091  0.238763  ...  0.639748 -0.079306  0.475480  0.488122   \n",
       "3  2.347817 -0.862761 -2.308829  ... -1.416812  0.824787 -0.435681  0.071915   \n",
       "4  1.468304 -0.874772 -0.372682  ... -0.040942 -1.678616 -0.287531 -0.586098   \n",
       "\n",
       "        943       944        945       946       947       948  \n",
       "0  0.148713  0.441203   5.345622  6.952286  4.329549  7.042497  \n",
       "1 -1.234441 -0.264930   4.399492  6.686586  4.438878  7.331173  \n",
       "2 -0.765813  0.481859   8.378982  4.683350  4.886256  5.677063  \n",
       "3 -1.602356  3.817252  12.061674  3.476293  6.478338  4.248512  \n",
       "4 -0.058102  0.308653   4.826563  6.495025  4.513490  6.920452  \n",
       "\n",
       "[5 rows x 952 columns]"
      ]
     },
     "execution_count": 19,
     "metadata": {},
     "output_type": "execute_result"
    }
   ],
   "source": [
    "train_trainbook.head()"
   ]
  },
  {
   "cell_type": "code",
   "execution_count": 20,
   "metadata": {
    "execution": {
     "iopub.execute_input": "2020-11-27T19:52:03.040962Z",
     "iopub.status.busy": "2020-11-27T19:52:03.039341Z",
     "iopub.status.idle": "2020-11-27T19:52:03.063513Z",
     "shell.execute_reply": "2020-11-27T19:52:03.063001Z"
    },
    "papermill": {
     "duration": 0.092072,
     "end_time": "2020-11-27T19:52:03.063642",
     "exception": false,
     "start_time": "2020-11-27T19:52:02.971570",
     "status": "completed"
    },
    "tags": []
   },
   "outputs": [
    {
     "data": {
      "text/html": [
       "<div>\n",
       "<style scoped>\n",
       "    .dataframe tbody tr th:only-of-type {\n",
       "        vertical-align: middle;\n",
       "    }\n",
       "\n",
       "    .dataframe tbody tr th {\n",
       "        vertical-align: top;\n",
       "    }\n",
       "\n",
       "    .dataframe thead th {\n",
       "        text-align: right;\n",
       "    }\n",
       "</style>\n",
       "<table border=\"1\" class=\"dataframe\">\n",
       "  <thead>\n",
       "    <tr style=\"text-align: right;\">\n",
       "      <th></th>\n",
       "      <th>sig_id</th>\n",
       "      <th>cp_time</th>\n",
       "      <th>cp_dose</th>\n",
       "      <th>0</th>\n",
       "      <th>1</th>\n",
       "      <th>2</th>\n",
       "      <th>3</th>\n",
       "      <th>4</th>\n",
       "      <th>5</th>\n",
       "      <th>6</th>\n",
       "      <th>...</th>\n",
       "      <th>939</th>\n",
       "      <th>940</th>\n",
       "      <th>941</th>\n",
       "      <th>942</th>\n",
       "      <th>943</th>\n",
       "      <th>944</th>\n",
       "      <th>945</th>\n",
       "      <th>946</th>\n",
       "      <th>947</th>\n",
       "      <th>948</th>\n",
       "    </tr>\n",
       "  </thead>\n",
       "  <tbody>\n",
       "    <tr>\n",
       "      <th>0</th>\n",
       "      <td>id_000644bb2</td>\n",
       "      <td>24</td>\n",
       "      <td>D1</td>\n",
       "      <td>1.146806</td>\n",
       "      <td>0.902075</td>\n",
       "      <td>-0.418339</td>\n",
       "      <td>-0.961202</td>\n",
       "      <td>-0.254770</td>\n",
       "      <td>-1.021300</td>\n",
       "      <td>-1.369236</td>\n",
       "      <td>...</td>\n",
       "      <td>0.062274</td>\n",
       "      <td>0.094919</td>\n",
       "      <td>-1.074647</td>\n",
       "      <td>-0.000892</td>\n",
       "      <td>0.148713</td>\n",
       "      <td>0.441203</td>\n",
       "      <td>5.345622</td>\n",
       "      <td>6.952286</td>\n",
       "      <td>4.329549</td>\n",
       "      <td>7.042497</td>\n",
       "    </tr>\n",
       "    <tr>\n",
       "      <th>1</th>\n",
       "      <td>id_000779bfc</td>\n",
       "      <td>72</td>\n",
       "      <td>D1</td>\n",
       "      <td>0.128824</td>\n",
       "      <td>0.676862</td>\n",
       "      <td>0.274345</td>\n",
       "      <td>0.090495</td>\n",
       "      <td>1.208863</td>\n",
       "      <td>0.688965</td>\n",
       "      <td>0.316734</td>\n",
       "      <td>...</td>\n",
       "      <td>0.301994</td>\n",
       "      <td>0.417603</td>\n",
       "      <td>0.127650</td>\n",
       "      <td>-0.250373</td>\n",
       "      <td>-1.234441</td>\n",
       "      <td>-0.264930</td>\n",
       "      <td>4.399492</td>\n",
       "      <td>6.686586</td>\n",
       "      <td>4.438878</td>\n",
       "      <td>7.331173</td>\n",
       "    </tr>\n",
       "    <tr>\n",
       "      <th>2</th>\n",
       "      <td>id_000a6266a</td>\n",
       "      <td>48</td>\n",
       "      <td>D1</td>\n",
       "      <td>0.790372</td>\n",
       "      <td>0.939951</td>\n",
       "      <td>1.428097</td>\n",
       "      <td>-0.121817</td>\n",
       "      <td>-0.002067</td>\n",
       "      <td>1.495091</td>\n",
       "      <td>0.238763</td>\n",
       "      <td>...</td>\n",
       "      <td>0.639748</td>\n",
       "      <td>-0.079306</td>\n",
       "      <td>0.475480</td>\n",
       "      <td>0.488122</td>\n",
       "      <td>-0.765813</td>\n",
       "      <td>0.481859</td>\n",
       "      <td>8.378982</td>\n",
       "      <td>4.683350</td>\n",
       "      <td>4.886256</td>\n",
       "      <td>5.677063</td>\n",
       "    </tr>\n",
       "    <tr>\n",
       "      <th>3</th>\n",
       "      <td>id_0015fd391</td>\n",
       "      <td>48</td>\n",
       "      <td>D1</td>\n",
       "      <td>-0.729866</td>\n",
       "      <td>-0.277163</td>\n",
       "      <td>-0.441200</td>\n",
       "      <td>0.766612</td>\n",
       "      <td>2.347817</td>\n",
       "      <td>-0.862761</td>\n",
       "      <td>-2.308829</td>\n",
       "      <td>...</td>\n",
       "      <td>-1.416812</td>\n",
       "      <td>0.824787</td>\n",
       "      <td>-0.435681</td>\n",
       "      <td>0.071915</td>\n",
       "      <td>-1.602356</td>\n",
       "      <td>3.817252</td>\n",
       "      <td>12.061674</td>\n",
       "      <td>3.476293</td>\n",
       "      <td>6.478338</td>\n",
       "      <td>4.248512</td>\n",
       "    </tr>\n",
       "    <tr>\n",
       "      <th>4</th>\n",
       "      <td>id_001626bd3</td>\n",
       "      <td>72</td>\n",
       "      <td>D2</td>\n",
       "      <td>-0.444558</td>\n",
       "      <td>-0.481202</td>\n",
       "      <td>0.974729</td>\n",
       "      <td>0.977467</td>\n",
       "      <td>1.468304</td>\n",
       "      <td>-0.874772</td>\n",
       "      <td>-0.372682</td>\n",
       "      <td>...</td>\n",
       "      <td>-0.040942</td>\n",
       "      <td>-1.678616</td>\n",
       "      <td>-0.287531</td>\n",
       "      <td>-0.586098</td>\n",
       "      <td>-0.058102</td>\n",
       "      <td>0.308653</td>\n",
       "      <td>4.826563</td>\n",
       "      <td>6.495025</td>\n",
       "      <td>4.513490</td>\n",
       "      <td>6.920452</td>\n",
       "    </tr>\n",
       "  </tbody>\n",
       "</table>\n",
       "<p>5 rows × 952 columns</p>\n",
       "</div>"
      ],
      "text/plain": [
       "         sig_id cp_time cp_dose         0         1         2         3  \\\n",
       "0  id_000644bb2      24      D1  1.146806  0.902075 -0.418339 -0.961202   \n",
       "1  id_000779bfc      72      D1  0.128824  0.676862  0.274345  0.090495   \n",
       "2  id_000a6266a      48      D1  0.790372  0.939951  1.428097 -0.121817   \n",
       "3  id_0015fd391      48      D1 -0.729866 -0.277163 -0.441200  0.766612   \n",
       "4  id_001626bd3      72      D2 -0.444558 -0.481202  0.974729  0.977467   \n",
       "\n",
       "          4         5         6  ...       939       940       941       942  \\\n",
       "0 -0.254770 -1.021300 -1.369236  ...  0.062274  0.094919 -1.074647 -0.000892   \n",
       "1  1.208863  0.688965  0.316734  ...  0.301994  0.417603  0.127650 -0.250373   \n",
       "2 -0.002067  1.495091  0.238763  ...  0.639748 -0.079306  0.475480  0.488122   \n",
       "3  2.347817 -0.862761 -2.308829  ... -1.416812  0.824787 -0.435681  0.071915   \n",
       "4  1.468304 -0.874772 -0.372682  ... -0.040942 -1.678616 -0.287531 -0.586098   \n",
       "\n",
       "        943       944        945       946       947       948  \n",
       "0  0.148713  0.441203   5.345622  6.952286  4.329549  7.042497  \n",
       "1 -1.234441 -0.264930   4.399492  6.686586  4.438878  7.331173  \n",
       "2 -0.765813  0.481859   8.378982  4.683350  4.886256  5.677063  \n",
       "3 -1.602356  3.817252  12.061674  3.476293  6.478338  4.248512  \n",
       "4 -0.058102  0.308653   4.826563  6.495025  4.513490  6.920452  \n",
       "\n",
       "[5 rows x 952 columns]"
      ]
     },
     "execution_count": 20,
     "metadata": {},
     "output_type": "execute_result"
    }
   ],
   "source": [
    "train.head()"
   ]
  },
  {
   "cell_type": "code",
   "execution_count": 21,
   "metadata": {
    "execution": {
     "iopub.execute_input": "2020-11-27T19:52:03.187640Z",
     "iopub.status.busy": "2020-11-27T19:52:03.177916Z",
     "iopub.status.idle": "2020-11-27T19:52:03.194857Z",
     "shell.execute_reply": "2020-11-27T19:52:03.195372Z"
    },
    "papermill": {
     "duration": 0.082341,
     "end_time": "2020-11-27T19:52:03.195520",
     "exception": false,
     "start_time": "2020-11-27T19:52:03.113179",
     "status": "completed"
    },
    "tags": []
   },
   "outputs": [
    {
     "data": {
      "text/html": [
       "<div>\n",
       "<style scoped>\n",
       "    .dataframe tbody tr th:only-of-type {\n",
       "        vertical-align: middle;\n",
       "    }\n",
       "\n",
       "    .dataframe tbody tr th {\n",
       "        vertical-align: top;\n",
       "    }\n",
       "\n",
       "    .dataframe thead th {\n",
       "        text-align: right;\n",
       "    }\n",
       "</style>\n",
       "<table border=\"1\" class=\"dataframe\">\n",
       "  <thead>\n",
       "    <tr style=\"text-align: right;\">\n",
       "      <th></th>\n",
       "      <th>sig_id</th>\n",
       "      <th>cp_time</th>\n",
       "      <th>cp_dose</th>\n",
       "      <th>0</th>\n",
       "      <th>1</th>\n",
       "      <th>2</th>\n",
       "      <th>3</th>\n",
       "      <th>4</th>\n",
       "      <th>5</th>\n",
       "      <th>6</th>\n",
       "      <th>...</th>\n",
       "      <th>939</th>\n",
       "      <th>940</th>\n",
       "      <th>941</th>\n",
       "      <th>942</th>\n",
       "      <th>943</th>\n",
       "      <th>944</th>\n",
       "      <th>945</th>\n",
       "      <th>946</th>\n",
       "      <th>947</th>\n",
       "      <th>948</th>\n",
       "    </tr>\n",
       "  </thead>\n",
       "  <tbody>\n",
       "    <tr>\n",
       "      <th>0</th>\n",
       "      <td>id_0004d9e33</td>\n",
       "      <td>24</td>\n",
       "      <td>D1</td>\n",
       "      <td>-0.777227</td>\n",
       "      <td>0.255997</td>\n",
       "      <td>-0.779029</td>\n",
       "      <td>0.649260</td>\n",
       "      <td>1.537526</td>\n",
       "      <td>-0.191916</td>\n",
       "      <td>-0.288059</td>\n",
       "      <td>...</td>\n",
       "      <td>0.279631</td>\n",
       "      <td>-0.144543</td>\n",
       "      <td>0.835539</td>\n",
       "      <td>-0.575650</td>\n",
       "      <td>-0.435310</td>\n",
       "      <td>0.163661</td>\n",
       "      <td>7.740224</td>\n",
       "      <td>4.379710</td>\n",
       "      <td>4.912961</td>\n",
       "      <td>5.119428</td>\n",
       "    </tr>\n",
       "    <tr>\n",
       "      <th>1</th>\n",
       "      <td>id_001897cda</td>\n",
       "      <td>72</td>\n",
       "      <td>D1</td>\n",
       "      <td>-0.237386</td>\n",
       "      <td>0.410609</td>\n",
       "      <td>1.169721</td>\n",
       "      <td>-0.701042</td>\n",
       "      <td>-0.522283</td>\n",
       "      <td>-0.392441</td>\n",
       "      <td>-2.229443</td>\n",
       "      <td>...</td>\n",
       "      <td>-0.542819</td>\n",
       "      <td>0.536238</td>\n",
       "      <td>-0.565201</td>\n",
       "      <td>-0.455186</td>\n",
       "      <td>-0.344354</td>\n",
       "      <td>1.535097</td>\n",
       "      <td>9.996663</td>\n",
       "      <td>3.693269</td>\n",
       "      <td>5.555248</td>\n",
       "      <td>4.090082</td>\n",
       "    </tr>\n",
       "    <tr>\n",
       "      <th>2</th>\n",
       "      <td>id_00276f245</td>\n",
       "      <td>24</td>\n",
       "      <td>D2</td>\n",
       "      <td>0.639705</td>\n",
       "      <td>0.353746</td>\n",
       "      <td>0.367850</td>\n",
       "      <td>0.625523</td>\n",
       "      <td>-0.845431</td>\n",
       "      <td>-1.153764</td>\n",
       "      <td>0.769471</td>\n",
       "      <td>...</td>\n",
       "      <td>-0.524835</td>\n",
       "      <td>-0.397808</td>\n",
       "      <td>0.148267</td>\n",
       "      <td>0.192239</td>\n",
       "      <td>1.455503</td>\n",
       "      <td>1.461473</td>\n",
       "      <td>7.693301</td>\n",
       "      <td>4.637567</td>\n",
       "      <td>4.482897</td>\n",
       "      <td>5.371950</td>\n",
       "    </tr>\n",
       "    <tr>\n",
       "      <th>3</th>\n",
       "      <td>id_0027f1083</td>\n",
       "      <td>48</td>\n",
       "      <td>D1</td>\n",
       "      <td>-0.555846</td>\n",
       "      <td>-1.459019</td>\n",
       "      <td>1.657137</td>\n",
       "      <td>0.309606</td>\n",
       "      <td>-0.846689</td>\n",
       "      <td>-0.000834</td>\n",
       "      <td>0.663091</td>\n",
       "      <td>...</td>\n",
       "      <td>-0.025009</td>\n",
       "      <td>0.235601</td>\n",
       "      <td>1.712936</td>\n",
       "      <td>0.541010</td>\n",
       "      <td>-1.502605</td>\n",
       "      <td>0.057775</td>\n",
       "      <td>3.397859</td>\n",
       "      <td>7.692190</td>\n",
       "      <td>3.012004</td>\n",
       "      <td>8.241888</td>\n",
       "    </tr>\n",
       "    <tr>\n",
       "      <th>4</th>\n",
       "      <td>id_006fc47b8</td>\n",
       "      <td>48</td>\n",
       "      <td>D2</td>\n",
       "      <td>0.502791</td>\n",
       "      <td>0.895880</td>\n",
       "      <td>-1.024229</td>\n",
       "      <td>-2.096935</td>\n",
       "      <td>0.744876</td>\n",
       "      <td>-0.452935</td>\n",
       "      <td>-0.631912</td>\n",
       "      <td>...</td>\n",
       "      <td>0.277304</td>\n",
       "      <td>1.489272</td>\n",
       "      <td>-0.317592</td>\n",
       "      <td>0.228753</td>\n",
       "      <td>0.681729</td>\n",
       "      <td>1.926536</td>\n",
       "      <td>10.377992</td>\n",
       "      <td>3.615096</td>\n",
       "      <td>5.525377</td>\n",
       "      <td>4.081971</td>\n",
       "    </tr>\n",
       "  </tbody>\n",
       "</table>\n",
       "<p>5 rows × 952 columns</p>\n",
       "</div>"
      ],
      "text/plain": [
       "         sig_id cp_time cp_dose         0         1         2         3  \\\n",
       "0  id_0004d9e33      24      D1 -0.777227  0.255997 -0.779029  0.649260   \n",
       "1  id_001897cda      72      D1 -0.237386  0.410609  1.169721 -0.701042   \n",
       "2  id_00276f245      24      D2  0.639705  0.353746  0.367850  0.625523   \n",
       "3  id_0027f1083      48      D1 -0.555846 -1.459019  1.657137  0.309606   \n",
       "4  id_006fc47b8      48      D2  0.502791  0.895880 -1.024229 -2.096935   \n",
       "\n",
       "          4         5         6  ...       939       940       941       942  \\\n",
       "0  1.537526 -0.191916 -0.288059  ...  0.279631 -0.144543  0.835539 -0.575650   \n",
       "1 -0.522283 -0.392441 -2.229443  ... -0.542819  0.536238 -0.565201 -0.455186   \n",
       "2 -0.845431 -1.153764  0.769471  ... -0.524835 -0.397808  0.148267  0.192239   \n",
       "3 -0.846689 -0.000834  0.663091  ... -0.025009  0.235601  1.712936  0.541010   \n",
       "4  0.744876 -0.452935 -0.631912  ...  0.277304  1.489272 -0.317592  0.228753   \n",
       "\n",
       "        943       944        945       946       947       948  \n",
       "0 -0.435310  0.163661   7.740224  4.379710  4.912961  5.119428  \n",
       "1 -0.344354  1.535097   9.996663  3.693269  5.555248  4.090082  \n",
       "2  1.455503  1.461473   7.693301  4.637567  4.482897  5.371950  \n",
       "3 -1.502605  0.057775   3.397859  7.692190  3.012004  8.241888  \n",
       "4  0.681729  1.926536  10.377992  3.615096  5.525377  4.081971  \n",
       "\n",
       "[5 rows x 952 columns]"
      ]
     },
     "execution_count": 21,
     "metadata": {},
     "output_type": "execute_result"
    }
   ],
   "source": [
    "test_trainbook.head()"
   ]
  },
  {
   "cell_type": "code",
   "execution_count": 22,
   "metadata": {
    "execution": {
     "iopub.execute_input": "2020-11-27T19:52:03.324797Z",
     "iopub.status.busy": "2020-11-27T19:52:03.312876Z",
     "iopub.status.idle": "2020-11-27T19:52:03.329669Z",
     "shell.execute_reply": "2020-11-27T19:52:03.330105Z"
    },
    "papermill": {
     "duration": 0.082038,
     "end_time": "2020-11-27T19:52:03.330230",
     "exception": false,
     "start_time": "2020-11-27T19:52:03.248192",
     "status": "completed"
    },
    "tags": []
   },
   "outputs": [
    {
     "data": {
      "text/html": [
       "<div>\n",
       "<style scoped>\n",
       "    .dataframe tbody tr th:only-of-type {\n",
       "        vertical-align: middle;\n",
       "    }\n",
       "\n",
       "    .dataframe tbody tr th {\n",
       "        vertical-align: top;\n",
       "    }\n",
       "\n",
       "    .dataframe thead th {\n",
       "        text-align: right;\n",
       "    }\n",
       "</style>\n",
       "<table border=\"1\" class=\"dataframe\">\n",
       "  <thead>\n",
       "    <tr style=\"text-align: right;\">\n",
       "      <th></th>\n",
       "      <th>sig_id</th>\n",
       "      <th>cp_time</th>\n",
       "      <th>cp_dose</th>\n",
       "      <th>0</th>\n",
       "      <th>1</th>\n",
       "      <th>2</th>\n",
       "      <th>3</th>\n",
       "      <th>4</th>\n",
       "      <th>5</th>\n",
       "      <th>6</th>\n",
       "      <th>...</th>\n",
       "      <th>939</th>\n",
       "      <th>940</th>\n",
       "      <th>941</th>\n",
       "      <th>942</th>\n",
       "      <th>943</th>\n",
       "      <th>944</th>\n",
       "      <th>945</th>\n",
       "      <th>946</th>\n",
       "      <th>947</th>\n",
       "      <th>948</th>\n",
       "    </tr>\n",
       "  </thead>\n",
       "  <tbody>\n",
       "    <tr>\n",
       "      <th>0</th>\n",
       "      <td>id_0004d9e33</td>\n",
       "      <td>24</td>\n",
       "      <td>D1</td>\n",
       "      <td>-0.777227</td>\n",
       "      <td>0.255997</td>\n",
       "      <td>-0.779029</td>\n",
       "      <td>0.649260</td>\n",
       "      <td>1.537526</td>\n",
       "      <td>-0.191916</td>\n",
       "      <td>-0.288059</td>\n",
       "      <td>...</td>\n",
       "      <td>0.279631</td>\n",
       "      <td>-0.144543</td>\n",
       "      <td>0.835539</td>\n",
       "      <td>-0.575650</td>\n",
       "      <td>-0.435310</td>\n",
       "      <td>0.163661</td>\n",
       "      <td>7.740224</td>\n",
       "      <td>4.379710</td>\n",
       "      <td>4.912961</td>\n",
       "      <td>5.119428</td>\n",
       "    </tr>\n",
       "    <tr>\n",
       "      <th>1</th>\n",
       "      <td>id_001897cda</td>\n",
       "      <td>72</td>\n",
       "      <td>D1</td>\n",
       "      <td>-0.237386</td>\n",
       "      <td>0.410609</td>\n",
       "      <td>1.169721</td>\n",
       "      <td>-0.701042</td>\n",
       "      <td>-0.522283</td>\n",
       "      <td>-0.392441</td>\n",
       "      <td>-2.229443</td>\n",
       "      <td>...</td>\n",
       "      <td>-0.542819</td>\n",
       "      <td>0.536238</td>\n",
       "      <td>-0.565201</td>\n",
       "      <td>-0.455186</td>\n",
       "      <td>-0.344354</td>\n",
       "      <td>1.535097</td>\n",
       "      <td>9.996663</td>\n",
       "      <td>3.693269</td>\n",
       "      <td>5.555248</td>\n",
       "      <td>4.090082</td>\n",
       "    </tr>\n",
       "    <tr>\n",
       "      <th>2</th>\n",
       "      <td>id_00276f245</td>\n",
       "      <td>24</td>\n",
       "      <td>D2</td>\n",
       "      <td>0.639705</td>\n",
       "      <td>0.353746</td>\n",
       "      <td>0.367850</td>\n",
       "      <td>0.625523</td>\n",
       "      <td>-0.845431</td>\n",
       "      <td>-1.153764</td>\n",
       "      <td>0.769471</td>\n",
       "      <td>...</td>\n",
       "      <td>-0.524835</td>\n",
       "      <td>-0.397808</td>\n",
       "      <td>0.148267</td>\n",
       "      <td>0.192239</td>\n",
       "      <td>1.455503</td>\n",
       "      <td>1.461473</td>\n",
       "      <td>7.693301</td>\n",
       "      <td>4.637567</td>\n",
       "      <td>4.482897</td>\n",
       "      <td>5.371950</td>\n",
       "    </tr>\n",
       "    <tr>\n",
       "      <th>3</th>\n",
       "      <td>id_0027f1083</td>\n",
       "      <td>48</td>\n",
       "      <td>D1</td>\n",
       "      <td>-0.555846</td>\n",
       "      <td>-1.459019</td>\n",
       "      <td>1.657137</td>\n",
       "      <td>0.309606</td>\n",
       "      <td>-0.846689</td>\n",
       "      <td>-0.000834</td>\n",
       "      <td>0.663091</td>\n",
       "      <td>...</td>\n",
       "      <td>-0.025009</td>\n",
       "      <td>0.235601</td>\n",
       "      <td>1.712936</td>\n",
       "      <td>0.541010</td>\n",
       "      <td>-1.502605</td>\n",
       "      <td>0.057775</td>\n",
       "      <td>3.397859</td>\n",
       "      <td>7.692190</td>\n",
       "      <td>3.012004</td>\n",
       "      <td>8.241888</td>\n",
       "    </tr>\n",
       "    <tr>\n",
       "      <th>4</th>\n",
       "      <td>id_006fc47b8</td>\n",
       "      <td>48</td>\n",
       "      <td>D2</td>\n",
       "      <td>0.502791</td>\n",
       "      <td>0.895880</td>\n",
       "      <td>-1.024229</td>\n",
       "      <td>-2.096935</td>\n",
       "      <td>0.744876</td>\n",
       "      <td>-0.452935</td>\n",
       "      <td>-0.631912</td>\n",
       "      <td>...</td>\n",
       "      <td>0.277304</td>\n",
       "      <td>1.489272</td>\n",
       "      <td>-0.317592</td>\n",
       "      <td>0.228753</td>\n",
       "      <td>0.681729</td>\n",
       "      <td>1.926536</td>\n",
       "      <td>10.377992</td>\n",
       "      <td>3.615096</td>\n",
       "      <td>5.525377</td>\n",
       "      <td>4.081971</td>\n",
       "    </tr>\n",
       "  </tbody>\n",
       "</table>\n",
       "<p>5 rows × 952 columns</p>\n",
       "</div>"
      ],
      "text/plain": [
       "         sig_id cp_time cp_dose         0         1         2         3  \\\n",
       "0  id_0004d9e33      24      D1 -0.777227  0.255997 -0.779029  0.649260   \n",
       "1  id_001897cda      72      D1 -0.237386  0.410609  1.169721 -0.701042   \n",
       "2  id_00276f245      24      D2  0.639705  0.353746  0.367850  0.625523   \n",
       "3  id_0027f1083      48      D1 -0.555846 -1.459019  1.657137  0.309606   \n",
       "4  id_006fc47b8      48      D2  0.502791  0.895880 -1.024229 -2.096935   \n",
       "\n",
       "          4         5         6  ...       939       940       941       942  \\\n",
       "0  1.537526 -0.191916 -0.288059  ...  0.279631 -0.144543  0.835539 -0.575650   \n",
       "1 -0.522283 -0.392441 -2.229443  ... -0.542819  0.536238 -0.565201 -0.455186   \n",
       "2 -0.845431 -1.153764  0.769471  ... -0.524835 -0.397808  0.148267  0.192239   \n",
       "3 -0.846689 -0.000834  0.663091  ... -0.025009  0.235601  1.712936  0.541010   \n",
       "4  0.744876 -0.452935 -0.631912  ...  0.277304  1.489272 -0.317592  0.228753   \n",
       "\n",
       "        943       944        945       946       947       948  \n",
       "0 -0.435310  0.163661   7.740224  4.379710  4.912961  5.119428  \n",
       "1 -0.344354  1.535097   9.996663  3.693269  5.555248  4.090082  \n",
       "2  1.455503  1.461473   7.693301  4.637567  4.482897  5.371950  \n",
       "3 -1.502605  0.057775   3.397859  7.692190  3.012004  8.241888  \n",
       "4  0.681729  1.926536  10.377992  3.615096  5.525377  4.081971  \n",
       "\n",
       "[5 rows x 952 columns]"
      ]
     },
     "execution_count": 22,
     "metadata": {},
     "output_type": "execute_result"
    }
   ],
   "source": [
    "test.head()"
   ]
  },
  {
   "cell_type": "markdown",
   "metadata": {
    "papermill": {
     "duration": 0.050974,
     "end_time": "2020-11-27T19:52:03.433532",
     "exception": false,
     "start_time": "2020-11-27T19:52:03.382558",
     "status": "completed"
    },
    "tags": []
   },
   "source": [
    "### non-scored labels prediction"
   ]
  },
  {
   "cell_type": "code",
   "execution_count": 23,
   "metadata": {
    "execution": {
     "iopub.execute_input": "2020-11-27T19:52:03.545582Z",
     "iopub.status.busy": "2020-11-27T19:52:03.544915Z",
     "iopub.status.idle": "2020-11-27T19:52:03.896084Z",
     "shell.execute_reply": "2020-11-27T19:52:03.896755Z"
    },
    "papermill": {
     "duration": 0.410798,
     "end_time": "2020-11-27T19:52:03.896955",
     "exception": false,
     "start_time": "2020-11-27T19:52:03.486157",
     "status": "completed"
    },
    "tags": []
   },
   "outputs": [
    {
     "name": "stdout",
     "output_type": "stream",
     "text": [
      "(23814, 332)\n"
     ]
    }
   ],
   "source": [
    "# remove nonscored labels if all values == 0\n",
    "train_targets_nonscored = train_targets_nonscored.loc[:, train_targets_nonscored.sum() != 0]\n",
    "print(train_targets_nonscored.shape)\n",
    "\n",
    "train = train.merge(train_targets_nonscored, on='sig_id')"
   ]
  },
  {
   "cell_type": "code",
   "execution_count": 24,
   "metadata": {
    "execution": {
     "iopub.execute_input": "2020-11-27T19:52:04.050496Z",
     "iopub.status.busy": "2020-11-27T19:52:04.049145Z",
     "iopub.status.idle": "2020-11-27T19:52:04.223653Z",
     "shell.execute_reply": "2020-11-27T19:52:04.222972Z"
    },
    "papermill": {
     "duration": 0.273946,
     "end_time": "2020-11-27T19:52:04.223775",
     "exception": false,
     "start_time": "2020-11-27T19:52:03.949829",
     "status": "completed"
    },
    "tags": []
   },
   "outputs": [],
   "source": [
    "target = train[train_targets_nonscored.columns]\n",
    "target_cols = target.drop('sig_id', axis=1).columns.values.tolist()\n",
    "feature_cols = [c for c in process_data(train).columns if c not in target_cols and c not in ['kfold','sig_id']]"
   ]
  },
  {
   "cell_type": "code",
   "execution_count": 25,
   "metadata": {
    "execution": {
     "iopub.execute_input": "2020-11-27T19:52:04.345660Z",
     "iopub.status.busy": "2020-11-27T19:52:04.344408Z",
     "iopub.status.idle": "2020-11-27T19:53:19.526862Z",
     "shell.execute_reply": "2020-11-27T19:53:19.526279Z"
    },
    "papermill": {
     "duration": 75.245228,
     "end_time": "2020-11-27T19:53:19.526983",
     "exception": false,
     "start_time": "2020-11-27T19:52:04.281755",
     "status": "completed"
    },
    "tags": []
   },
   "outputs": [
    {
     "name": "stderr",
     "output_type": "stream",
     "text": [
      "/opt/conda/lib/python3.7/site-packages/sklearn/utils/validation.py:70: FutureWarning: Pass n_repeats=1, random_state=None as keyword args. From version 0.25 passing these as positional arguments will result in an error\n",
      "  FutureWarning)\n",
      "/opt/conda/lib/python3.7/site-packages/sklearn/utils/validation.py:70: FutureWarning: Pass shuffle=True, random_state=RandomState(MT19937) as keyword args. From version 0.25 passing these as positional arguments will result in an error\n",
      "  FutureWarning)\n"
     ]
    },
    {
     "name": "stdout",
     "output_type": "stream",
     "text": [
      "seed 0, elapsed time: 18.82504677772522\n"
     ]
    },
    {
     "name": "stderr",
     "output_type": "stream",
     "text": [
      "/opt/conda/lib/python3.7/site-packages/sklearn/utils/validation.py:70: FutureWarning: Pass n_repeats=1, random_state=None as keyword args. From version 0.25 passing these as positional arguments will result in an error\n",
      "  FutureWarning)\n",
      "/opt/conda/lib/python3.7/site-packages/sklearn/utils/validation.py:70: FutureWarning: Pass shuffle=True, random_state=RandomState(MT19937) as keyword args. From version 0.25 passing these as positional arguments will result in an error\n",
      "  FutureWarning)\n"
     ]
    },
    {
     "name": "stdout",
     "output_type": "stream",
     "text": [
      "seed 1, elapsed time: 30.939843893051147\n"
     ]
    },
    {
     "name": "stderr",
     "output_type": "stream",
     "text": [
      "/opt/conda/lib/python3.7/site-packages/sklearn/utils/validation.py:70: FutureWarning: Pass n_repeats=1, random_state=None as keyword args. From version 0.25 passing these as positional arguments will result in an error\n",
      "  FutureWarning)\n",
      "/opt/conda/lib/python3.7/site-packages/sklearn/utils/validation.py:70: FutureWarning: Pass shuffle=True, random_state=RandomState(MT19937) as keyword args. From version 0.25 passing these as positional arguments will result in an error\n",
      "  FutureWarning)\n"
     ]
    },
    {
     "name": "stdout",
     "output_type": "stream",
     "text": [
      "seed 2, elapsed time: 43.18722343444824\n"
     ]
    },
    {
     "name": "stderr",
     "output_type": "stream",
     "text": [
      "/opt/conda/lib/python3.7/site-packages/sklearn/utils/validation.py:70: FutureWarning: Pass n_repeats=1, random_state=None as keyword args. From version 0.25 passing these as positional arguments will result in an error\n",
      "  FutureWarning)\n",
      "/opt/conda/lib/python3.7/site-packages/sklearn/utils/validation.py:70: FutureWarning: Pass shuffle=True, random_state=RandomState(MT19937) as keyword args. From version 0.25 passing these as positional arguments will result in an error\n",
      "  FutureWarning)\n"
     ]
    },
    {
     "name": "stdout",
     "output_type": "stream",
     "text": [
      "seed 3, elapsed time: 56.01796555519104\n"
     ]
    },
    {
     "name": "stderr",
     "output_type": "stream",
     "text": [
      "/opt/conda/lib/python3.7/site-packages/sklearn/utils/validation.py:70: FutureWarning: Pass n_repeats=1, random_state=None as keyword args. From version 0.25 passing these as positional arguments will result in an error\n",
      "  FutureWarning)\n",
      "/opt/conda/lib/python3.7/site-packages/sklearn/utils/validation.py:70: FutureWarning: Pass shuffle=True, random_state=RandomState(MT19937) as keyword args. From version 0.25 passing these as positional arguments will result in an error\n",
      "  FutureWarning)\n"
     ]
    },
    {
     "name": "stdout",
     "output_type": "stream",
     "text": [
      "seed 4, elapsed time: 68.26646494865417\n"
     ]
    }
   ],
   "source": [
    "run_seeds(train, test, feature_cols, target_cols)"
   ]
  },
  {
   "cell_type": "code",
   "execution_count": 26,
   "metadata": {
    "execution": {
     "iopub.execute_input": "2020-11-27T19:53:19.651192Z",
     "iopub.status.busy": "2020-11-27T19:53:19.649893Z",
     "iopub.status.idle": "2020-11-27T19:53:19.654707Z",
     "shell.execute_reply": "2020-11-27T19:53:19.653657Z"
    },
    "papermill": {
     "duration": 0.069702,
     "end_time": "2020-11-27T19:53:19.654879",
     "exception": false,
     "start_time": "2020-11-27T19:53:19.585177",
     "status": "completed"
    },
    "tags": []
   },
   "outputs": [
    {
     "name": "stdout",
     "output_type": "stream",
     "text": [
      "train shape: (21948, 1283)\n",
      "test  shape: (3624, 1283)\n",
      "features : 954\n",
      "targets  : 331\n"
     ]
    }
   ],
   "source": [
    "print(f\"train shape: {train.shape}\")\n",
    "print(f\"test  shape: {test.shape}\")\n",
    "print(f\"features : {len(feature_cols)}\")\n",
    "print(f\"targets  : {len(target_cols)}\")"
   ]
  },
  {
   "cell_type": "code",
   "execution_count": 27,
   "metadata": {
    "execution": {
     "iopub.execute_input": "2020-11-27T19:53:19.785087Z",
     "iopub.status.busy": "2020-11-27T19:53:19.783683Z",
     "iopub.status.idle": "2020-11-27T19:53:20.406094Z",
     "shell.execute_reply": "2020-11-27T19:53:20.406670Z"
    },
    "papermill": {
     "duration": 0.692226,
     "end_time": "2020-11-27T19:53:20.406808",
     "exception": false,
     "start_time": "2020-11-27T19:53:19.714582",
     "status": "completed"
    },
    "tags": []
   },
   "outputs": [
    {
     "name": "stdout",
     "output_type": "stream",
     "text": [
      "CV loss: 0.004845937477804196\n"
     ]
    }
   ],
   "source": [
    "valid_loss_total = calc_valid_log_loss(train, target, target_cols)\n",
    "print(f\"CV loss: {valid_loss_total}\")"
   ]
  },
  {
   "cell_type": "code",
   "execution_count": 28,
   "metadata": {
    "execution": {
     "iopub.execute_input": "2020-11-27T19:53:20.540786Z",
     "iopub.status.busy": "2020-11-27T19:53:20.539501Z",
     "iopub.status.idle": "2020-11-27T19:53:21.183562Z",
     "shell.execute_reply": "2020-11-27T19:53:21.184255Z"
    },
    "papermill": {
     "duration": 0.712189,
     "end_time": "2020-11-27T19:53:21.184408",
     "exception": false,
     "start_time": "2020-11-27T19:53:20.472219",
     "status": "completed"
    },
    "tags": []
   },
   "outputs": [],
   "source": [
    "train.to_pickle(f\"{INT_DIR}/{NB}_train_nonscored_pred.pkl\")\n",
    "test.to_pickle(f\"{INT_DIR}/{NB}_test_nonscored_pred.pkl\")"
   ]
  },
  {
   "cell_type": "code",
   "execution_count": 29,
   "metadata": {
    "execution": {
     "iopub.execute_input": "2020-11-27T19:53:21.345787Z",
     "iopub.status.busy": "2020-11-27T19:53:21.344396Z",
     "iopub.status.idle": "2020-11-27T19:53:23.968022Z",
     "shell.execute_reply": "2020-11-27T19:53:23.968789Z"
    },
    "papermill": {
     "duration": 2.714481,
     "end_time": "2020-11-27T19:53:23.968963",
     "exception": false,
     "start_time": "2020-11-27T19:53:21.254482",
     "status": "completed"
    },
    "tags": []
   },
   "outputs": [
    {
     "name": "stdout",
     "output_type": "stream",
     "text": [
      "CV log_loss:  0.004452770573033244\n"
     ]
    }
   ],
   "source": [
    "valid_results = train_targets_nonscored.drop(columns=target_cols).merge(train[['sig_id']+target_cols], on='sig_id', how='left').fillna(0)\n",
    "\n",
    "y_true = train_targets_nonscored[target_cols].values\n",
    "y_true = y_true > 0.5\n",
    "y_pred = valid_results[target_cols].values\n",
    "\n",
    "score = 0\n",
    "for i in range(len(target_cols)):\n",
    "    score_ = log_loss(y_true[:, i], y_pred[:, i])\n",
    "    score += score_ / target.shape[1]\n",
    "    \n",
    "print(\"CV log_loss: \", score)"
   ]
  },
  {
   "cell_type": "markdown",
   "metadata": {
    "papermill": {
     "duration": 0.057646,
     "end_time": "2020-11-27T19:53:24.087127",
     "exception": false,
     "start_time": "2020-11-27T19:53:24.029481",
     "status": "completed"
    },
    "tags": []
   },
   "source": [
    "## 503-203-tabnet-with-nonscored-features-10fold3seed"
   ]
  },
  {
   "cell_type": "code",
   "execution_count": 30,
   "metadata": {
    "execution": {
     "iopub.execute_input": "2020-11-27T19:53:24.245283Z",
     "iopub.status.busy": "2020-11-27T19:53:24.214357Z",
     "iopub.status.idle": "2020-11-27T19:53:33.019953Z",
     "shell.execute_reply": "2020-11-27T19:53:33.019324Z"
    },
    "papermill": {
     "duration": 8.874061,
     "end_time": "2020-11-27T19:53:33.020063",
     "exception": false,
     "start_time": "2020-11-27T19:53:24.146002",
     "status": "completed"
    },
    "tags": []
   },
   "outputs": [
    {
     "name": "stdout",
     "output_type": "stream",
     "text": [
      "Looking in links: /kaggle/input/pytorchtabnet/pytorch_tabnet-2.0.0-py3-none-any.whl\r\n",
      "Processing /kaggle/input/pytorchtabnet/pytorch_tabnet-2.0.0-py3-none-any.whl\r\n",
      "Requirement already satisfied: scipy>1.4 in /opt/conda/lib/python3.7/site-packages (from pytorch-tabnet) (1.4.1)\r\n",
      "Requirement already satisfied: scikit_learn>0.21 in /opt/conda/lib/python3.7/site-packages (from pytorch-tabnet) (0.23.2)\r\n",
      "Requirement already satisfied: numpy<2.0,>=1.17 in /opt/conda/lib/python3.7/site-packages (from pytorch-tabnet) (1.18.5)\r\n",
      "Requirement already satisfied: tqdm<5.0,>=4.36 in /opt/conda/lib/python3.7/site-packages (from pytorch-tabnet) (4.45.0)\r\n",
      "Requirement already satisfied: torch<2.0,>=1.2 in /opt/conda/lib/python3.7/site-packages (from pytorch-tabnet) (1.6.0)\r\n",
      "Requirement already satisfied: joblib>=0.11 in /opt/conda/lib/python3.7/site-packages (from scikit_learn>0.21->pytorch-tabnet) (0.14.1)\r\n",
      "Requirement already satisfied: threadpoolctl>=2.0.0 in /opt/conda/lib/python3.7/site-packages (from scikit_learn>0.21->pytorch-tabnet) (2.1.0)\r\n",
      "Requirement already satisfied: future in /opt/conda/lib/python3.7/site-packages (from torch<2.0,>=1.2->pytorch-tabnet) (0.18.2)\r\n",
      "Installing collected packages: pytorch-tabnet\r\n",
      "Successfully installed pytorch-tabnet-2.0.0\r\n"
     ]
    }
   ],
   "source": [
    "!pip install --no-index --find-links /kaggle/input/pytorchtabnet/pytorch_tabnet-2.0.0-py3-none-any.whl pytorch-tabnet"
   ]
  },
  {
   "cell_type": "code",
   "execution_count": 31,
   "metadata": {
    "execution": {
     "iopub.execute_input": "2020-11-27T19:53:33.240145Z",
     "iopub.status.busy": "2020-11-27T19:53:33.239038Z",
     "iopub.status.idle": "2020-11-27T19:53:33.259216Z",
     "shell.execute_reply": "2020-11-27T19:53:33.258304Z"
    },
    "papermill": {
     "duration": 0.132893,
     "end_time": "2020-11-27T19:53:33.259374",
     "exception": false,
     "start_time": "2020-11-27T19:53:33.126481",
     "status": "completed"
    },
    "tags": []
   },
   "outputs": [],
   "source": [
    "from pytorch_tabnet.tab_model import TabNetRegressor"
   ]
  },
  {
   "cell_type": "code",
   "execution_count": 32,
   "metadata": {
    "execution": {
     "iopub.execute_input": "2020-11-27T19:53:33.492989Z",
     "iopub.status.busy": "2020-11-27T19:53:33.489837Z",
     "iopub.status.idle": "2020-11-27T19:53:33.498371Z",
     "shell.execute_reply": "2020-11-27T19:53:33.497508Z"
    },
    "papermill": {
     "duration": 0.131629,
     "end_time": "2020-11-27T19:53:33.498513",
     "exception": false,
     "start_time": "2020-11-27T19:53:33.366884",
     "status": "completed"
    },
    "tags": []
   },
   "outputs": [],
   "source": [
    "def seed_everything(seed_value):\n",
    "    random.seed(seed_value)\n",
    "    np.random.seed(seed_value)\n",
    "    torch.manual_seed(seed_value)\n",
    "    os.environ['PYTHONHASHSEED'] = str(seed_value)\n",
    "    \n",
    "    if torch.cuda.is_available(): \n",
    "        torch.cuda.manual_seed(seed_value)\n",
    "        torch.cuda.manual_seed_all(seed_value)\n",
    "        torch.backends.cudnn.deterministic = True\n",
    "        torch.backends.cudnn.benchmark = False\n",
    "        \n",
    "seed_everything(42)"
   ]
  },
  {
   "cell_type": "code",
   "execution_count": 33,
   "metadata": {
    "execution": {
     "iopub.execute_input": "2020-11-27T19:53:33.693077Z",
     "iopub.status.busy": "2020-11-27T19:53:33.691951Z",
     "iopub.status.idle": "2020-11-27T19:53:33.700795Z",
     "shell.execute_reply": "2020-11-27T19:53:33.701656Z"
    },
    "papermill": {
     "duration": 0.112115,
     "end_time": "2020-11-27T19:53:33.701892",
     "exception": false,
     "start_time": "2020-11-27T19:53:33.589777",
     "status": "completed"
    },
    "tags": []
   },
   "outputs": [],
   "source": [
    "# file name prefix\n",
    "NB = '503'\n",
    "NB_PREV = '203'\n",
    "\n",
    "# IS_TRAIN = False\n",
    "\n",
    "# MODEL_DIR = \"../input/moa503/503-tabnet\" # \"../model\"\n",
    "# INT_DIR = \"../input/moa503/203-nonscored-pred\" # \"../interim\"\n",
    "\n",
    "DEVICE = ('cuda' if torch.cuda.is_available() else 'cpu')\n",
    "\n",
    "# label smoothing\n",
    "PMIN = 0.0\n",
    "PMAX = 1.0\n",
    "\n",
    "# submission smoothing\n",
    "SMIN = 0.0\n",
    "SMAX = 1.0\n",
    "\n",
    "# model hyper params\n",
    "\n",
    "# training hyper params\n",
    "# EPOCHS = 25\n",
    "# BATCH_SIZE = 256\n",
    "NFOLDS = 10 # 10\n",
    "NREPEATS = 1\n",
    "NSEEDS = 3 # 5\n",
    "\n",
    "# Adam hyper params\n",
    "LEARNING_RATE = 5e-4\n",
    "WEIGHT_DECAY = 1e-5\n",
    "\n",
    "# scheduler hyper params\n",
    "PCT_START = 0.2\n",
    "DIV_FACS = 1e3\n",
    "MAX_LR = 1e-2"
   ]
  },
  {
   "cell_type": "code",
   "execution_count": 34,
   "metadata": {
    "execution": {
     "iopub.execute_input": "2020-11-27T19:53:34.354238Z",
     "iopub.status.busy": "2020-11-27T19:53:34.353299Z",
     "iopub.status.idle": "2020-11-27T19:53:39.228350Z",
     "shell.execute_reply": "2020-11-27T19:53:39.227710Z"
    },
    "papermill": {
     "duration": 4.944748,
     "end_time": "2020-11-27T19:53:39.228484",
     "exception": false,
     "start_time": "2020-11-27T19:53:34.283736",
     "status": "completed"
    },
    "tags": []
   },
   "outputs": [],
   "source": [
    "train_features = pd.read_csv('../input/lish-moa/train_features.csv')\n",
    "train_targets_scored = pd.read_csv('../input/lish-moa/train_targets_scored.csv')\n",
    "train_targets_nonscored = pd.read_csv('../input/lish-moa/train_targets_nonscored.csv')\n",
    "\n",
    "test_features = pd.read_csv('../input/lish-moa/test_features.csv')\n",
    "sample_submission = pd.read_csv('../input/lish-moa/sample_submission.csv')"
   ]
  },
  {
   "cell_type": "code",
   "execution_count": 35,
   "metadata": {
    "execution": {
     "iopub.execute_input": "2020-11-27T19:53:39.355395Z",
     "iopub.status.busy": "2020-11-27T19:53:39.354508Z",
     "iopub.status.idle": "2020-11-27T19:53:39.357185Z",
     "shell.execute_reply": "2020-11-27T19:53:39.357760Z"
    },
    "papermill": {
     "duration": 0.067966,
     "end_time": "2020-11-27T19:53:39.357883",
     "exception": false,
     "start_time": "2020-11-27T19:53:39.289917",
     "status": "completed"
    },
    "tags": []
   },
   "outputs": [],
   "source": [
    "# test_features_dummy = pd.read_csv('../input/dummytestfeatures/test_features_dummy.csv')\n",
    "# test_features = pd.concat([test_features, test_features_dummy]).reset_index(drop=True)"
   ]
  },
  {
   "cell_type": "code",
   "execution_count": null,
   "metadata": {
    "papermill": {
     "duration": 0.059504,
     "end_time": "2020-11-27T19:53:39.478548",
     "exception": false,
     "start_time": "2020-11-27T19:53:39.419044",
     "status": "completed"
    },
    "tags": []
   },
   "outputs": [],
   "source": []
  },
  {
   "cell_type": "code",
   "execution_count": 36,
   "metadata": {
    "execution": {
     "iopub.execute_input": "2020-11-27T19:53:39.606128Z",
     "iopub.status.busy": "2020-11-27T19:53:39.604586Z",
     "iopub.status.idle": "2020-11-27T19:53:39.610711Z",
     "shell.execute_reply": "2020-11-27T19:53:39.611297Z"
    },
    "papermill": {
     "duration": 0.072056,
     "end_time": "2020-11-27T19:53:39.611456",
     "exception": false,
     "start_time": "2020-11-27T19:53:39.539400",
     "status": "completed"
    },
    "tags": []
   },
   "outputs": [
    {
     "name": "stdout",
     "output_type": "stream",
     "text": [
      "(nsamples, nfeatures)\n",
      "(23814, 876)\n",
      "(23814, 207)\n",
      "(23814, 403)\n",
      "(3982, 876)\n",
      "(3982, 207)\n"
     ]
    }
   ],
   "source": [
    "print(\"(nsamples, nfeatures)\")\n",
    "print(train_features.shape)\n",
    "print(train_targets_scored.shape)\n",
    "print(train_targets_nonscored.shape)\n",
    "print(test_features.shape)\n",
    "print(sample_submission.shape)"
   ]
  },
  {
   "cell_type": "code",
   "execution_count": 37,
   "metadata": {
    "execution": {
     "iopub.execute_input": "2020-11-27T19:53:39.738007Z",
     "iopub.status.busy": "2020-11-27T19:53:39.737186Z",
     "iopub.status.idle": "2020-11-27T19:53:39.740023Z",
     "shell.execute_reply": "2020-11-27T19:53:39.739539Z"
    },
    "papermill": {
     "duration": 0.068415,
     "end_time": "2020-11-27T19:53:39.740125",
     "exception": false,
     "start_time": "2020-11-27T19:53:39.671710",
     "status": "completed"
    },
    "tags": []
   },
   "outputs": [],
   "source": [
    "GENES = [col for col in train_features.columns if col.startswith('g-')]\n",
    "CELLS = [col for col in train_features.columns if col.startswith('c-')]"
   ]
  },
  {
   "cell_type": "code",
   "execution_count": 38,
   "metadata": {
    "execution": {
     "iopub.execute_input": "2020-11-27T19:53:39.872093Z",
     "iopub.status.busy": "2020-11-27T19:53:39.871216Z",
     "iopub.status.idle": "2020-11-27T19:53:48.002753Z",
     "shell.execute_reply": "2020-11-27T19:53:48.002125Z"
    },
    "papermill": {
     "duration": 8.202669,
     "end_time": "2020-11-27T19:53:48.002886",
     "exception": false,
     "start_time": "2020-11-27T19:53:39.800217",
     "status": "completed"
    },
    "tags": []
   },
   "outputs": [],
   "source": [
    "from sklearn.preprocessing import QuantileTransformer\n",
    "\n",
    "use_test_for_preprocessing = False\n",
    "\n",
    "for col in (GENES + CELLS):\n",
    "\n",
    "    if IS_TRAIN:\n",
    "        transformer = QuantileTransformer(n_quantiles=100, random_state=0, output_distribution=\"normal\")\n",
    "        if use_test_for_preprocessing:\n",
    "            raw_vec = pd.concat([train_features, test_features])[col].values.reshape(vec_len+vec_len_test, 1)\n",
    "            transformer.fit(raw_vec)\n",
    "        else:\n",
    "            raw_vec = train_features[col].values.reshape(vec_len, 1)\n",
    "            transformer.fit(raw_vec)\n",
    "        pd.to_pickle(transformer, f'{MODEL_DIR}/{NB}_{col}_quantile_transformer.pkl')\n",
    "    else:\n",
    "        transformer = pd.read_pickle(f'{MODEL_DIR}/{NB}_{col}_quantile_transformer.pkl') \n",
    "\n",
    "    vec_len = len(train_features[col].values)\n",
    "    vec_len_test = len(test_features[col].values)\n",
    "\n",
    "\n",
    "    train_features[col] = transformer.transform(train_features[col].values.reshape(vec_len, 1)).reshape(1, vec_len)[0]\n",
    "    test_features[col] = transformer.transform(test_features[col].values.reshape(vec_len_test, 1)).reshape(1, vec_len_test)[0]"
   ]
  },
  {
   "cell_type": "code",
   "execution_count": 39,
   "metadata": {
    "execution": {
     "iopub.execute_input": "2020-11-27T19:53:48.153906Z",
     "iopub.status.busy": "2020-11-27T19:53:48.152708Z",
     "iopub.status.idle": "2020-11-27T19:53:48.967736Z",
     "shell.execute_reply": "2020-11-27T19:53:48.967146Z"
    },
    "papermill": {
     "duration": 0.899137,
     "end_time": "2020-11-27T19:53:48.967875",
     "exception": false,
     "start_time": "2020-11-27T19:53:48.068738",
     "status": "completed"
    },
    "tags": []
   },
   "outputs": [],
   "source": [
    "# GENES\n",
    "\n",
    "n_comp = 90\n",
    "\n",
    "data = pd.concat([pd.DataFrame(train_features[GENES]), pd.DataFrame(test_features[GENES])])\n",
    "if IS_TRAIN:\n",
    "    fa = FactorAnalysis(n_components=n_comp, random_state=42).fit(data[GENES])\n",
    "    pd.to_pickle(fa, f'{MODEL_DIR}/{NB}_factor_analysis_g.pkl')\n",
    "else:\n",
    "    fa = pd.read_pickle(f'{MODEL_DIR}/{NB}_factor_analysis_g.pkl')\n",
    "    \n",
    "data2 = (fa.transform(data[GENES]))\n",
    "train2 = data2[:train_features.shape[0]]; test2 = data2[-test_features.shape[0]:]\n",
    "\n",
    "train2 = pd.DataFrame(train2, columns=[f'pca_G-{i}' for i in range(n_comp)])\n",
    "test2 = pd.DataFrame(test2, columns=[f'pca_G-{i}' for i in range(n_comp)])\n",
    "\n",
    "# drop_cols = [f'c-{i}' for i in range(n_comp,len(GENES))]\n",
    "train_features = pd.concat((train_features, train2), axis=1)\n",
    "test_features = pd.concat((test_features, test2), axis=1)\n",
    "\n",
    "#CELLS\n",
    "\n",
    "n_comp = 50\n",
    "\n",
    "data = pd.concat([pd.DataFrame(train_features[CELLS]), pd.DataFrame(test_features[CELLS])])\n",
    "\n",
    "if IS_TRAIN:\n",
    "    fa = FactorAnalysis(n_components=n_comp, random_state=42).fit(data[CELLS])\n",
    "    pd.to_pickle(fa, f'{MODEL_DIR}/{NB}_factor_analysis_c.pkl')\n",
    "else:\n",
    "    fa = pd.read_pickle(f'{MODEL_DIR}/{NB}_factor_analysis_c.pkl')\n",
    "\n",
    "data2 = (fa.transform(data[CELLS]))\n",
    "train2 = data2[:train_features.shape[0]]; test2 = data2[-test_features.shape[0]:]\n",
    "\n",
    "train2 = pd.DataFrame(train2, columns=[f'pca_C-{i}' for i in range(n_comp)])\n",
    "test2 = pd.DataFrame(test2, columns=[f'pca_C-{i}' for i in range(n_comp)])\n",
    "\n",
    "# drop_cols = [f'c-{i}' for i in range(n_comp,len(CELLS))]\n",
    "train_features = pd.concat((train_features, train2), axis=1)\n",
    "test_features = pd.concat((test_features, test2), axis=1)"
   ]
  },
  {
   "cell_type": "code",
   "execution_count": 40,
   "metadata": {
    "execution": {
     "iopub.execute_input": "2020-11-27T19:53:49.099280Z",
     "iopub.status.busy": "2020-11-27T19:53:49.098660Z",
     "iopub.status.idle": "2020-11-27T19:53:49.102333Z",
     "shell.execute_reply": "2020-11-27T19:53:49.102922Z"
    },
    "papermill": {
     "duration": 0.071096,
     "end_time": "2020-11-27T19:53:49.103079",
     "exception": false,
     "start_time": "2020-11-27T19:53:49.031983",
     "status": "completed"
    },
    "tags": []
   },
   "outputs": [],
   "source": [
    "# features_g = list(train_features.columns[4:776])\n",
    "# train_ = train_features[features_g].copy()\n",
    "# test_ = test_features[features_g].copy()\n",
    "# data = pd.concat([train_, test_], axis = 0)\n",
    "# km = KMeans(n_clusters=35, random_state=123).fit(data)"
   ]
  },
  {
   "cell_type": "code",
   "execution_count": 41,
   "metadata": {
    "execution": {
     "iopub.execute_input": "2020-11-27T19:53:49.233137Z",
     "iopub.status.busy": "2020-11-27T19:53:49.232433Z",
     "iopub.status.idle": "2020-11-27T19:53:49.236799Z",
     "shell.execute_reply": "2020-11-27T19:53:49.236250Z"
    },
    "papermill": {
     "duration": 0.072812,
     "end_time": "2020-11-27T19:53:49.236937",
     "exception": false,
     "start_time": "2020-11-27T19:53:49.164125",
     "status": "completed"
    },
    "tags": []
   },
   "outputs": [],
   "source": [
    "# km.predict(data)"
   ]
  },
  {
   "cell_type": "code",
   "execution_count": 42,
   "metadata": {
    "execution": {
     "iopub.execute_input": "2020-11-27T19:53:49.365723Z",
     "iopub.status.busy": "2020-11-27T19:53:49.365110Z",
     "iopub.status.idle": "2020-11-27T19:53:49.368971Z",
     "shell.execute_reply": "2020-11-27T19:53:49.369487Z"
    },
    "papermill": {
     "duration": 0.068929,
     "end_time": "2020-11-27T19:53:49.369665",
     "exception": false,
     "start_time": "2020-11-27T19:53:49.300736",
     "status": "completed"
    },
    "tags": []
   },
   "outputs": [],
   "source": [
    "# km.labels_"
   ]
  },
  {
   "cell_type": "code",
   "execution_count": 43,
   "metadata": {
    "execution": {
     "iopub.execute_input": "2020-11-27T19:53:49.510261Z",
     "iopub.status.busy": "2020-11-27T19:53:49.509457Z",
     "iopub.status.idle": "2020-11-27T19:53:50.428742Z",
     "shell.execute_reply": "2020-11-27T19:53:50.427275Z"
    },
    "papermill": {
     "duration": 0.995808,
     "end_time": "2020-11-27T19:53:50.428860",
     "exception": false,
     "start_time": "2020-11-27T19:53:49.433052",
     "status": "completed"
    },
    "tags": []
   },
   "outputs": [],
   "source": [
    "from sklearn.cluster import KMeans\n",
    "def fe_cluster(train, test, n_clusters_g = 35, n_clusters_c = 5, SEED = 123):\n",
    "    \n",
    "    features_g = list(train.columns[4:776])\n",
    "    features_c = list(train.columns[776:876])\n",
    "    \n",
    "    def create_cluster(train, test, features, kind = 'g', n_clusters = n_clusters_g):\n",
    "        train_ = train[features].copy()\n",
    "        test_ = test[features].copy()\n",
    "        data = pd.concat([train_, test_], axis = 0)\n",
    "        \n",
    "        if IS_TRAIN:\n",
    "            kmeans = KMeans(n_clusters = n_clusters, random_state = SEED).fit(data)\n",
    "            pd.to_pickle(kmeans, f\"{MODEL_DIR}/{NB}_kmeans_{kind}.pkl\")\n",
    "        else:\n",
    "            kmeans = pd.read_pickle(f\"{MODEL_DIR}/{NB}_kmeans_{kind}.pkl\")\n",
    "            \n",
    "        train[f'clusters_{kind}'] = kmeans.predict(train_)\n",
    "        test[f'clusters_{kind}'] = kmeans.predict(test_)\n",
    "        train = pd.get_dummies(train, columns = [f'clusters_{kind}'])\n",
    "        test = pd.get_dummies(test, columns = [f'clusters_{kind}'])\n",
    "        return train, test\n",
    "    \n",
    "    train, test = create_cluster(train, test, features_g, kind = 'g', n_clusters = n_clusters_g)\n",
    "    train, test = create_cluster(train, test, features_c, kind = 'c', n_clusters = n_clusters_c)\n",
    "    return train, test\n",
    "\n",
    "train_features ,test_features=fe_cluster(train_features,test_features)"
   ]
  },
  {
   "cell_type": "code",
   "execution_count": 44,
   "metadata": {
    "execution": {
     "iopub.execute_input": "2020-11-27T19:53:50.564171Z",
     "iopub.status.busy": "2020-11-27T19:53:50.562679Z",
     "iopub.status.idle": "2020-11-27T19:53:50.567379Z",
     "shell.execute_reply": "2020-11-27T19:53:50.566729Z"
    },
    "papermill": {
     "duration": 0.074445,
     "end_time": "2020-11-27T19:53:50.567489",
     "exception": false,
     "start_time": "2020-11-27T19:53:50.493044",
     "status": "completed"
    },
    "tags": []
   },
   "outputs": [
    {
     "name": "stdout",
     "output_type": "stream",
     "text": [
      "(23814, 1056)\n",
      "(3982, 1056)\n"
     ]
    }
   ],
   "source": [
    "print(train_features.shape)\n",
    "print(test_features.shape)"
   ]
  },
  {
   "cell_type": "code",
   "execution_count": 45,
   "metadata": {
    "execution": {
     "iopub.execute_input": "2020-11-27T19:53:50.718579Z",
     "iopub.status.busy": "2020-11-27T19:53:50.717288Z",
     "iopub.status.idle": "2020-11-27T19:53:55.423181Z",
     "shell.execute_reply": "2020-11-27T19:53:55.423991Z"
    },
    "papermill": {
     "duration": 4.789251,
     "end_time": "2020-11-27T19:53:55.424182",
     "exception": false,
     "start_time": "2020-11-27T19:53:50.634931",
     "status": "completed"
    },
    "tags": []
   },
   "outputs": [],
   "source": [
    "def fe_stats(train, test):\n",
    "    \n",
    "    features_g = list(train.columns[4:776])\n",
    "    features_c = list(train.columns[776:876])\n",
    "    \n",
    "    for df in train, test:\n",
    "#         df['g_sum'] = df[features_g].sum(axis = 1)\n",
    "        df['g_mean'] = df[features_g].mean(axis = 1)\n",
    "        df['g_std'] = df[features_g].std(axis = 1)\n",
    "        df['g_kurt'] = df[features_g].kurtosis(axis = 1)\n",
    "        df['g_skew'] = df[features_g].skew(axis = 1)\n",
    "#         df['c_sum'] = df[features_c].sum(axis = 1)\n",
    "        df['c_mean'] = df[features_c].mean(axis = 1)\n",
    "        df['c_std'] = df[features_c].std(axis = 1)\n",
    "        df['c_kurt'] = df[features_c].kurtosis(axis = 1)\n",
    "        df['c_skew'] = df[features_c].skew(axis = 1)\n",
    "#         df['gc_sum'] = df[features_g + features_c].sum(axis = 1)\n",
    "        df['gc_mean'] = df[features_g + features_c].mean(axis = 1)\n",
    "        df['gc_std'] = df[features_g + features_c].std(axis = 1)\n",
    "        df['gc_kurt'] = df[features_g + features_c].kurtosis(axis = 1)\n",
    "        df['gc_skew'] = df[features_g + features_c].skew(axis = 1)\n",
    "        \n",
    "    return train, test\n",
    "\n",
    "train_features,test_features=fe_stats(train_features,test_features)"
   ]
  },
  {
   "cell_type": "code",
   "execution_count": 46,
   "metadata": {
    "execution": {
     "iopub.execute_input": "2020-11-27T19:53:55.652458Z",
     "iopub.status.busy": "2020-11-27T19:53:55.651477Z",
     "iopub.status.idle": "2020-11-27T19:53:55.656186Z",
     "shell.execute_reply": "2020-11-27T19:53:55.653267Z"
    },
    "papermill": {
     "duration": 0.104374,
     "end_time": "2020-11-27T19:53:55.656324",
     "exception": false,
     "start_time": "2020-11-27T19:53:55.551950",
     "status": "completed"
    },
    "tags": []
   },
   "outputs": [
    {
     "name": "stdout",
     "output_type": "stream",
     "text": [
      "(23814, 1068)\n",
      "(3982, 1068)\n"
     ]
    }
   ],
   "source": [
    "print(train_features.shape)\n",
    "print(test_features.shape)"
   ]
  },
  {
   "cell_type": "code",
   "execution_count": 47,
   "metadata": {
    "execution": {
     "iopub.execute_input": "2020-11-27T19:53:55.821434Z",
     "iopub.status.busy": "2020-11-27T19:53:55.820018Z",
     "iopub.status.idle": "2020-11-27T19:53:56.163632Z",
     "shell.execute_reply": "2020-11-27T19:53:56.163008Z"
    },
    "papermill": {
     "duration": 0.417308,
     "end_time": "2020-11-27T19:53:56.163779",
     "exception": false,
     "start_time": "2020-11-27T19:53:55.746471",
     "status": "completed"
    },
    "tags": []
   },
   "outputs": [],
   "source": [
    "remove_vehicle = True\n",
    "\n",
    "if remove_vehicle:\n",
    "    trt_idx = train_features['cp_type']=='trt_cp'\n",
    "    train_features = train_features.loc[trt_idx].reset_index(drop=True)\n",
    "    train_targets_scored = train_targets_scored.loc[trt_idx].reset_index(drop=True)\n",
    "    train_targets_nonscored = train_targets_nonscored.loc[trt_idx].reset_index(drop=True)\n",
    "else:\n",
    "    pass"
   ]
  },
  {
   "cell_type": "code",
   "execution_count": 48,
   "metadata": {
    "execution": {
     "iopub.execute_input": "2020-11-27T19:53:56.304133Z",
     "iopub.status.busy": "2020-11-27T19:53:56.302791Z",
     "iopub.status.idle": "2020-11-27T19:53:56.948608Z",
     "shell.execute_reply": "2020-11-27T19:53:56.947205Z"
    },
    "papermill": {
     "duration": 0.717345,
     "end_time": "2020-11-27T19:53:56.948731",
     "exception": false,
     "start_time": "2020-11-27T19:53:56.231386",
     "status": "completed"
    },
    "tags": []
   },
   "outputs": [],
   "source": [
    "# train = train_features.merge(train_targets_scored, on='sig_id')\n",
    "train = train_features.merge(train_targets_scored, on='sig_id')\n",
    "train = train[train['cp_type']!='ctl_vehicle'].reset_index(drop=True)\n",
    "test = test_features[test_features['cp_type']!='ctl_vehicle'].reset_index(drop=True)\n",
    "\n",
    "# target = train[train_targets_scored.columns]\n",
    "target = train[train_targets_scored.columns]\n",
    "target_cols = target.drop('sig_id', axis=1).columns.values.tolist()\n",
    "\n",
    "train = train.drop('cp_type', axis=1)\n",
    "test = test.drop('cp_type', axis=1)"
   ]
  },
  {
   "cell_type": "code",
   "execution_count": 49,
   "metadata": {
    "execution": {
     "iopub.execute_input": "2020-11-27T19:53:57.084276Z",
     "iopub.status.busy": "2020-11-27T19:53:57.082786Z",
     "iopub.status.idle": "2020-11-27T19:53:57.088376Z",
     "shell.execute_reply": "2020-11-27T19:53:57.084874Z"
    },
    "papermill": {
     "duration": 0.075802,
     "end_time": "2020-11-27T19:53:57.088509",
     "exception": false,
     "start_time": "2020-11-27T19:53:57.012707",
     "status": "completed"
    },
    "tags": []
   },
   "outputs": [
    {
     "name": "stdout",
     "output_type": "stream",
     "text": [
      "(21948, 207)\n",
      "(21948, 1068)\n",
      "(3982, 1068)\n",
      "(21948, 1273)\n",
      "(3624, 1067)\n"
     ]
    }
   ],
   "source": [
    "print(target.shape)\n",
    "print(train_features.shape)\n",
    "print(test_features.shape)\n",
    "print(train.shape)\n",
    "print(test.shape)"
   ]
  },
  {
   "cell_type": "code",
   "execution_count": 50,
   "metadata": {
    "execution": {
     "iopub.execute_input": "2020-11-27T19:53:57.228225Z",
     "iopub.status.busy": "2020-11-27T19:53:57.227112Z",
     "iopub.status.idle": "2020-11-27T19:53:57.579123Z",
     "shell.execute_reply": "2020-11-27T19:53:57.578398Z"
    },
    "papermill": {
     "duration": 0.425292,
     "end_time": "2020-11-27T19:53:57.579252",
     "exception": false,
     "start_time": "2020-11-27T19:53:57.153960",
     "status": "completed"
    },
    "tags": []
   },
   "outputs": [],
   "source": [
    "train_nonscored_pred = pd.read_pickle(f'{INT_DIR}/{NB_PREV}_train_nonscored_pred.pkl')\n",
    "test_nonscored_pred = pd.read_pickle(f'{INT_DIR}/{NB_PREV}_test_nonscored_pred.pkl')"
   ]
  },
  {
   "cell_type": "code",
   "execution_count": 51,
   "metadata": {
    "execution": {
     "iopub.execute_input": "2020-11-27T19:53:57.823272Z",
     "iopub.status.busy": "2020-11-27T19:53:57.822247Z",
     "iopub.status.idle": "2020-11-27T19:53:57.891019Z",
     "shell.execute_reply": "2020-11-27T19:53:57.890478Z"
    },
    "papermill": {
     "duration": 0.247727,
     "end_time": "2020-11-27T19:53:57.891142",
     "exception": false,
     "start_time": "2020-11-27T19:53:57.643415",
     "status": "completed"
    },
    "tags": []
   },
   "outputs": [],
   "source": [
    "# remove nonscored labels if all values == 0\n",
    "train_targets_nonscored = train_targets_nonscored.loc[:, train_targets_nonscored.sum() != 0]\n",
    "\n",
    "# nonscored_targets = [c for c in train_targets_nonscored.columns if c != \"sig_id\"]"
   ]
  },
  {
   "cell_type": "code",
   "execution_count": 52,
   "metadata": {
    "execution": {
     "iopub.execute_input": "2020-11-27T19:53:58.044657Z",
     "iopub.status.busy": "2020-11-27T19:53:58.043325Z",
     "iopub.status.idle": "2020-11-27T19:53:58.362671Z",
     "shell.execute_reply": "2020-11-27T19:53:58.362115Z"
    },
    "papermill": {
     "duration": 0.408286,
     "end_time": "2020-11-27T19:53:58.362786",
     "exception": false,
     "start_time": "2020-11-27T19:53:57.954500",
     "status": "completed"
    },
    "tags": []
   },
   "outputs": [],
   "source": [
    "train = train.merge(train_nonscored_pred[train_targets_nonscored.columns], on='sig_id')\n",
    "test = test.merge(test_nonscored_pred[train_targets_nonscored.columns], on='sig_id')"
   ]
  },
  {
   "cell_type": "code",
   "execution_count": 53,
   "metadata": {
    "execution": {
     "iopub.execute_input": "2020-11-27T19:53:58.507190Z",
     "iopub.status.busy": "2020-11-27T19:53:58.506363Z",
     "iopub.status.idle": "2020-11-27T19:54:01.404429Z",
     "shell.execute_reply": "2020-11-27T19:54:01.403796Z"
    },
    "papermill": {
     "duration": 2.978379,
     "end_time": "2020-11-27T19:54:01.404556",
     "exception": false,
     "start_time": "2020-11-27T19:53:58.426177",
     "status": "completed"
    },
    "tags": []
   },
   "outputs": [],
   "source": [
    "from sklearn.preprocessing import QuantileTransformer\n",
    "\n",
    "nonscored_target = [c for c in train_targets_nonscored.columns if c != \"sig_id\"]\n",
    "\n",
    "for col in (nonscored_target):\n",
    "\n",
    "    vec_len = len(train[col].values)\n",
    "    vec_len_test = len(test[col].values)\n",
    "#     raw_vec = pd.concat([train, test])[col].values.reshape(vec_len+vec_len_test, 1)\n",
    "    raw_vec = train[col].values.reshape(vec_len, 1)\n",
    "    if IS_TRAIN:\n",
    "        transformer = QuantileTransformer(n_quantiles=100, random_state=0, output_distribution=\"normal\")\n",
    "        transformer.fit(raw_vec)\n",
    "        pd.to_pickle(transformer, f'{MODEL_DIR}/{NB}_{col}_quantile_transformer.pkl')\n",
    "    else:\n",
    "        transformer = pd.read_pickle(f'{MODEL_DIR}/{NB}_{col}_quantile_transformer.pkl')        \n",
    "\n",
    "    train[col] = transformer.transform(raw_vec).reshape(1, vec_len)[0]\n",
    "    test[col] = transformer.transform(test[col].values.reshape(vec_len_test, 1)).reshape(1, vec_len_test)[0]"
   ]
  },
  {
   "cell_type": "code",
   "execution_count": 54,
   "metadata": {
    "execution": {
     "iopub.execute_input": "2020-11-27T19:54:01.550923Z",
     "iopub.status.busy": "2020-11-27T19:54:01.547478Z",
     "iopub.status.idle": "2020-11-27T19:54:01.555997Z",
     "shell.execute_reply": "2020-11-27T19:54:01.556447Z"
    },
    "papermill": {
     "duration": 0.080746,
     "end_time": "2020-11-27T19:54:01.556616",
     "exception": false,
     "start_time": "2020-11-27T19:54:01.475870",
     "status": "completed"
    },
    "tags": []
   },
   "outputs": [
    {
     "data": {
      "text/plain": [
       "1397"
      ]
     },
     "execution_count": 54,
     "metadata": {},
     "output_type": "execute_result"
    }
   ],
   "source": [
    "feature_cols = [c for c in train.columns if c not in target_cols]\n",
    "feature_cols = [c for c in feature_cols if c not in ['sig_id']]\n",
    "len(feature_cols)"
   ]
  },
  {
   "cell_type": "code",
   "execution_count": 55,
   "metadata": {
    "execution": {
     "iopub.execute_input": "2020-11-27T19:54:01.696121Z",
     "iopub.status.busy": "2020-11-27T19:54:01.695239Z",
     "iopub.status.idle": "2020-11-27T19:54:01.699669Z",
     "shell.execute_reply": "2020-11-27T19:54:01.699157Z"
    },
    "papermill": {
     "duration": 0.075641,
     "end_time": "2020-11-27T19:54:01.699770",
     "exception": false,
     "start_time": "2020-11-27T19:54:01.624129",
     "status": "completed"
    },
    "tags": []
   },
   "outputs": [],
   "source": [
    "num_features=len(feature_cols)\n",
    "num_targets=len(target_cols)"
   ]
  },
  {
   "cell_type": "code",
   "execution_count": 56,
   "metadata": {
    "execution": {
     "iopub.execute_input": "2020-11-27T19:54:01.860718Z",
     "iopub.status.busy": "2020-11-27T19:54:01.858686Z",
     "iopub.status.idle": "2020-11-27T19:54:01.861440Z",
     "shell.execute_reply": "2020-11-27T19:54:01.861937Z"
    },
    "papermill": {
     "duration": 0.093343,
     "end_time": "2020-11-27T19:54:01.862062",
     "exception": false,
     "start_time": "2020-11-27T19:54:01.768719",
     "status": "completed"
    },
    "tags": []
   },
   "outputs": [],
   "source": [
    "import torch\n",
    "import torch.nn as nn\n",
    "from pytorch_tabnet.metrics import Metric\n",
    "\n",
    "class LabelSmoothing(nn.Module):\n",
    "    \"\"\"\n",
    "    NLL loss with label smoothing.\n",
    "    \"\"\"\n",
    "    def __init__(self, smoothing=0.0, n_cls=2):\n",
    "        \"\"\"\n",
    "        Constructor for the LabelSmoothing module.\n",
    "        :param smoothing: label smoothing factor\n",
    "        \"\"\"\n",
    "        super(LabelSmoothing, self).__init__()\n",
    "        self.confidence = 1.0 - smoothing + smoothing / n_cls\n",
    "        self.smoothing = smoothing / n_cls\n",
    "\n",
    "    def forward(self, x, target):\n",
    "        probs = torch.nn.functional.sigmoid(x,)\n",
    "        # ylogy + (1-y)log(1-y)\n",
    "        #with torch.no_grad():\n",
    "        target1 = self.confidence * target + (1-target) * self.smoothing\n",
    "        #print(target1.cpu())\n",
    "        loss = -(torch.log(probs+1e-15) * target1 + (1-target1) * torch.log(1-probs+1e-15))\n",
    "        #print(loss.cpu())\n",
    "        #nll_loss = -logprobs.gather(dim=-1, index=target.unsqueeze(1))\n",
    "        #nll_loss = nll_loss.squeeze(1)\n",
    "        #smooth_loss = -logprobs.mean(dim=-1)\n",
    "        #loss = self.confidence * nll_loss + self.smoothing * smooth_loss\n",
    "        return loss.mean()\n",
    "    \n",
    "class SmoothedLogLossMetric(Metric):\n",
    "    \"\"\"\n",
    "    BCE with logit loss\n",
    "    \"\"\"\n",
    "    def __init__(self, smoothing=0.001):\n",
    "        self._name = f\"{smoothing:.3f}\" # write an understandable name here\n",
    "        self._maximize = False\n",
    "        self._lossfn = LabelSmoothing(smoothing)\n",
    "\n",
    "    def __call__(self, y_true, y_score):\n",
    "        \"\"\"\n",
    "        \"\"\"\n",
    "        y_true = torch.from_numpy(y_true.astype(np.float32)).clone()\n",
    "        y_score = torch.from_numpy(y_score.astype(np.float32)).clone()\n",
    "#         print(\"smoothed log loss metric: \", self._lossfn(y_score, y_true).to('cpu').detach().numpy().copy())\n",
    "        return self._lossfn(y_score, y_true).to('cpu').detach().numpy().copy().take(0)\n",
    "    \n",
    "class LogLossMetric(Metric):\n",
    "    \"\"\"\n",
    "    BCE with logit loss\n",
    "    \"\"\"\n",
    "    def __init__(self, smoothing=0.0):\n",
    "        self._name = f\"{smoothing:.3f}\" # write an understandable name here\n",
    "        self._maximize = False\n",
    "        self._lossfn = LabelSmoothing(smoothing)\n",
    "\n",
    "    def __call__(self, y_true, y_score):\n",
    "        \"\"\"\n",
    "        \"\"\"\n",
    "        y_true = torch.from_numpy(y_true.astype(np.float32)).clone()\n",
    "        y_score = torch.from_numpy(y_score.astype(np.float32)).clone()\n",
    "#         print(\"log loss metric: \", self._lossfn(y_score, y_true).to('cpu').detach().numpy().copy())\n",
    "        return self._lossfn(y_score, y_true).to('cpu').detach().numpy().copy().take(0)"
   ]
  },
  {
   "cell_type": "code",
   "execution_count": 57,
   "metadata": {
    "execution": {
     "iopub.execute_input": "2020-11-27T19:54:02.027859Z",
     "iopub.status.busy": "2020-11-27T19:54:02.023204Z",
     "iopub.status.idle": "2020-11-27T19:54:02.030293Z",
     "shell.execute_reply": "2020-11-27T19:54:02.030815Z"
    },
    "papermill": {
     "duration": 0.101056,
     "end_time": "2020-11-27T19:54:02.030948",
     "exception": false,
     "start_time": "2020-11-27T19:54:01.929892",
     "status": "completed"
    },
    "tags": []
   },
   "outputs": [],
   "source": [
    "def process_data(data):\n",
    "#     data = pd.get_dummies(data, columns=['cp_time','cp_dose'])\n",
    "    data.loc[:, 'cp_time'] = data.loc[:, 'cp_time'].map({24: 0, 48: 1, 72: 2, 0: 0, 1: 1, 2: 2})\n",
    "    data.loc[:, 'cp_dose'] = data.loc[:, 'cp_dose'].map({'D1': 0, 'D2': 1, 0: 0, 1: 1})   \n",
    "    return data\n",
    "\n",
    "def run_training_tabnet(train, test, trn_idx, val_idx, feature_cols, target_cols, fold, seed, filename=\"tabnet\"):\n",
    "    \n",
    "    seed_everything(seed)\n",
    "    \n",
    "    train_ = process_data(train)\n",
    "    test_ = process_data(test)\n",
    "    \n",
    "    train_df = train_.loc[trn_idx,:].reset_index(drop=True)\n",
    "    valid_df = train_.loc[val_idx,:].reset_index(drop=True)\n",
    "    \n",
    "    x_train, y_train  = train_df[feature_cols].values, train_df[target_cols].values\n",
    "    x_valid, y_valid =  valid_df[feature_cols].values, valid_df[target_cols].values\n",
    "        \n",
    "    model = TabNetRegressor(n_d=32, n_a=32, n_steps=1, lambda_sparse=0,\n",
    "                            cat_dims=[3, 2], cat_emb_dim=[1, 1], cat_idxs=[0, 1],\n",
    "                            optimizer_fn=torch.optim.Adam, optimizer_params=dict(lr=2e-2, weight_decay=1e-5),\n",
    "                            mask_type='entmax',  # device_name=DEVICE,\n",
    "                            scheduler_params=dict(milestones=[100, 150], gamma=0.9),#)\n",
    "                            scheduler_fn=torch.optim.lr_scheduler.MultiStepLR,\n",
    "                            verbose=10,\n",
    "                            seed = seed)\n",
    "    \n",
    "    loss_fn = LabelSmoothing(0.001)\n",
    "#     eval_metric = SmoothedLogLossMetric(0.001)\n",
    "#     eval_metric_nosmoothing = SmoothedLogLossMetric(0.)\n",
    "       \n",
    "    oof = np.zeros((len(train), target.iloc[:, 1:].shape[1]))\n",
    "    \n",
    "    if IS_TRAIN:\n",
    "#         print(\"isnan\", np.any(np.isnan(x_train)))\n",
    "        model.fit(X_train=x_train, y_train=y_train,\n",
    "                  eval_set=[(x_valid, y_valid)], eval_metric=[LogLossMetric, SmoothedLogLossMetric],\n",
    "                  max_epochs=200, patience=50, batch_size=1024, virtual_batch_size=128,\n",
    "                    num_workers=0, drop_last=False, loss_fn=loss_fn\n",
    "                  )\n",
    "        model.save_model(f\"{MODEL_DIR}/{NB}_{filename}_SEED{seed}_FOLD{fold}\")\n",
    "            \n",
    "    #--------------------- PREDICTION---------------------\n",
    "    x_test = test_[feature_cols].values\n",
    "    \n",
    "    model = TabNetRegressor(n_d=32, n_a=32, n_steps=1, lambda_sparse=0,\n",
    "                            cat_dims=[3, 2], cat_emb_dim=[1, 1], cat_idxs=[0, 1],\n",
    "                            optimizer_fn=torch.optim.Adam, optimizer_params=dict(lr=2e-2, weight_decay=1e-5),\n",
    "                            mask_type='entmax',  # device_name=DEVICE,\n",
    "                            scheduler_params=dict(milestones=[100, 150], gamma=0.9),#)\n",
    "                            scheduler_fn=torch.optim.lr_scheduler.MultiStepLR,\n",
    "                            verbose=10,\n",
    "                            seed = seed)\n",
    "    \n",
    "    model.load_model(f\"{MODEL_DIR}/{NB}_{filename}_SEED{seed}_FOLD{fold}.model\")\n",
    "\n",
    "    valid_preds = model.predict(x_valid)\n",
    "\n",
    "    valid_preds = torch.sigmoid(torch.as_tensor(valid_preds)).detach().cpu().numpy()\n",
    "    oof[val_idx] = valid_preds\n",
    "        \n",
    "    predictions = model.predict(x_test)\n",
    "    predictions = torch.sigmoid(torch.as_tensor(predictions)).detach().cpu().numpy()\n",
    "    \n",
    "    return oof, predictions"
   ]
  },
  {
   "cell_type": "code",
   "execution_count": 58,
   "metadata": {
    "execution": {
     "iopub.execute_input": "2020-11-27T19:54:02.184532Z",
     "iopub.status.busy": "2020-11-27T19:54:02.182458Z",
     "iopub.status.idle": "2020-11-27T19:54:02.185310Z",
     "shell.execute_reply": "2020-11-27T19:54:02.185875Z"
    },
    "papermill": {
     "duration": 0.0873,
     "end_time": "2020-11-27T19:54:02.186015",
     "exception": false,
     "start_time": "2020-11-27T19:54:02.098715",
     "status": "completed"
    },
    "tags": []
   },
   "outputs": [],
   "source": [
    "def run_k_fold(train, test, feature_cols, target_cols, NFOLDS, seed):\n",
    "    oof = np.zeros((len(train), len(target_cols)))\n",
    "    predictions = np.zeros((len(test), len(target_cols)))\n",
    "    \n",
    "    mskf = MultilabelStratifiedKFold(n_splits=NFOLDS, shuffle=True, random_state = seed)\n",
    "    \n",
    "    for f, (t_idx, v_idx) in enumerate(mskf.split(X=train, y=target)):\n",
    "        oof_, pred_ = run_training_tabnet(train, test, t_idx, v_idx, feature_cols, target_cols, f, seed)\n",
    "        \n",
    "        predictions += pred_ / NFOLDS / NREPEATS\n",
    "        oof += oof_ / NREPEATS\n",
    "        \n",
    "    return oof, predictions\n",
    "\n",
    "def run_seeds(train, test, feature_cols, target_cols, nfolds=NFOLDS, nseed=NSEEDS):\n",
    "    seed_list = range(nseed)\n",
    "    oof = np.zeros((len(train), len(target_cols)))\n",
    "    predictions = np.zeros((len(test), len(target_cols)))\n",
    "\n",
    "    time_start = time.time()\n",
    "\n",
    "    for seed in seed_list:\n",
    "\n",
    "        oof_, predictions_ = run_k_fold(train, test, feature_cols, target_cols, nfolds, seed)\n",
    "        oof += oof_ / nseed\n",
    "        predictions += predictions_ / nseed\n",
    "        print(f\"seed {seed}, elapsed time: {time.time() - time_start}\")\n",
    "\n",
    "    train[target_cols] = oof\n",
    "    test[target_cols] = predictions"
   ]
  },
  {
   "cell_type": "code",
   "execution_count": 59,
   "metadata": {
    "execution": {
     "iopub.execute_input": "2020-11-27T19:54:02.744687Z",
     "iopub.status.busy": "2020-11-27T19:54:02.743558Z",
     "iopub.status.idle": "2020-11-27T19:54:02.991365Z",
     "shell.execute_reply": "2020-11-27T19:54:02.990738Z"
    },
    "papermill": {
     "duration": 0.733298,
     "end_time": "2020-11-27T19:54:02.991492",
     "exception": false,
     "start_time": "2020-11-27T19:54:02.258194",
     "status": "completed"
    },
    "tags": []
   },
   "outputs": [],
   "source": [
    "train.to_pickle(f\"{INT_DIR}/{NB}_pre_train.pkl\")\n",
    "test.to_pickle(f\"{INT_DIR}/{NB}_pre_test.pkl\")"
   ]
  },
  {
   "cell_type": "code",
   "execution_count": 60,
   "metadata": {
    "execution": {
     "iopub.execute_input": "2020-11-27T19:54:03.145977Z",
     "iopub.status.busy": "2020-11-27T19:54:03.144405Z",
     "iopub.status.idle": "2020-11-27T19:54:46.129496Z",
     "shell.execute_reply": "2020-11-27T19:54:46.127968Z"
    },
    "papermill": {
     "duration": 43.059315,
     "end_time": "2020-11-27T19:54:46.129630",
     "exception": false,
     "start_time": "2020-11-27T19:54:03.070315",
     "status": "completed"
    },
    "tags": []
   },
   "outputs": [
    {
     "name": "stderr",
     "output_type": "stream",
     "text": [
      "/opt/conda/lib/python3.7/site-packages/sklearn/utils/validation.py:70: FutureWarning: Pass shuffle=True, random_state=0 as keyword args. From version 0.25 passing these as positional arguments will result in an error\n",
      "  FutureWarning)\n"
     ]
    },
    {
     "name": "stdout",
     "output_type": "stream",
     "text": [
      "Device used : cuda\n",
      "Device used : cuda\n",
      "Device used : cuda\n",
      "Device used : cuda\n",
      "Device used : cuda\n",
      "Device used : cuda\n",
      "Device used : cuda\n",
      "Device used : cuda\n",
      "Device used : cuda\n",
      "Device used : cuda\n",
      "Device used : cuda\n",
      "Device used : cuda\n",
      "Device used : cuda\n",
      "Device used : cuda\n",
      "Device used : cuda\n",
      "Device used : cuda\n",
      "Device used : cuda\n",
      "Device used : cuda\n",
      "Device used : cuda\n",
      "Device used : cuda\n",
      "Device used : cuda\n",
      "Device used : cuda\n",
      "Device used : cuda\n",
      "Device used : cuda\n",
      "Device used : cuda\n",
      "Device used : cuda\n",
      "Device used : cuda\n",
      "Device used : cuda\n",
      "Device used : cuda\n",
      "Device used : cuda\n",
      "seed 0, elapsed time: 13.851276159286499\n"
     ]
    },
    {
     "name": "stderr",
     "output_type": "stream",
     "text": [
      "/opt/conda/lib/python3.7/site-packages/sklearn/utils/validation.py:70: FutureWarning: Pass shuffle=True, random_state=1 as keyword args. From version 0.25 passing these as positional arguments will result in an error\n",
      "  FutureWarning)\n"
     ]
    },
    {
     "name": "stdout",
     "output_type": "stream",
     "text": [
      "Device used : cuda\n",
      "Device used : cuda\n",
      "Device used : cuda\n",
      "Device used : cuda\n",
      "Device used : cuda\n",
      "Device used : cuda\n",
      "Device used : cuda\n",
      "Device used : cuda\n",
      "Device used : cuda\n",
      "Device used : cuda\n",
      "Device used : cuda\n",
      "Device used : cuda\n",
      "Device used : cuda\n",
      "Device used : cuda\n",
      "Device used : cuda\n",
      "Device used : cuda\n",
      "Device used : cuda\n",
      "Device used : cuda\n",
      "Device used : cuda\n",
      "Device used : cuda\n",
      "Device used : cuda\n",
      "Device used : cuda\n",
      "Device used : cuda\n",
      "Device used : cuda\n",
      "Device used : cuda\n",
      "Device used : cuda\n",
      "Device used : cuda\n",
      "Device used : cuda\n",
      "Device used : cuda\n",
      "Device used : cuda\n",
      "seed 1, elapsed time: 27.237173080444336\n"
     ]
    },
    {
     "name": "stderr",
     "output_type": "stream",
     "text": [
      "/opt/conda/lib/python3.7/site-packages/sklearn/utils/validation.py:70: FutureWarning: Pass shuffle=True, random_state=2 as keyword args. From version 0.25 passing these as positional arguments will result in an error\n",
      "  FutureWarning)\n"
     ]
    },
    {
     "name": "stdout",
     "output_type": "stream",
     "text": [
      "Device used : cuda\n",
      "Device used : cuda\n",
      "Device used : cuda\n",
      "Device used : cuda\n",
      "Device used : cuda\n",
      "Device used : cuda\n",
      "Device used : cuda\n",
      "Device used : cuda\n",
      "Device used : cuda\n",
      "Device used : cuda\n",
      "Device used : cuda\n",
      "Device used : cuda\n",
      "Device used : cuda\n",
      "Device used : cuda\n",
      "Device used : cuda\n",
      "Device used : cuda\n",
      "Device used : cuda\n",
      "Device used : cuda\n",
      "Device used : cuda\n",
      "Device used : cuda\n",
      "Device used : cuda\n",
      "Device used : cuda\n",
      "Device used : cuda\n",
      "Device used : cuda\n",
      "Device used : cuda\n",
      "Device used : cuda\n",
      "Device used : cuda\n",
      "Device used : cuda\n",
      "Device used : cuda\n",
      "Device used : cuda\n",
      "seed 2, elapsed time: 39.915651082992554\n"
     ]
    }
   ],
   "source": [
    "run_seeds(train, test, feature_cols, target_cols, NFOLDS, NSEEDS)"
   ]
  },
  {
   "cell_type": "code",
   "execution_count": 61,
   "metadata": {
    "execution": {
     "iopub.execute_input": "2020-11-27T19:54:46.732907Z",
     "iopub.status.busy": "2020-11-27T19:54:46.718036Z",
     "iopub.status.idle": "2020-11-27T19:54:47.034694Z",
     "shell.execute_reply": "2020-11-27T19:54:47.033947Z"
    },
    "papermill": {
     "duration": 0.816193,
     "end_time": "2020-11-27T19:54:47.034821",
     "exception": false,
     "start_time": "2020-11-27T19:54:46.218628",
     "status": "completed"
    },
    "tags": []
   },
   "outputs": [],
   "source": [
    "train.to_pickle(f\"{INT_DIR}/{NB}_train.pkl\")\n",
    "test.to_pickle(f\"{INT_DIR}/{NB}_test.pkl\")"
   ]
  },
  {
   "cell_type": "code",
   "execution_count": 62,
   "metadata": {
    "execution": {
     "iopub.execute_input": "2020-11-27T19:54:47.229250Z",
     "iopub.status.busy": "2020-11-27T19:54:47.228038Z",
     "iopub.status.idle": "2020-11-27T19:54:48.366480Z",
     "shell.execute_reply": "2020-11-27T19:54:48.366942Z"
    },
    "papermill": {
     "duration": 1.243317,
     "end_time": "2020-11-27T19:54:48.367085",
     "exception": false,
     "start_time": "2020-11-27T19:54:47.123768",
     "status": "completed"
    },
    "tags": []
   },
   "outputs": [
    {
     "name": "stdout",
     "output_type": "stream",
     "text": [
      "CV log_loss:  0.01615536388933484\n"
     ]
    }
   ],
   "source": [
    "# train[target_cols] = np.maximum(PMIN, np.minimum(PMAX, train[target_cols]))\n",
    "valid_results = train_targets_scored.drop(columns=target_cols).merge(train[['sig_id']+target_cols], on='sig_id', how='left').fillna(0)\n",
    "\n",
    "y_true = train_targets_scored[target_cols].values\n",
    "y_true = y_true > 0.5\n",
    "y_pred = valid_results[target_cols].values\n",
    "\n",
    "score = 0\n",
    "for i in range(len(target_cols)):\n",
    "    score_ = log_loss(y_true[:, i], y_pred[:, i])\n",
    "    score += score_ / target.shape[1]\n",
    "    \n",
    "print(\"CV log_loss: \", score)"
   ]
  },
  {
   "cell_type": "code",
   "execution_count": 63,
   "metadata": {
    "execution": {
     "iopub.execute_input": "2020-11-27T19:54:48.552459Z",
     "iopub.status.busy": "2020-11-27T19:54:48.550757Z",
     "iopub.status.idle": "2020-11-27T19:54:50.701217Z",
     "shell.execute_reply": "2020-11-27T19:54:50.700384Z"
    },
    "papermill": {
     "duration": 2.244727,
     "end_time": "2020-11-27T19:54:50.701343",
     "exception": false,
     "start_time": "2020-11-27T19:54:48.456616",
     "status": "completed"
    },
    "tags": []
   },
   "outputs": [],
   "source": [
    "sub = sample_submission.drop(columns=target_cols).merge(test[['sig_id']+target_cols], on='sig_id', how='left').fillna(0)\n",
    "sub.to_csv('submission_2stage_nn_tabnet_0.01837.csv', index=False)"
   ]
  },
  {
   "cell_type": "code",
   "execution_count": 64,
   "metadata": {
    "execution": {
     "iopub.execute_input": "2020-11-27T19:54:50.889413Z",
     "iopub.status.busy": "2020-11-27T19:54:50.888442Z",
     "iopub.status.idle": "2020-11-27T19:54:50.918635Z",
     "shell.execute_reply": "2020-11-27T19:54:50.919134Z"
    },
    "papermill": {
     "duration": 0.128282,
     "end_time": "2020-11-27T19:54:50.919269",
     "exception": false,
     "start_time": "2020-11-27T19:54:50.790987",
     "status": "completed"
    },
    "tags": []
   },
   "outputs": [
    {
     "data": {
      "text/html": [
       "<div>\n",
       "<style scoped>\n",
       "    .dataframe tbody tr th:only-of-type {\n",
       "        vertical-align: middle;\n",
       "    }\n",
       "\n",
       "    .dataframe tbody tr th {\n",
       "        vertical-align: top;\n",
       "    }\n",
       "\n",
       "    .dataframe thead th {\n",
       "        text-align: right;\n",
       "    }\n",
       "</style>\n",
       "<table border=\"1\" class=\"dataframe\">\n",
       "  <thead>\n",
       "    <tr style=\"text-align: right;\">\n",
       "      <th></th>\n",
       "      <th>sig_id</th>\n",
       "      <th>5-alpha_reductase_inhibitor</th>\n",
       "      <th>11-beta-hsd1_inhibitor</th>\n",
       "      <th>acat_inhibitor</th>\n",
       "      <th>acetylcholine_receptor_agonist</th>\n",
       "      <th>acetylcholine_receptor_antagonist</th>\n",
       "      <th>acetylcholinesterase_inhibitor</th>\n",
       "      <th>adenosine_receptor_agonist</th>\n",
       "      <th>adenosine_receptor_antagonist</th>\n",
       "      <th>adenylyl_cyclase_activator</th>\n",
       "      <th>...</th>\n",
       "      <th>tropomyosin_receptor_kinase_inhibitor</th>\n",
       "      <th>trpv_agonist</th>\n",
       "      <th>trpv_antagonist</th>\n",
       "      <th>tubulin_inhibitor</th>\n",
       "      <th>tyrosine_kinase_inhibitor</th>\n",
       "      <th>ubiquitin_specific_protease_inhibitor</th>\n",
       "      <th>vegfr_inhibitor</th>\n",
       "      <th>vitamin_b</th>\n",
       "      <th>vitamin_d_receptor_agonist</th>\n",
       "      <th>wnt_inhibitor</th>\n",
       "    </tr>\n",
       "  </thead>\n",
       "  <tbody>\n",
       "    <tr>\n",
       "      <th>0</th>\n",
       "      <td>id_0004d9e33</td>\n",
       "      <td>0.001479</td>\n",
       "      <td>0.001614</td>\n",
       "      <td>0.002448</td>\n",
       "      <td>0.017262</td>\n",
       "      <td>0.022049</td>\n",
       "      <td>0.004694</td>\n",
       "      <td>0.003065</td>\n",
       "      <td>0.006627</td>\n",
       "      <td>0.000667</td>\n",
       "      <td>...</td>\n",
       "      <td>0.001245</td>\n",
       "      <td>0.001421</td>\n",
       "      <td>0.004148</td>\n",
       "      <td>0.001380</td>\n",
       "      <td>0.001331</td>\n",
       "      <td>0.001086</td>\n",
       "      <td>0.001518</td>\n",
       "      <td>0.002656</td>\n",
       "      <td>0.004353</td>\n",
       "      <td>0.002378</td>\n",
       "    </tr>\n",
       "    <tr>\n",
       "      <th>1</th>\n",
       "      <td>id_001897cda</td>\n",
       "      <td>0.000953</td>\n",
       "      <td>0.001477</td>\n",
       "      <td>0.002578</td>\n",
       "      <td>0.003219</td>\n",
       "      <td>0.001509</td>\n",
       "      <td>0.001807</td>\n",
       "      <td>0.003771</td>\n",
       "      <td>0.011833</td>\n",
       "      <td>0.004668</td>\n",
       "      <td>...</td>\n",
       "      <td>0.001544</td>\n",
       "      <td>0.002179</td>\n",
       "      <td>0.004351</td>\n",
       "      <td>0.001128</td>\n",
       "      <td>0.007466</td>\n",
       "      <td>0.001158</td>\n",
       "      <td>0.014556</td>\n",
       "      <td>0.001841</td>\n",
       "      <td>0.008543</td>\n",
       "      <td>0.003475</td>\n",
       "    </tr>\n",
       "    <tr>\n",
       "      <th>2</th>\n",
       "      <td>id_002429b5b</td>\n",
       "      <td>0.000000</td>\n",
       "      <td>0.000000</td>\n",
       "      <td>0.000000</td>\n",
       "      <td>0.000000</td>\n",
       "      <td>0.000000</td>\n",
       "      <td>0.000000</td>\n",
       "      <td>0.000000</td>\n",
       "      <td>0.000000</td>\n",
       "      <td>0.000000</td>\n",
       "      <td>...</td>\n",
       "      <td>0.000000</td>\n",
       "      <td>0.000000</td>\n",
       "      <td>0.000000</td>\n",
       "      <td>0.000000</td>\n",
       "      <td>0.000000</td>\n",
       "      <td>0.000000</td>\n",
       "      <td>0.000000</td>\n",
       "      <td>0.000000</td>\n",
       "      <td>0.000000</td>\n",
       "      <td>0.000000</td>\n",
       "    </tr>\n",
       "    <tr>\n",
       "      <th>3</th>\n",
       "      <td>id_00276f245</td>\n",
       "      <td>0.001483</td>\n",
       "      <td>0.001580</td>\n",
       "      <td>0.001745</td>\n",
       "      <td>0.012090</td>\n",
       "      <td>0.021173</td>\n",
       "      <td>0.005086</td>\n",
       "      <td>0.003205</td>\n",
       "      <td>0.005100</td>\n",
       "      <td>0.000547</td>\n",
       "      <td>...</td>\n",
       "      <td>0.000976</td>\n",
       "      <td>0.001483</td>\n",
       "      <td>0.002524</td>\n",
       "      <td>0.007928</td>\n",
       "      <td>0.003451</td>\n",
       "      <td>0.001066</td>\n",
       "      <td>0.001644</td>\n",
       "      <td>0.002220</td>\n",
       "      <td>0.000791</td>\n",
       "      <td>0.002300</td>\n",
       "    </tr>\n",
       "    <tr>\n",
       "      <th>4</th>\n",
       "      <td>id_0027f1083</td>\n",
       "      <td>0.001721</td>\n",
       "      <td>0.001817</td>\n",
       "      <td>0.002053</td>\n",
       "      <td>0.015295</td>\n",
       "      <td>0.017612</td>\n",
       "      <td>0.004373</td>\n",
       "      <td>0.004153</td>\n",
       "      <td>0.002963</td>\n",
       "      <td>0.000801</td>\n",
       "      <td>...</td>\n",
       "      <td>0.001175</td>\n",
       "      <td>0.001278</td>\n",
       "      <td>0.003233</td>\n",
       "      <td>0.003005</td>\n",
       "      <td>0.002026</td>\n",
       "      <td>0.001157</td>\n",
       "      <td>0.001295</td>\n",
       "      <td>0.002373</td>\n",
       "      <td>0.000968</td>\n",
       "      <td>0.002317</td>\n",
       "    </tr>\n",
       "    <tr>\n",
       "      <th>...</th>\n",
       "      <td>...</td>\n",
       "      <td>...</td>\n",
       "      <td>...</td>\n",
       "      <td>...</td>\n",
       "      <td>...</td>\n",
       "      <td>...</td>\n",
       "      <td>...</td>\n",
       "      <td>...</td>\n",
       "      <td>...</td>\n",
       "      <td>...</td>\n",
       "      <td>...</td>\n",
       "      <td>...</td>\n",
       "      <td>...</td>\n",
       "      <td>...</td>\n",
       "      <td>...</td>\n",
       "      <td>...</td>\n",
       "      <td>...</td>\n",
       "      <td>...</td>\n",
       "      <td>...</td>\n",
       "      <td>...</td>\n",
       "      <td>...</td>\n",
       "    </tr>\n",
       "    <tr>\n",
       "      <th>3977</th>\n",
       "      <td>id_ff7004b87</td>\n",
       "      <td>0.001266</td>\n",
       "      <td>0.001792</td>\n",
       "      <td>0.001866</td>\n",
       "      <td>0.003539</td>\n",
       "      <td>0.005772</td>\n",
       "      <td>0.002789</td>\n",
       "      <td>0.002478</td>\n",
       "      <td>0.004969</td>\n",
       "      <td>0.000928</td>\n",
       "      <td>...</td>\n",
       "      <td>0.001017</td>\n",
       "      <td>0.005324</td>\n",
       "      <td>0.002808</td>\n",
       "      <td>0.155837</td>\n",
       "      <td>0.011887</td>\n",
       "      <td>0.001257</td>\n",
       "      <td>0.007609</td>\n",
       "      <td>0.001582</td>\n",
       "      <td>0.002071</td>\n",
       "      <td>0.001850</td>\n",
       "    </tr>\n",
       "    <tr>\n",
       "      <th>3978</th>\n",
       "      <td>id_ff925dd0d</td>\n",
       "      <td>0.002180</td>\n",
       "      <td>0.002096</td>\n",
       "      <td>0.001745</td>\n",
       "      <td>0.010770</td>\n",
       "      <td>0.018468</td>\n",
       "      <td>0.005237</td>\n",
       "      <td>0.003905</td>\n",
       "      <td>0.004057</td>\n",
       "      <td>0.001064</td>\n",
       "      <td>...</td>\n",
       "      <td>0.001122</td>\n",
       "      <td>0.001283</td>\n",
       "      <td>0.002947</td>\n",
       "      <td>0.003013</td>\n",
       "      <td>0.003006</td>\n",
       "      <td>0.001268</td>\n",
       "      <td>0.002162</td>\n",
       "      <td>0.002400</td>\n",
       "      <td>0.000888</td>\n",
       "      <td>0.002388</td>\n",
       "    </tr>\n",
       "    <tr>\n",
       "      <th>3979</th>\n",
       "      <td>id_ffb710450</td>\n",
       "      <td>0.001957</td>\n",
       "      <td>0.001827</td>\n",
       "      <td>0.001558</td>\n",
       "      <td>0.014456</td>\n",
       "      <td>0.031829</td>\n",
       "      <td>0.006050</td>\n",
       "      <td>0.003181</td>\n",
       "      <td>0.004452</td>\n",
       "      <td>0.000598</td>\n",
       "      <td>...</td>\n",
       "      <td>0.000957</td>\n",
       "      <td>0.000985</td>\n",
       "      <td>0.002724</td>\n",
       "      <td>0.002266</td>\n",
       "      <td>0.001896</td>\n",
       "      <td>0.001076</td>\n",
       "      <td>0.001370</td>\n",
       "      <td>0.002226</td>\n",
       "      <td>0.001080</td>\n",
       "      <td>0.002158</td>\n",
       "    </tr>\n",
       "    <tr>\n",
       "      <th>3980</th>\n",
       "      <td>id_ffbb869f2</td>\n",
       "      <td>0.002015</td>\n",
       "      <td>0.001779</td>\n",
       "      <td>0.001648</td>\n",
       "      <td>0.017285</td>\n",
       "      <td>0.027618</td>\n",
       "      <td>0.005360</td>\n",
       "      <td>0.004947</td>\n",
       "      <td>0.003981</td>\n",
       "      <td>0.001114</td>\n",
       "      <td>...</td>\n",
       "      <td>0.001019</td>\n",
       "      <td>0.000998</td>\n",
       "      <td>0.002958</td>\n",
       "      <td>0.002734</td>\n",
       "      <td>0.001935</td>\n",
       "      <td>0.001007</td>\n",
       "      <td>0.001194</td>\n",
       "      <td>0.002325</td>\n",
       "      <td>0.000882</td>\n",
       "      <td>0.002495</td>\n",
       "    </tr>\n",
       "    <tr>\n",
       "      <th>3981</th>\n",
       "      <td>id_ffd5800b6</td>\n",
       "      <td>0.001562</td>\n",
       "      <td>0.001683</td>\n",
       "      <td>0.001858</td>\n",
       "      <td>0.015904</td>\n",
       "      <td>0.024205</td>\n",
       "      <td>0.005524</td>\n",
       "      <td>0.002943</td>\n",
       "      <td>0.004001</td>\n",
       "      <td>0.000520</td>\n",
       "      <td>...</td>\n",
       "      <td>0.001060</td>\n",
       "      <td>0.001717</td>\n",
       "      <td>0.003088</td>\n",
       "      <td>0.006793</td>\n",
       "      <td>0.001888</td>\n",
       "      <td>0.001150</td>\n",
       "      <td>0.001063</td>\n",
       "      <td>0.002422</td>\n",
       "      <td>0.001073</td>\n",
       "      <td>0.002042</td>\n",
       "    </tr>\n",
       "  </tbody>\n",
       "</table>\n",
       "<p>3982 rows × 207 columns</p>\n",
       "</div>"
      ],
      "text/plain": [
       "            sig_id  5-alpha_reductase_inhibitor  11-beta-hsd1_inhibitor  \\\n",
       "0     id_0004d9e33                     0.001479                0.001614   \n",
       "1     id_001897cda                     0.000953                0.001477   \n",
       "2     id_002429b5b                     0.000000                0.000000   \n",
       "3     id_00276f245                     0.001483                0.001580   \n",
       "4     id_0027f1083                     0.001721                0.001817   \n",
       "...            ...                          ...                     ...   \n",
       "3977  id_ff7004b87                     0.001266                0.001792   \n",
       "3978  id_ff925dd0d                     0.002180                0.002096   \n",
       "3979  id_ffb710450                     0.001957                0.001827   \n",
       "3980  id_ffbb869f2                     0.002015                0.001779   \n",
       "3981  id_ffd5800b6                     0.001562                0.001683   \n",
       "\n",
       "      acat_inhibitor  acetylcholine_receptor_agonist  \\\n",
       "0           0.002448                        0.017262   \n",
       "1           0.002578                        0.003219   \n",
       "2           0.000000                        0.000000   \n",
       "3           0.001745                        0.012090   \n",
       "4           0.002053                        0.015295   \n",
       "...              ...                             ...   \n",
       "3977        0.001866                        0.003539   \n",
       "3978        0.001745                        0.010770   \n",
       "3979        0.001558                        0.014456   \n",
       "3980        0.001648                        0.017285   \n",
       "3981        0.001858                        0.015904   \n",
       "\n",
       "      acetylcholine_receptor_antagonist  acetylcholinesterase_inhibitor  \\\n",
       "0                              0.022049                        0.004694   \n",
       "1                              0.001509                        0.001807   \n",
       "2                              0.000000                        0.000000   \n",
       "3                              0.021173                        0.005086   \n",
       "4                              0.017612                        0.004373   \n",
       "...                                 ...                             ...   \n",
       "3977                           0.005772                        0.002789   \n",
       "3978                           0.018468                        0.005237   \n",
       "3979                           0.031829                        0.006050   \n",
       "3980                           0.027618                        0.005360   \n",
       "3981                           0.024205                        0.005524   \n",
       "\n",
       "      adenosine_receptor_agonist  adenosine_receptor_antagonist  \\\n",
       "0                       0.003065                       0.006627   \n",
       "1                       0.003771                       0.011833   \n",
       "2                       0.000000                       0.000000   \n",
       "3                       0.003205                       0.005100   \n",
       "4                       0.004153                       0.002963   \n",
       "...                          ...                            ...   \n",
       "3977                    0.002478                       0.004969   \n",
       "3978                    0.003905                       0.004057   \n",
       "3979                    0.003181                       0.004452   \n",
       "3980                    0.004947                       0.003981   \n",
       "3981                    0.002943                       0.004001   \n",
       "\n",
       "      adenylyl_cyclase_activator  ...  tropomyosin_receptor_kinase_inhibitor  \\\n",
       "0                       0.000667  ...                               0.001245   \n",
       "1                       0.004668  ...                               0.001544   \n",
       "2                       0.000000  ...                               0.000000   \n",
       "3                       0.000547  ...                               0.000976   \n",
       "4                       0.000801  ...                               0.001175   \n",
       "...                          ...  ...                                    ...   \n",
       "3977                    0.000928  ...                               0.001017   \n",
       "3978                    0.001064  ...                               0.001122   \n",
       "3979                    0.000598  ...                               0.000957   \n",
       "3980                    0.001114  ...                               0.001019   \n",
       "3981                    0.000520  ...                               0.001060   \n",
       "\n",
       "      trpv_agonist  trpv_antagonist  tubulin_inhibitor  \\\n",
       "0         0.001421         0.004148           0.001380   \n",
       "1         0.002179         0.004351           0.001128   \n",
       "2         0.000000         0.000000           0.000000   \n",
       "3         0.001483         0.002524           0.007928   \n",
       "4         0.001278         0.003233           0.003005   \n",
       "...            ...              ...                ...   \n",
       "3977      0.005324         0.002808           0.155837   \n",
       "3978      0.001283         0.002947           0.003013   \n",
       "3979      0.000985         0.002724           0.002266   \n",
       "3980      0.000998         0.002958           0.002734   \n",
       "3981      0.001717         0.003088           0.006793   \n",
       "\n",
       "      tyrosine_kinase_inhibitor  ubiquitin_specific_protease_inhibitor  \\\n",
       "0                      0.001331                               0.001086   \n",
       "1                      0.007466                               0.001158   \n",
       "2                      0.000000                               0.000000   \n",
       "3                      0.003451                               0.001066   \n",
       "4                      0.002026                               0.001157   \n",
       "...                         ...                                    ...   \n",
       "3977                   0.011887                               0.001257   \n",
       "3978                   0.003006                               0.001268   \n",
       "3979                   0.001896                               0.001076   \n",
       "3980                   0.001935                               0.001007   \n",
       "3981                   0.001888                               0.001150   \n",
       "\n",
       "      vegfr_inhibitor  vitamin_b  vitamin_d_receptor_agonist  wnt_inhibitor  \n",
       "0            0.001518   0.002656                    0.004353       0.002378  \n",
       "1            0.014556   0.001841                    0.008543       0.003475  \n",
       "2            0.000000   0.000000                    0.000000       0.000000  \n",
       "3            0.001644   0.002220                    0.000791       0.002300  \n",
       "4            0.001295   0.002373                    0.000968       0.002317  \n",
       "...               ...        ...                         ...            ...  \n",
       "3977         0.007609   0.001582                    0.002071       0.001850  \n",
       "3978         0.002162   0.002400                    0.000888       0.002388  \n",
       "3979         0.001370   0.002226                    0.001080       0.002158  \n",
       "3980         0.001194   0.002325                    0.000882       0.002495  \n",
       "3981         0.001063   0.002422                    0.001073       0.002042  \n",
       "\n",
       "[3982 rows x 207 columns]"
      ]
     },
     "execution_count": 64,
     "metadata": {},
     "output_type": "execute_result"
    }
   ],
   "source": [
    "sub"
   ]
  },
  {
   "cell_type": "code",
   "execution_count": null,
   "metadata": {
    "papermill": {
     "duration": 0.087916,
     "end_time": "2020-11-27T19:54:51.095290",
     "exception": false,
     "start_time": "2020-11-27T19:54:51.007374",
     "status": "completed"
    },
    "tags": []
   },
   "outputs": [],
   "source": []
  }
 ],
 "metadata": {
  "kernelspec": {
   "display_name": "Python 3",
   "language": "python",
   "name": "python3"
  },
  "language_info": {
   "codemirror_mode": {
    "name": "ipython",
    "version": 3
   },
   "file_extension": ".py",
   "mimetype": "text/x-python",
   "name": "python",
   "nbconvert_exporter": "python",
   "pygments_lexer": "ipython3",
   "version": "3.7.2"
  },
  "papermill": {
   "duration": 395.092252,
   "end_time": "2020-11-27T19:54:52.256145",
   "environment_variables": {},
   "exception": null,
   "input_path": "__notebook__.ipynb",
   "output_path": "__notebook__.ipynb",
   "parameters": {},
   "start_time": "2020-11-27T19:48:17.163893",
   "version": "2.1.0"
  }
 },
 "nbformat": 4,
 "nbformat_minor": 4
}
